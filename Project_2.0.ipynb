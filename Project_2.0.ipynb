{
 "cells": [
  {
   "cell_type": "code",
   "execution_count": null,
   "metadata": {},
   "outputs": [],
   "source": []
  },
  {
   "cell_type": "markdown",
   "metadata": {
    "toc": true
   },
   "source": [
    "<h1>Содержание<span class=\"tocSkip\"></span></h1>\n",
    "<div class=\"toc\"><ul class=\"toc-item\"><li><span><a href=\"#Подготовка-данных\" data-toc-modified-id=\"Подготовка-данных-1\"><span class=\"toc-item-num\">1&nbsp;&nbsp;</span>Подготовка данных</a></span></li><li><span><a href=\"#Исследование-задачи\" data-toc-modified-id=\"Исследование-задачи-2\"><span class=\"toc-item-num\">2&nbsp;&nbsp;</span>Исследование задачи</a></span><ul class=\"toc-item\"><li><span><a href=\"#Дерево-решений\" data-toc-modified-id=\"Дерево-решений-2.1\"><span class=\"toc-item-num\">2.1&nbsp;&nbsp;</span>Дерево решений</a></span></li><li><span><a href=\"#Случайный-лес\" data-toc-modified-id=\"Случайный-лес-2.2\"><span class=\"toc-item-num\">2.2&nbsp;&nbsp;</span>Случайный лес</a></span></li><li><span><a href=\"#Логистическая-регрессия\" data-toc-modified-id=\"Логистическая-регрессия-2.3\"><span class=\"toc-item-num\">2.3&nbsp;&nbsp;</span>Логистическая регрессия</a></span></li></ul></li><li><span><a href=\"#Борьба-с-дисбалансом\" data-toc-modified-id=\"Борьба-с-дисбалансом-3\"><span class=\"toc-item-num\">3&nbsp;&nbsp;</span>Борьба с дисбалансом</a></span><ul class=\"toc-item\"><li><span><a href=\"#Дерево-решений\" data-toc-modified-id=\"Дерево-решений-3.1\"><span class=\"toc-item-num\">3.1&nbsp;&nbsp;</span>Дерево решений</a></span></li><li><span><a href=\"#Случайный-лес\" data-toc-modified-id=\"Случайный-лес-3.2\"><span class=\"toc-item-num\">3.2&nbsp;&nbsp;</span>Случайный лес</a></span></li><li><span><a href=\"#Логистическая-регрессия\" data-toc-modified-id=\"Логистическая-регрессия-3.3\"><span class=\"toc-item-num\">3.3&nbsp;&nbsp;</span>Логистическая регрессия</a></span></li></ul></li><li><span><a href=\"#Тестирование-модели\" data-toc-modified-id=\"Тестирование-модели-4\"><span class=\"toc-item-num\">4&nbsp;&nbsp;</span>Тестирование модели</a></span></li><li><span><a href=\"#Чек-лист-готовности-проекта\" data-toc-modified-id=\"Чек-лист-готовности-проекта-5\"><span class=\"toc-item-num\">5&nbsp;&nbsp;</span>Чек-лист готовности проекта</a></span></li></ul></div>"
   ]
  },
  {
   "cell_type": "markdown",
   "metadata": {},
   "source": [
    "# Отток клиентов"
   ]
  },
  {
   "cell_type": "markdown",
   "metadata": {},
   "source": [
    "Из «Бета-Банка» стали уходить клиенты. Каждый месяц. Немного, но заметно. Банковские маркетологи посчитали: сохранять текущих клиентов дешевле, чем привлекать новых.\n",
    "\n",
    "Нужно спрогнозировать, уйдёт клиент из банка в ближайшее время или нет. Вам предоставлены исторические данные о поведении клиентов и расторжении договоров с банком. \n",
    "\n",
    "Постройте модель с предельно большим значением *F1*-меры. Чтобы сдать проект успешно, нужно довести метрику до 0.59. Проверьте *F1*-меру на тестовой выборке самостоятельно.\n",
    "\n",
    "Дополнительно измеряйте *AUC-ROC*, сравнивайте её значение с *F1*-мерой.\n",
    "\n",
    "Источник данных: [https://www.kaggle.com/barelydedicated/bank-customer-churn-modeling](https://www.kaggle.com/barelydedicated/bank-customer-churn-modeling)"
   ]
  },
  {
   "cell_type": "markdown",
   "metadata": {},
   "source": [
    "\n",
    "<b>Ответ студента №1</b>\n",
    "    \n",
    "Цель исследования заключется в построении наилучшей с точки зрения меры F1 модели класификации \"поведения\" клиентов Банка, что позволит прогнозировать вероятность ухода клента Банка.\n",
    "    \n",
    "План работы:\n",
    "\n",
    "1.1 Получение и подготовка данных:\n",
    "- загрузить данные\n",
    "- получить первое представление о данных: типы переменных, отсутствующие значения, повторы, аномалии\n",
    "- предобработка данных: восстановление пропусков, изменение типов переменных, обработка скрытых дубликатов и повторов, обработка ошибок в данных\n",
    "2. Исследование задачи\n",
    "- подготовка данных для использования в моделях: выделение категориальных переменных в отдельные dummy переменные, нормализация числовых переменных,\n",
    "- разбиение данных на тренировочный, валидационный и тестовые наборы\n",
    "- построение моделей: дерева решений, случайного леса и логистической регрессии - на основе несбалансированных данных\n",
    "- обучение моделей на тренировочных данных и определение наилучших моделей на основе валидационных данных\n",
    "3. Балансировка даных и построение на их основе тренировочных данных указанных выше моделей классификации. Определение наилучших моделей на основе валидационных даных. \n",
    "4. Проверка наилучших моделей на тестовой выборке\n",
    "5. Вывод об итогах исследования\n",
    "</div>"
   ]
  },
  {
   "cell_type": "code",
   "execution_count": 1,
   "metadata": {},
   "outputs": [],
   "source": [
    "import pandas as pd\n",
    "import matplotlib.pyplot as plt\n",
    "import numpy as np\n",
    "pd.set_option('display.float_format', '{:,.2f}'.format)\n",
    "\n",
    "import warnings\n",
    "warnings.filterwarnings(\"ignore\")\n",
    "\n",
    "from sklearn.tree import DecisionTreeClassifier\n",
    "from sklearn.ensemble import RandomForestClassifier\n",
    "from sklearn.linear_model import LogisticRegression\n",
    "\n",
    "from sklearn.metrics import f1_score, roc_curve, roc_auc_score\n",
    "from sklearn.model_selection import train_test_split\n",
    "\n",
    "from sklearn.preprocessing import StandardScaler\n",
    "from sklearn.utils import shuffle\n",
    "\n",
    "from patsy import dmatrices\n",
    "from statsmodels.stats.outliers_influence import variance_inflation_factor"
   ]
  },
  {
   "cell_type": "markdown",
   "metadata": {},
   "source": [
    "## Подготовка данных"
   ]
  },
  {
   "cell_type": "code",
   "execution_count": 2,
   "metadata": {},
   "outputs": [
    {
     "name": "stdout",
     "output_type": "stream",
     "text": [
      "<class 'pandas.core.frame.DataFrame'>\n",
      "RangeIndex: 10000 entries, 0 to 9999\n",
      "Data columns (total 14 columns):\n",
      " #   Column           Non-Null Count  Dtype  \n",
      "---  ------           --------------  -----  \n",
      " 0   RowNumber        10000 non-null  int64  \n",
      " 1   CustomerId       10000 non-null  int64  \n",
      " 2   Surname          10000 non-null  object \n",
      " 3   CreditScore      10000 non-null  int64  \n",
      " 4   Geography        10000 non-null  object \n",
      " 5   Gender           10000 non-null  object \n",
      " 6   Age              10000 non-null  int64  \n",
      " 7   Tenure           9091 non-null   float64\n",
      " 8   Balance          10000 non-null  float64\n",
      " 9   NumOfProducts    10000 non-null  int64  \n",
      " 10  HasCrCard        10000 non-null  int64  \n",
      " 11  IsActiveMember   10000 non-null  int64  \n",
      " 12  EstimatedSalary  10000 non-null  float64\n",
      " 13  Exited           10000 non-null  int64  \n",
      "dtypes: float64(3), int64(8), object(3)\n",
      "memory usage: 1.1+ MB\n"
     ]
    },
    {
     "data": {
      "text/plain": [
       "None"
      ]
     },
     "metadata": {},
     "output_type": "display_data"
    },
    {
     "data": {
      "text/html": [
       "<div>\n",
       "<style scoped>\n",
       "    .dataframe tbody tr th:only-of-type {\n",
       "        vertical-align: middle;\n",
       "    }\n",
       "\n",
       "    .dataframe tbody tr th {\n",
       "        vertical-align: top;\n",
       "    }\n",
       "\n",
       "    .dataframe thead th {\n",
       "        text-align: right;\n",
       "    }\n",
       "</style>\n",
       "<table border=\"1\" class=\"dataframe\">\n",
       "  <thead>\n",
       "    <tr style=\"text-align: right;\">\n",
       "      <th></th>\n",
       "      <th>RowNumber</th>\n",
       "      <th>CustomerId</th>\n",
       "      <th>Surname</th>\n",
       "      <th>CreditScore</th>\n",
       "      <th>Geography</th>\n",
       "      <th>Gender</th>\n",
       "      <th>Age</th>\n",
       "      <th>Tenure</th>\n",
       "      <th>Balance</th>\n",
       "      <th>NumOfProducts</th>\n",
       "      <th>HasCrCard</th>\n",
       "      <th>IsActiveMember</th>\n",
       "      <th>EstimatedSalary</th>\n",
       "      <th>Exited</th>\n",
       "    </tr>\n",
       "  </thead>\n",
       "  <tbody>\n",
       "    <tr>\n",
       "      <th>0</th>\n",
       "      <td>1</td>\n",
       "      <td>15634602</td>\n",
       "      <td>Hargrave</td>\n",
       "      <td>619</td>\n",
       "      <td>France</td>\n",
       "      <td>Female</td>\n",
       "      <td>42</td>\n",
       "      <td>2.00</td>\n",
       "      <td>0.00</td>\n",
       "      <td>1</td>\n",
       "      <td>1</td>\n",
       "      <td>1</td>\n",
       "      <td>101,348.88</td>\n",
       "      <td>1</td>\n",
       "    </tr>\n",
       "    <tr>\n",
       "      <th>1</th>\n",
       "      <td>2</td>\n",
       "      <td>15647311</td>\n",
       "      <td>Hill</td>\n",
       "      <td>608</td>\n",
       "      <td>Spain</td>\n",
       "      <td>Female</td>\n",
       "      <td>41</td>\n",
       "      <td>1.00</td>\n",
       "      <td>83,807.86</td>\n",
       "      <td>1</td>\n",
       "      <td>0</td>\n",
       "      <td>1</td>\n",
       "      <td>112,542.58</td>\n",
       "      <td>0</td>\n",
       "    </tr>\n",
       "    <tr>\n",
       "      <th>2</th>\n",
       "      <td>3</td>\n",
       "      <td>15619304</td>\n",
       "      <td>Onio</td>\n",
       "      <td>502</td>\n",
       "      <td>France</td>\n",
       "      <td>Female</td>\n",
       "      <td>42</td>\n",
       "      <td>8.00</td>\n",
       "      <td>159,660.80</td>\n",
       "      <td>3</td>\n",
       "      <td>1</td>\n",
       "      <td>0</td>\n",
       "      <td>113,931.57</td>\n",
       "      <td>1</td>\n",
       "    </tr>\n",
       "    <tr>\n",
       "      <th>3</th>\n",
       "      <td>4</td>\n",
       "      <td>15701354</td>\n",
       "      <td>Boni</td>\n",
       "      <td>699</td>\n",
       "      <td>France</td>\n",
       "      <td>Female</td>\n",
       "      <td>39</td>\n",
       "      <td>1.00</td>\n",
       "      <td>0.00</td>\n",
       "      <td>2</td>\n",
       "      <td>0</td>\n",
       "      <td>0</td>\n",
       "      <td>93,826.63</td>\n",
       "      <td>0</td>\n",
       "    </tr>\n",
       "    <tr>\n",
       "      <th>4</th>\n",
       "      <td>5</td>\n",
       "      <td>15737888</td>\n",
       "      <td>Mitchell</td>\n",
       "      <td>850</td>\n",
       "      <td>Spain</td>\n",
       "      <td>Female</td>\n",
       "      <td>43</td>\n",
       "      <td>2.00</td>\n",
       "      <td>125,510.82</td>\n",
       "      <td>1</td>\n",
       "      <td>1</td>\n",
       "      <td>1</td>\n",
       "      <td>79,084.10</td>\n",
       "      <td>0</td>\n",
       "    </tr>\n",
       "  </tbody>\n",
       "</table>\n",
       "</div>"
      ],
      "text/plain": [
       "   RowNumber  CustomerId   Surname  CreditScore Geography  Gender  Age  \\\n",
       "0          1    15634602  Hargrave          619    France  Female   42   \n",
       "1          2    15647311      Hill          608     Spain  Female   41   \n",
       "2          3    15619304      Onio          502    France  Female   42   \n",
       "3          4    15701354      Boni          699    France  Female   39   \n",
       "4          5    15737888  Mitchell          850     Spain  Female   43   \n",
       "\n",
       "   Tenure    Balance  NumOfProducts  HasCrCard  IsActiveMember  \\\n",
       "0    2.00       0.00              1          1               1   \n",
       "1    1.00  83,807.86              1          0               1   \n",
       "2    8.00 159,660.80              3          1               0   \n",
       "3    1.00       0.00              2          0               0   \n",
       "4    2.00 125,510.82              1          1               1   \n",
       "\n",
       "   EstimatedSalary  Exited  \n",
       "0       101,348.88       1  \n",
       "1       112,542.58       0  \n",
       "2       113,931.57       1  \n",
       "3        93,826.63       0  \n",
       "4        79,084.10       0  "
      ]
     },
     "metadata": {},
     "output_type": "display_data"
    },
    {
     "data": {
      "text/html": [
       "<div>\n",
       "<style scoped>\n",
       "    .dataframe tbody tr th:only-of-type {\n",
       "        vertical-align: middle;\n",
       "    }\n",
       "\n",
       "    .dataframe tbody tr th {\n",
       "        vertical-align: top;\n",
       "    }\n",
       "\n",
       "    .dataframe thead th {\n",
       "        text-align: right;\n",
       "    }\n",
       "</style>\n",
       "<table border=\"1\" class=\"dataframe\">\n",
       "  <thead>\n",
       "    <tr style=\"text-align: right;\">\n",
       "      <th></th>\n",
       "      <th>RowNumber</th>\n",
       "      <th>CustomerId</th>\n",
       "      <th>CreditScore</th>\n",
       "      <th>Age</th>\n",
       "      <th>Tenure</th>\n",
       "      <th>Balance</th>\n",
       "      <th>NumOfProducts</th>\n",
       "      <th>HasCrCard</th>\n",
       "      <th>IsActiveMember</th>\n",
       "      <th>EstimatedSalary</th>\n",
       "      <th>Exited</th>\n",
       "    </tr>\n",
       "  </thead>\n",
       "  <tbody>\n",
       "    <tr>\n",
       "      <th>count</th>\n",
       "      <td>10,000.00</td>\n",
       "      <td>10,000.00</td>\n",
       "      <td>10,000.00</td>\n",
       "      <td>10,000.00</td>\n",
       "      <td>9,091.00</td>\n",
       "      <td>10,000.00</td>\n",
       "      <td>10,000.00</td>\n",
       "      <td>10,000.00</td>\n",
       "      <td>10,000.00</td>\n",
       "      <td>10,000.00</td>\n",
       "      <td>10,000.00</td>\n",
       "    </tr>\n",
       "    <tr>\n",
       "      <th>mean</th>\n",
       "      <td>5,000.50</td>\n",
       "      <td>15,690,940.57</td>\n",
       "      <td>650.53</td>\n",
       "      <td>38.92</td>\n",
       "      <td>5.00</td>\n",
       "      <td>76,485.89</td>\n",
       "      <td>1.53</td>\n",
       "      <td>0.71</td>\n",
       "      <td>0.52</td>\n",
       "      <td>100,090.24</td>\n",
       "      <td>0.20</td>\n",
       "    </tr>\n",
       "    <tr>\n",
       "      <th>std</th>\n",
       "      <td>2,886.90</td>\n",
       "      <td>71,936.19</td>\n",
       "      <td>96.65</td>\n",
       "      <td>10.49</td>\n",
       "      <td>2.89</td>\n",
       "      <td>62,397.41</td>\n",
       "      <td>0.58</td>\n",
       "      <td>0.46</td>\n",
       "      <td>0.50</td>\n",
       "      <td>57,510.49</td>\n",
       "      <td>0.40</td>\n",
       "    </tr>\n",
       "    <tr>\n",
       "      <th>min</th>\n",
       "      <td>1.00</td>\n",
       "      <td>15,565,701.00</td>\n",
       "      <td>350.00</td>\n",
       "      <td>18.00</td>\n",
       "      <td>0.00</td>\n",
       "      <td>0.00</td>\n",
       "      <td>1.00</td>\n",
       "      <td>0.00</td>\n",
       "      <td>0.00</td>\n",
       "      <td>11.58</td>\n",
       "      <td>0.00</td>\n",
       "    </tr>\n",
       "    <tr>\n",
       "      <th>25%</th>\n",
       "      <td>2,500.75</td>\n",
       "      <td>15,628,528.25</td>\n",
       "      <td>584.00</td>\n",
       "      <td>32.00</td>\n",
       "      <td>2.00</td>\n",
       "      <td>0.00</td>\n",
       "      <td>1.00</td>\n",
       "      <td>0.00</td>\n",
       "      <td>0.00</td>\n",
       "      <td>51,002.11</td>\n",
       "      <td>0.00</td>\n",
       "    </tr>\n",
       "    <tr>\n",
       "      <th>50%</th>\n",
       "      <td>5,000.50</td>\n",
       "      <td>15,690,738.00</td>\n",
       "      <td>652.00</td>\n",
       "      <td>37.00</td>\n",
       "      <td>5.00</td>\n",
       "      <td>97,198.54</td>\n",
       "      <td>1.00</td>\n",
       "      <td>1.00</td>\n",
       "      <td>1.00</td>\n",
       "      <td>100,193.91</td>\n",
       "      <td>0.00</td>\n",
       "    </tr>\n",
       "    <tr>\n",
       "      <th>75%</th>\n",
       "      <td>7,500.25</td>\n",
       "      <td>15,753,233.75</td>\n",
       "      <td>718.00</td>\n",
       "      <td>44.00</td>\n",
       "      <td>7.00</td>\n",
       "      <td>127,644.24</td>\n",
       "      <td>2.00</td>\n",
       "      <td>1.00</td>\n",
       "      <td>1.00</td>\n",
       "      <td>149,388.25</td>\n",
       "      <td>0.00</td>\n",
       "    </tr>\n",
       "    <tr>\n",
       "      <th>max</th>\n",
       "      <td>10,000.00</td>\n",
       "      <td>15,815,690.00</td>\n",
       "      <td>850.00</td>\n",
       "      <td>92.00</td>\n",
       "      <td>10.00</td>\n",
       "      <td>250,898.09</td>\n",
       "      <td>4.00</td>\n",
       "      <td>1.00</td>\n",
       "      <td>1.00</td>\n",
       "      <td>199,992.48</td>\n",
       "      <td>1.00</td>\n",
       "    </tr>\n",
       "  </tbody>\n",
       "</table>\n",
       "</div>"
      ],
      "text/plain": [
       "       RowNumber    CustomerId  CreditScore       Age   Tenure    Balance  \\\n",
       "count  10,000.00     10,000.00    10,000.00 10,000.00 9,091.00  10,000.00   \n",
       "mean    5,000.50 15,690,940.57       650.53     38.92     5.00  76,485.89   \n",
       "std     2,886.90     71,936.19        96.65     10.49     2.89  62,397.41   \n",
       "min         1.00 15,565,701.00       350.00     18.00     0.00       0.00   \n",
       "25%     2,500.75 15,628,528.25       584.00     32.00     2.00       0.00   \n",
       "50%     5,000.50 15,690,738.00       652.00     37.00     5.00  97,198.54   \n",
       "75%     7,500.25 15,753,233.75       718.00     44.00     7.00 127,644.24   \n",
       "max    10,000.00 15,815,690.00       850.00     92.00    10.00 250,898.09   \n",
       "\n",
       "       NumOfProducts  HasCrCard  IsActiveMember  EstimatedSalary    Exited  \n",
       "count      10,000.00  10,000.00       10,000.00        10,000.00 10,000.00  \n",
       "mean            1.53       0.71            0.52       100,090.24      0.20  \n",
       "std             0.58       0.46            0.50        57,510.49      0.40  \n",
       "min             1.00       0.00            0.00            11.58      0.00  \n",
       "25%             1.00       0.00            0.00        51,002.11      0.00  \n",
       "50%             1.00       1.00            1.00       100,193.91      0.00  \n",
       "75%             2.00       1.00            1.00       149,388.25      0.00  \n",
       "max             4.00       1.00            1.00       199,992.48      1.00  "
      ]
     },
     "metadata": {},
     "output_type": "display_data"
    }
   ],
   "source": [
    "data = pd.read_csv('/datasets/Churn.csv')\n",
    "\n",
    "display(data.info())\n",
    "display(data.head())\n",
    "display(data.describe())\n"
   ]
  },
  {
   "cell_type": "markdown",
   "metadata": {},
   "source": [
    "\n",
    "<b>Ответ студента №1</b>\n",
    "    \n",
    "Выборка состоит из 10000 записей, каждая из которых характеризуется 14 параметрами. В графе со сроком обслуживания клиента в Банке остутствует 981 запись. Переменные названы корректно."
   ]
  },
  {
   "cell_type": "code",
   "execution_count": 3,
   "metadata": {},
   "outputs": [
    {
     "name": "stdout",
     "output_type": "stream",
     "text": [
      "Количество явных строк дубликатов: 0\n"
     ]
    },
    {
     "data": {
      "text/html": [
       "<div>\n",
       "<style scoped>\n",
       "    .dataframe tbody tr th:only-of-type {\n",
       "        vertical-align: middle;\n",
       "    }\n",
       "\n",
       "    .dataframe tbody tr th {\n",
       "        vertical-align: top;\n",
       "    }\n",
       "\n",
       "    .dataframe thead th {\n",
       "        text-align: right;\n",
       "    }\n",
       "</style>\n",
       "<table border=\"1\" class=\"dataframe\">\n",
       "  <thead>\n",
       "    <tr style=\"text-align: right;\">\n",
       "      <th></th>\n",
       "      <th>RowNumber</th>\n",
       "      <th>CustomerId</th>\n",
       "      <th>Surname</th>\n",
       "      <th>CreditScore</th>\n",
       "      <th>Geography</th>\n",
       "      <th>Gender</th>\n",
       "      <th>Age</th>\n",
       "      <th>Tenure</th>\n",
       "      <th>Balance</th>\n",
       "      <th>NumOfProducts</th>\n",
       "      <th>HasCrCard</th>\n",
       "      <th>IsActiveMember</th>\n",
       "      <th>EstimatedSalary</th>\n",
       "      <th>Exited</th>\n",
       "    </tr>\n",
       "  </thead>\n",
       "  <tbody>\n",
       "  </tbody>\n",
       "</table>\n",
       "</div>"
      ],
      "text/plain": [
       "Empty DataFrame\n",
       "Columns: [RowNumber, CustomerId, Surname, CreditScore, Geography, Gender, Age, Tenure, Balance, NumOfProducts, HasCrCard, IsActiveMember, EstimatedSalary, Exited]\n",
       "Index: []"
      ]
     },
     "metadata": {},
     "output_type": "display_data"
    }
   ],
   "source": [
    "print(f'Количество явных строк дубликатов: {data.duplicated().sum()}')\n",
    "display(data.loc[data.duplicated()])"
   ]
  },
  {
   "cell_type": "markdown",
   "metadata": {},
   "source": [
    "\n",
    "<b>Ответ студента №1</b>\n",
    "\n",
    "Явные дубликаты в данных отсутстуют. \n",
    "    \n",
    "Проведем детальный анализ параметров."
   ]
  },
  {
   "cell_type": "code",
   "execution_count": 4,
   "metadata": {},
   "outputs": [
    {
     "data": {
      "text/html": [
       "<div>\n",
       "<style scoped>\n",
       "    .dataframe tbody tr th:only-of-type {\n",
       "        vertical-align: middle;\n",
       "    }\n",
       "\n",
       "    .dataframe tbody tr th {\n",
       "        vertical-align: top;\n",
       "    }\n",
       "\n",
       "    .dataframe thead th {\n",
       "        text-align: right;\n",
       "    }\n",
       "</style>\n",
       "<table border=\"1\" class=\"dataframe\">\n",
       "  <thead>\n",
       "    <tr style=\"text-align: right;\">\n",
       "      <th></th>\n",
       "      <th>CustomerId</th>\n",
       "    </tr>\n",
       "    <tr>\n",
       "      <th>Exited</th>\n",
       "      <th></th>\n",
       "    </tr>\n",
       "  </thead>\n",
       "  <tbody>\n",
       "    <tr>\n",
       "      <th>0</th>\n",
       "      <td>7963</td>\n",
       "    </tr>\n",
       "    <tr>\n",
       "      <th>1</th>\n",
       "      <td>2037</td>\n",
       "    </tr>\n",
       "  </tbody>\n",
       "</table>\n",
       "</div>"
      ],
      "text/plain": [
       "        CustomerId\n",
       "Exited            \n",
       "0             7963\n",
       "1             2037"
      ]
     },
     "metadata": {},
     "output_type": "display_data"
    },
    {
     "data": {
      "image/png": "[encoded data removed]",
      "text/plain": [
       "<Figure size 432x288 with 1 Axes>"
      ]
     },
     "metadata": {},
     "output_type": "display_data"
    }
   ],
   "source": [
    "#соотношение ушедших и оставшихся клиентов\n",
    "data_dimension=data[\"Exited\"].count()\n",
    "\n",
    "display(data.pivot_table(index=\"Exited\", values=\"CustomerId\", aggfunc=\"count\"))\n",
    "plt.pie(data.pivot_table(index=\"Exited\", values=\"CustomerId\", \n",
    "                               aggfunc=lambda g: g.count()/data_dimension)[\"CustomerId\"], \n",
    "       labels = [\"Действующий клиент\", \"Клиент ушел\"], autopct='%.1f%%');\n",
    "plt.title(\"Распределение действующих и ушедших клиентов\")\n",
    "plt.show();"
   ]
  },
  {
   "cell_type": "markdown",
   "metadata": {},
   "source": [
    "\n",
    "<b>Ответ студента №1</b>\n",
    "\n",
    "Зависимая переменная принимает два значения: действующий клиент, клиент ушел. Действующих клиентов примерно в 4 раза больше ушедших - таким образом данные несбалансированны и это потребуется учесть при построении моделей."
   ]
  },
  {
   "cell_type": "code",
   "execution_count": 5,
   "metadata": {},
   "outputs": [
    {
     "data": {
      "text/plain": [
       "'Количество уникальных строк данных: 10000'"
      ]
     },
     "metadata": {},
     "output_type": "display_data"
    },
    {
     "data": {
      "text/plain": [
       "'Количество уникальных ID клиентов: 10000'"
      ]
     },
     "metadata": {},
     "output_type": "display_data"
    },
    {
     "data": {
      "text/plain": [
       "\"Представленные в базе гендеры: ['Female' 'Male']\""
      ]
     },
     "metadata": {},
     "output_type": "display_data"
    },
    {
     "data": {
      "text/plain": [
       "'Возраст клиентов:'"
      ]
     },
     "metadata": {},
     "output_type": "display_data"
    },
    {
     "data": {
      "text/plain": [
       "array([18, 19, 20, 21, 22, 23, 24, 25, 26, 27, 28, 29, 30, 31, 32, 33, 34,\n",
       "       35, 36, 37, 38, 39, 40, 41, 42, 43, 44, 45, 46, 47, 48, 49, 50, 51,\n",
       "       52, 53, 54, 55, 56, 57, 58, 59, 60, 61, 62, 63, 64, 65, 66, 67, 68,\n",
       "       69, 70, 71, 72, 73, 74, 75, 76, 77, 78, 79, 80, 81, 82, 83, 84, 85,\n",
       "       88, 92])"
      ]
     },
     "metadata": {},
     "output_type": "display_data"
    },
    {
     "data": {
      "text/plain": [
       "'Индикатор активности клиента: [0 1]'"
      ]
     },
     "metadata": {},
     "output_type": "display_data"
    },
    {
     "data": {
      "text/plain": [
       "'Кол-во продуктов, используемых клиентами: [1 2 3 4]'"
      ]
     },
     "metadata": {},
     "output_type": "display_data"
    },
    {
     "data": {
      "text/plain": [
       "'Индиктор наличия кредитной карты у клиента: [0 1]'"
      ]
     },
     "metadata": {},
     "output_type": "display_data"
    },
    {
     "data": {
      "text/plain": [
       "'Срок в течение которого клиент обслуживается в Банке: [ 0.  1.  2.  3.  4.  5.  6.  7.  8.  9. 10. nan]'"
      ]
     },
     "metadata": {},
     "output_type": "display_data"
    },
    {
     "data": {
      "text/plain": [
       "\"Страна проживания клиента Банка: ['France' 'Germany' 'Spain']\""
      ]
     },
     "metadata": {},
     "output_type": "display_data"
    }
   ],
   "source": [
    "display(f'Количество уникальных строк данных: {len(data[\"RowNumber\"].sort_values().unique())}')\n",
    "\n",
    "display(f'Количество уникальных ID клиентов: {len(data[\"CustomerId\"].sort_values().unique())}')\n",
    "\n",
    "display(f'Представленные в базе гендеры: {data[\"Gender\"].sort_values().unique()}')\n",
    "\n",
    "display(\"Возраст клиентов:\")\n",
    "display(data[\"Age\"].sort_values().unique())\n",
    "\n",
    "display(f'Индикатор активности клиента: {data[\"IsActiveMember\"].sort_values().unique()}')\n",
    "\n",
    "display(f'Кол-во продуктов, используемых клиентами: {data[\"NumOfProducts\"].sort_values().unique()}')\n",
    "\n",
    "display(f'Индиктор наличия кредитной карты у клиента: {data[\"HasCrCard\"].sort_values().unique()}')\n",
    "\n",
    "display(f'Срок в течение которого клиент обслуживается в Банке: {data[\"Tenure\"].sort_values().unique()}')\n",
    "\n",
    "display(f'Страна проживания клиента Банка: {data[\"Geography\"].sort_values().unique()}')\n"
   ]
  },
  {
   "cell_type": "markdown",
   "metadata": {},
   "source": [
    "\n",
    "<b>Ответ студента №1</b>\n",
    "    \n",
    "- Кол-во уникальных строк в базе - 10000 шт. - переменная не может оказывать влияние на вероятность ухода клиента, подлежит исключению при построении моделей\n",
    "- Кол-во уникальных клиентов в базе - 10000 шт. - переменная не может оказывать влияние на вероятность ухода клиента, подлежит исключению при построении моделей\n",
    "- В базе представлены два пола - мужчины и женщины - будут преобразованы в один отдельный dummy ряд\n",
    "- Возраст клиентов находится в диапазоне от 18 до 92 лет\n",
    "- Два типа активности клиентов\n",
    "- Клиенты имеют от 1 до 4 продуктов - будут преобразованы в 3 отдельных dummy ряда\n",
    "- Индикатор наличия кредитной карты - есть или нет\n",
    "- В Банке обслуживаются или обслужвались клиенты от 0 до 10 лет, также есть пропуски\n",
    "- Клинеты проживают в трех странах: Франции, Германии и Испании - будут преобразованы в 2 отдельные dummy ряда"
   ]
  },
  {
   "cell_type": "code",
   "execution_count": 6,
   "metadata": {},
   "outputs": [
    {
     "data": {
      "text/html": [
       "<div>\n",
       "<style scoped>\n",
       "    .dataframe tbody tr th:only-of-type {\n",
       "        vertical-align: middle;\n",
       "    }\n",
       "\n",
       "    .dataframe tbody tr th {\n",
       "        vertical-align: top;\n",
       "    }\n",
       "\n",
       "    .dataframe thead th {\n",
       "        text-align: right;\n",
       "    }\n",
       "</style>\n",
       "<table border=\"1\" class=\"dataframe\">\n",
       "  <thead>\n",
       "    <tr style=\"text-align: right;\">\n",
       "      <th>Exited</th>\n",
       "      <th>0</th>\n",
       "      <th>1</th>\n",
       "    </tr>\n",
       "    <tr>\n",
       "      <th>Gender</th>\n",
       "      <th></th>\n",
       "      <th></th>\n",
       "    </tr>\n",
       "  </thead>\n",
       "  <tbody>\n",
       "    <tr>\n",
       "      <th>Female</th>\n",
       "      <td>3404</td>\n",
       "      <td>1139</td>\n",
       "    </tr>\n",
       "    <tr>\n",
       "      <th>Male</th>\n",
       "      <td>4559</td>\n",
       "      <td>898</td>\n",
       "    </tr>\n",
       "  </tbody>\n",
       "</table>\n",
       "</div>"
      ],
      "text/plain": [
       "Exited     0     1\n",
       "Gender            \n",
       "Female  3404  1139\n",
       "Male    4559   898"
      ]
     },
     "metadata": {},
     "output_type": "display_data"
    }
   ],
   "source": [
    "display(data.pivot_table(index=\"Gender\", columns=\"Exited\", values=\"CustomerId\", aggfunc=\"count\"))\n"
   ]
  },
  {
   "cell_type": "markdown",
   "metadata": {},
   "source": [
    "\n",
    "<b>Ответ студента №1</b>\n",
    "    \n",
    "Клиенты Банка несбалансированы по полу - мужчин-клиентов больше, чем женщин. При этом из ушедших клиентов женщин около 25%, в то время как мужчин - около 16%, таким образом недовольных женщин-клинетов больше"
   ]
  },
  {
   "cell_type": "code",
   "execution_count": 7,
   "metadata": {},
   "outputs": [
    {
     "data": {
      "text/html": [
       "<div>\n",
       "<style scoped>\n",
       "    .dataframe tbody tr th:only-of-type {\n",
       "        vertical-align: middle;\n",
       "    }\n",
       "\n",
       "    .dataframe tbody tr th {\n",
       "        vertical-align: top;\n",
       "    }\n",
       "\n",
       "    .dataframe thead th {\n",
       "        text-align: right;\n",
       "    }\n",
       "</style>\n",
       "<table border=\"1\" class=\"dataframe\">\n",
       "  <thead>\n",
       "    <tr style=\"text-align: right;\">\n",
       "      <th>Exited</th>\n",
       "      <th>0</th>\n",
       "      <th>1</th>\n",
       "    </tr>\n",
       "    <tr>\n",
       "      <th>Geography</th>\n",
       "      <th></th>\n",
       "      <th></th>\n",
       "    </tr>\n",
       "  </thead>\n",
       "  <tbody>\n",
       "    <tr>\n",
       "      <th>France</th>\n",
       "      <td>4204</td>\n",
       "      <td>810</td>\n",
       "    </tr>\n",
       "    <tr>\n",
       "      <th>Germany</th>\n",
       "      <td>1695</td>\n",
       "      <td>814</td>\n",
       "    </tr>\n",
       "    <tr>\n",
       "      <th>Spain</th>\n",
       "      <td>2064</td>\n",
       "      <td>413</td>\n",
       "    </tr>\n",
       "  </tbody>\n",
       "</table>\n",
       "</div>"
      ],
      "text/plain": [
       "Exited        0    1\n",
       "Geography           \n",
       "France     4204  810\n",
       "Germany    1695  814\n",
       "Spain      2064  413"
      ]
     },
     "metadata": {},
     "output_type": "display_data"
    }
   ],
   "source": [
    "display(data.pivot_table(index=\"Geography\", columns=\"Exited\", values=\"CustomerId\", aggfunc=\"count\"))"
   ]
  },
  {
   "cell_type": "markdown",
   "metadata": {},
   "source": [
    "\n",
    "<b>Ответ студента №1</b>\n",
    "    \n",
    "Преимущественно клиентами банка являются граждане Франиции - 53%. Наибольшая доля клиентов, покинувших Банк 32% - имеют гражданство Германии."
   ]
  },
  {
   "cell_type": "code",
   "execution_count": 8,
   "metadata": {},
   "outputs": [
    {
     "data": {
      "text/html": [
       "<div>\n",
       "<style scoped>\n",
       "    .dataframe tbody tr th:only-of-type {\n",
       "        vertical-align: middle;\n",
       "    }\n",
       "\n",
       "    .dataframe tbody tr th {\n",
       "        vertical-align: top;\n",
       "    }\n",
       "\n",
       "    .dataframe thead th {\n",
       "        text-align: right;\n",
       "    }\n",
       "</style>\n",
       "<table border=\"1\" class=\"dataframe\">\n",
       "  <thead>\n",
       "    <tr style=\"text-align: right;\">\n",
       "      <th>Exited</th>\n",
       "      <th>0</th>\n",
       "      <th>1</th>\n",
       "    </tr>\n",
       "    <tr>\n",
       "      <th>Tenure</th>\n",
       "      <th></th>\n",
       "      <th></th>\n",
       "    </tr>\n",
       "  </thead>\n",
       "  <tbody>\n",
       "    <tr>\n",
       "      <th>0.00</th>\n",
       "      <td>292</td>\n",
       "      <td>90</td>\n",
       "    </tr>\n",
       "    <tr>\n",
       "      <th>1.00</th>\n",
       "      <td>739</td>\n",
       "      <td>213</td>\n",
       "    </tr>\n",
       "    <tr>\n",
       "      <th>2.00</th>\n",
       "      <td>765</td>\n",
       "      <td>185</td>\n",
       "    </tr>\n",
       "    <tr>\n",
       "      <th>3.00</th>\n",
       "      <td>730</td>\n",
       "      <td>198</td>\n",
       "    </tr>\n",
       "    <tr>\n",
       "      <th>4.00</th>\n",
       "      <td>701</td>\n",
       "      <td>184</td>\n",
       "    </tr>\n",
       "    <tr>\n",
       "      <th>5.00</th>\n",
       "      <td>740</td>\n",
       "      <td>187</td>\n",
       "    </tr>\n",
       "    <tr>\n",
       "      <th>6.00</th>\n",
       "      <td>704</td>\n",
       "      <td>177</td>\n",
       "    </tr>\n",
       "    <tr>\n",
       "      <th>7.00</th>\n",
       "      <td>765</td>\n",
       "      <td>160</td>\n",
       "    </tr>\n",
       "    <tr>\n",
       "      <th>8.00</th>\n",
       "      <td>759</td>\n",
       "      <td>174</td>\n",
       "    </tr>\n",
       "    <tr>\n",
       "      <th>9.00</th>\n",
       "      <td>688</td>\n",
       "      <td>194</td>\n",
       "    </tr>\n",
       "    <tr>\n",
       "      <th>10.00</th>\n",
       "      <td>354</td>\n",
       "      <td>92</td>\n",
       "    </tr>\n",
       "  </tbody>\n",
       "</table>\n",
       "</div>"
      ],
      "text/plain": [
       "Exited    0    1\n",
       "Tenure          \n",
       "0.00    292   90\n",
       "1.00    739  213\n",
       "2.00    765  185\n",
       "3.00    730  198\n",
       "4.00    701  184\n",
       "5.00    740  187\n",
       "6.00    704  177\n",
       "7.00    765  160\n",
       "8.00    759  174\n",
       "9.00    688  194\n",
       "10.00   354   92"
      ]
     },
     "metadata": {},
     "output_type": "display_data"
    },
    {
     "data": {
      "text/html": [
       "<div>\n",
       "<style scoped>\n",
       "    .dataframe tbody tr th:only-of-type {\n",
       "        vertical-align: middle;\n",
       "    }\n",
       "\n",
       "    .dataframe tbody tr th {\n",
       "        vertical-align: top;\n",
       "    }\n",
       "\n",
       "    .dataframe thead th {\n",
       "        text-align: right;\n",
       "    }\n",
       "</style>\n",
       "<table border=\"1\" class=\"dataframe\">\n",
       "  <thead>\n",
       "    <tr style=\"text-align: right;\">\n",
       "      <th>Exited</th>\n",
       "      <th>0</th>\n",
       "      <th>1</th>\n",
       "    </tr>\n",
       "    <tr>\n",
       "      <th>Gender</th>\n",
       "      <th></th>\n",
       "      <th></th>\n",
       "    </tr>\n",
       "  </thead>\n",
       "  <tbody>\n",
       "    <tr>\n",
       "      <th>Female</th>\n",
       "      <td>328</td>\n",
       "      <td>98</td>\n",
       "    </tr>\n",
       "    <tr>\n",
       "      <th>Male</th>\n",
       "      <td>398</td>\n",
       "      <td>85</td>\n",
       "    </tr>\n",
       "  </tbody>\n",
       "</table>\n",
       "</div>"
      ],
      "text/plain": [
       "Exited    0   1\n",
       "Gender         \n",
       "Female  328  98\n",
       "Male    398  85"
      ]
     },
     "metadata": {},
     "output_type": "display_data"
    }
   ],
   "source": [
    "display(data.pivot_table(index=\"Tenure\", columns=\"Exited\", values=\"CustomerId\", aggfunc=\"count\"))\n",
    "display(data.loc[data[\"Tenure\"].isna()==True].pivot_table(index=\"Gender\",\n",
    "                                columns=\"Exited\", values=\"CustomerId\", aggfunc=\"count\"))"
   ]
  },
  {
   "cell_type": "markdown",
   "metadata": {},
   "source": [
    "\n",
    "<b>Ответ студента №1</b>\n",
    "\n",
    "За исключением первого и 10-го года обслуживания - клиенты равномерно распределены по возрасту обслуживания в банке, какой либо тенденции по приходу клиентов и их уходу не прослеживается.\n",
    "\n",
    "Структуры гендеров у клиентов с отсутствующими данными о сроке обслуживания в Банке соответствует общей гендерной структуре клиентов, таким образом исключение указаных записей не должно сказаться на репрезентативности выборки. "
   ]
  },
  {
   "cell_type": "code",
   "execution_count": 9,
   "metadata": {},
   "outputs": [
    {
     "data": {
      "text/html": [
       "<div>\n",
       "<style scoped>\n",
       "    .dataframe tbody tr th:only-of-type {\n",
       "        vertical-align: middle;\n",
       "    }\n",
       "\n",
       "    .dataframe tbody tr th {\n",
       "        vertical-align: top;\n",
       "    }\n",
       "\n",
       "    .dataframe thead th {\n",
       "        text-align: right;\n",
       "    }\n",
       "</style>\n",
       "<table border=\"1\" class=\"dataframe\">\n",
       "  <thead>\n",
       "    <tr style=\"text-align: right;\">\n",
       "      <th>Exited</th>\n",
       "      <th>0</th>\n",
       "      <th>1</th>\n",
       "    </tr>\n",
       "    <tr>\n",
       "      <th>IsActiveMember</th>\n",
       "      <th></th>\n",
       "      <th></th>\n",
       "    </tr>\n",
       "  </thead>\n",
       "  <tbody>\n",
       "    <tr>\n",
       "      <th>0</th>\n",
       "      <td>3547</td>\n",
       "      <td>1302</td>\n",
       "    </tr>\n",
       "    <tr>\n",
       "      <th>1</th>\n",
       "      <td>4416</td>\n",
       "      <td>735</td>\n",
       "    </tr>\n",
       "  </tbody>\n",
       "</table>\n",
       "</div>"
      ],
      "text/plain": [
       "Exited             0     1\n",
       "IsActiveMember            \n",
       "0               3547  1302\n",
       "1               4416   735"
      ]
     },
     "metadata": {},
     "output_type": "display_data"
    }
   ],
   "source": [
    "display(data.pivot_table(index=\"IsActiveMember\", columns=\"Exited\", values=\"CustomerId\", aggfunc=\"count\"))"
   ]
  },
  {
   "cell_type": "markdown",
   "metadata": {},
   "source": [
    "\n",
    "<b>Ответ студента №1</b>\n",
    "\n",
    "Из Банка уходили преимущественно неактивны клиенты.    "
   ]
  },
  {
   "cell_type": "code",
   "execution_count": 10,
   "metadata": {},
   "outputs": [
    {
     "data": {
      "image/png": "[encoded data removed]",
      "text/plain": [
       "<Figure size 432x288 with 1 Axes>"
      ]
     },
     "metadata": {
      "needs_background": "light"
     },
     "output_type": "display_data"
    }
   ],
   "source": [
    "weights_credit_score_not_exired = np.ones_like(data.loc[data[\"Exited\"]==0,\"CreditScore\"]) / len(data.loc[data[\"Exited\"]==0,\"CreditScore\"])\n",
    "weights_credit_score_exited = np.ones_like(data.loc[data[\"Exited\"]==1,\"CreditScore\"]) / len(data.loc[data[\"Exited\"]==1,\"CreditScore\"])\n",
    "\n",
    "\n",
    "plt.hist(data.loc[data[\"Exited\"]==0,\"CreditScore\"], \n",
    "         label=\"действующие клиенты\",alpha=0.8, edgecolor='red', bins=int(50), weights=weights_credit_score_not_exired)\n",
    "plt.hist(data.loc[data[\"Exited\"]==1,\"CreditScore\"],\n",
    "         label=\"ушедшие клиенты\",alpha=0.7, edgecolor='yellow', bins=int(50), weights=weights_credit_score_exited)\n",
    "plt.legend()\n",
    "plt.title('Нормированная гистограмма распеределения кредитного рейтинга')\n",
    "plt.xlabel('Рейтинг')\n",
    "plt.ylabel('Доля клиентов пользователей')\n",
    "plt.show()"
   ]
  },
  {
   "cell_type": "markdown",
   "metadata": {},
   "source": [
    "\n",
    "<b>Ответ студента №1</b>\n",
    "\n",
    "- распределение ушедших клеинтов характеризуется левым тяжелым хвостом, то есть ушли клиенты с рейтингом ниже 400 - среди действующих клиентов таких нет\n",
    "- аномально выглядит доля клиентов, как текущих так и ушедших, с рейтингом, превышающим 850  "
   ]
  },
  {
   "cell_type": "code",
   "execution_count": 11,
   "metadata": {},
   "outputs": [
    {
     "data": {
      "image/png": "[encoded data removed]",
      "text/plain": [
       "<Figure size 432x288 with 1 Axes>"
      ]
     },
     "metadata": {
      "needs_background": "light"
     },
     "output_type": "display_data"
    }
   ],
   "source": [
    "weights_tenure_not_exired = np.ones_like(data.loc[data[\"Exited\"]==0,\"Tenure\"]) / len(data.loc[data[\"Exited\"]==0,\"Tenure\"])\n",
    "weights_tenure_exited = np.ones_like(data.loc[data[\"Exited\"]==1,\"Tenure\"]) / len(data.loc[data[\"Exited\"]==1,\"Tenure\"])\n",
    "\n",
    "\n",
    "plt.hist(data.loc[data[\"Exited\"]==0,\"Tenure\"], \n",
    "         label=\"действующие клиенты\",alpha=0.8, edgecolor='red', bins=int(50), weights=weights_tenure_not_exired)\n",
    "plt.hist(data.loc[data[\"Exited\"]==1,\"Tenure\"],\n",
    "         label=\"ушедшие клиенты\",alpha=0.7, edgecolor='yellow', bins=int(50), weights=weights_tenure_exited)\n",
    "plt.legend()\n",
    "plt.title('Нормированная гистограмма распеределения количества лет')\n",
    "plt.xlabel('Количество лет')\n",
    "plt.ylabel('Доляо пользователей')\n",
    "plt.show()"
   ]
  },
  {
   "cell_type": "markdown",
   "metadata": {},
   "source": [
    "\n",
    "<b>Ответ студента №1</b>\n",
    "\n",
    "- структура бывших и текущих клиентов по сроку обслуживания в Банке преимущественно схожа  "
   ]
  },
  {
   "cell_type": "code",
   "execution_count": 12,
   "metadata": {},
   "outputs": [
    {
     "data": {
      "image/png": "[encoded data removed]",
      "text/plain": [
       "<Figure size 432x288 with 1 Axes>"
      ]
     },
     "metadata": {
      "needs_background": "light"
     },
     "output_type": "display_data"
    }
   ],
   "source": [
    "weights_balance_not_exired = np.ones_like(data.loc[data[\"Exited\"]==0,\"Balance\"]) / len(data.loc[data[\"Exited\"]==0,\"Balance\"])\n",
    "weights_balance_exited = np.ones_like(data.loc[data[\"Exited\"]==1,\"Balance\"]) / len(data.loc[data[\"Exited\"]==1,\"Balance\"])\n",
    "\n",
    "\n",
    "plt.hist(data.loc[data[\"Exited\"]==0,\"Balance\"], \n",
    "         label=\"действующие клиенты\",alpha=0.8, edgecolor='red', bins=int(50), weights=weights_balance_not_exired)\n",
    "plt.hist(data.loc[data[\"Exited\"]==1,\"Balance\"],\n",
    "         label=\"ушедшие клиенты\",alpha=0.7, edgecolor='yellow', bins=int(50), weights=weights_balance_exited)\n",
    "plt.legend()\n",
    "plt.title('Нормированная гистограмма распеределения баланса клиентов')\n",
    "plt.xlabel('Баланс клиентов')\n",
    "plt.ylabel('Доля клиентов')\n",
    "plt.show()"
   ]
  },
  {
   "cell_type": "markdown",
   "metadata": {},
   "source": [
    "\n",
    "<b>Ответ студента №1</b>\n",
    "\n",
    "Распределение структур балансов бывших и текущих клиентов имеет два важных отличия:\n",
    "1. доля ушедших клинетов, имевших средний баланс, превышает долю действующих клеинтов\n",
    "2. доля действующих клеинтов с нулевым балансом римерно в 1,5 раза больше, чем ушедших\n",
    "\n",
    "Эти особенности могут негативнвым образом отразися на показателях Банка"
   ]
  },
  {
   "cell_type": "code",
   "execution_count": 13,
   "metadata": {},
   "outputs": [
    {
     "data": {
      "image/png": "[encoded data removed]",
      "text/plain": [
       "<Figure size 432x288 with 1 Axes>"
      ]
     },
     "metadata": {
      "needs_background": "light"
     },
     "output_type": "display_data"
    }
   ],
   "source": [
    "weights_salary_not_exired = np.ones_like(data.loc[data[\"Exited\"]==0,\"EstimatedSalary\"]) / len(data.loc[data[\"Exited\"]==0,\"EstimatedSalary\"])\n",
    "weights_salary_exited = np.ones_like(data.loc[data[\"Exited\"]==1,\"EstimatedSalary\"]) / len(data.loc[data[\"Exited\"]==1,\"EstimatedSalary\"])\n",
    "\n",
    "\n",
    "plt.hist(data.loc[data[\"Exited\"]==0,\"EstimatedSalary\"], \n",
    "         label=\"действующие клиенты\",alpha=0.8, edgecolor='red', bins=int(50), weights=weights_salary_not_exired)\n",
    "plt.hist(data.loc[data[\"Exited\"]==1,\"EstimatedSalary\"],\n",
    "         label=\"ушедшие клиенты\",alpha=0.7, edgecolor='yellow', bins=int(50), weights=weights_salary_exited)\n",
    "plt.legend()\n",
    "plt.title('Нормированная гистограмма распеределения ожидаемой зарплаты клиента')\n",
    "plt.xlabel('Ожидаемая зарплата')\n",
    "plt.ylabel('Доля клиентов')\n",
    "plt.show()"
   ]
  },
  {
   "cell_type": "markdown",
   "metadata": {},
   "source": [
    "\n",
    "<b>Ответ студента №1</b>\n",
    "\n",
    "- структура ожидаемых зарплат бывших и текущих клиентов Банка преимущественно схожа  "
   ]
  },
  {
   "cell_type": "code",
   "execution_count": 14,
   "metadata": {},
   "outputs": [
    {
     "name": "stdout",
     "output_type": "stream",
     "text": [
      "<class 'pandas.core.frame.DataFrame'>\n",
      "RangeIndex: 9091 entries, 0 to 9090\n",
      "Data columns (total 14 columns):\n",
      " #   Column           Non-Null Count  Dtype  \n",
      "---  ------           --------------  -----  \n",
      " 0   RowNumber        9091 non-null   int64  \n",
      " 1   CustomerId       9091 non-null   int64  \n",
      " 2   Surname          9091 non-null   object \n",
      " 3   CreditScore      9091 non-null   int64  \n",
      " 4   Geography        9091 non-null   object \n",
      " 5   Gender           9091 non-null   object \n",
      " 6   Age              9091 non-null   int64  \n",
      " 7   Tenure           9091 non-null   float64\n",
      " 8   Balance          9091 non-null   float64\n",
      " 9   NumOfProducts    9091 non-null   int64  \n",
      " 10  HasCrCard        9091 non-null   int64  \n",
      " 11  IsActiveMember   9091 non-null   int64  \n",
      " 12  EstimatedSalary  9091 non-null   float64\n",
      " 13  Exited           9091 non-null   int64  \n",
      "dtypes: float64(3), int64(8), object(3)\n",
      "memory usage: 994.5+ KB\n"
     ]
    },
    {
     "data": {
      "text/plain": [
       "None"
      ]
     },
     "metadata": {},
     "output_type": "display_data"
    }
   ],
   "source": [
    "data=data.loc[data[\"Tenure\"].isna()==False].reset_index(drop=True)\n",
    "display(data.info())"
   ]
  },
  {
   "cell_type": "markdown",
   "metadata": {},
   "source": [
    "\n",
    "<b>Ответ студента №1</b>\n",
    "\n",
    "Исключим из выборки клиентов с отсутствующим сроком обслуживания в Банке"
   ]
  },
  {
   "cell_type": "code",
   "execution_count": 15,
   "metadata": {},
   "outputs": [
    {
     "name": "stdout",
     "output_type": "stream",
     "text": [
      "Количество явных строк дубликатов: 0\n"
     ]
    },
    {
     "data": {
      "text/html": [
       "<div>\n",
       "<style scoped>\n",
       "    .dataframe tbody tr th:only-of-type {\n",
       "        vertical-align: middle;\n",
       "    }\n",
       "\n",
       "    .dataframe tbody tr th {\n",
       "        vertical-align: top;\n",
       "    }\n",
       "\n",
       "    .dataframe thead th {\n",
       "        text-align: right;\n",
       "    }\n",
       "</style>\n",
       "<table border=\"1\" class=\"dataframe\">\n",
       "  <thead>\n",
       "    <tr style=\"text-align: right;\">\n",
       "      <th></th>\n",
       "      <th>RowNumber</th>\n",
       "      <th>CustomerId</th>\n",
       "      <th>Surname</th>\n",
       "      <th>CreditScore</th>\n",
       "      <th>Geography</th>\n",
       "      <th>Gender</th>\n",
       "      <th>Age</th>\n",
       "      <th>Tenure</th>\n",
       "      <th>Balance</th>\n",
       "      <th>NumOfProducts</th>\n",
       "      <th>HasCrCard</th>\n",
       "      <th>IsActiveMember</th>\n",
       "      <th>EstimatedSalary</th>\n",
       "      <th>Exited</th>\n",
       "    </tr>\n",
       "  </thead>\n",
       "  <tbody>\n",
       "  </tbody>\n",
       "</table>\n",
       "</div>"
      ],
      "text/plain": [
       "Empty DataFrame\n",
       "Columns: [RowNumber, CustomerId, Surname, CreditScore, Geography, Gender, Age, Tenure, Balance, NumOfProducts, HasCrCard, IsActiveMember, EstimatedSalary, Exited]\n",
       "Index: []"
      ]
     },
     "metadata": {},
     "output_type": "display_data"
    }
   ],
   "source": [
    "print(f'Количество явных строк дубликатов: {data.duplicated().sum()}')\n",
    "display(data.loc[data.duplicated()])"
   ]
  },
  {
   "cell_type": "code",
   "execution_count": 16,
   "metadata": {},
   "outputs": [
    {
     "data": {
      "text/html": [
       "<div>\n",
       "<style scoped>\n",
       "    .dataframe tbody tr th:only-of-type {\n",
       "        vertical-align: middle;\n",
       "    }\n",
       "\n",
       "    .dataframe tbody tr th {\n",
       "        vertical-align: top;\n",
       "    }\n",
       "\n",
       "    .dataframe thead th {\n",
       "        text-align: right;\n",
       "    }\n",
       "</style>\n",
       "<table border=\"1\" class=\"dataframe\">\n",
       "  <thead>\n",
       "    <tr style=\"text-align: right;\">\n",
       "      <th></th>\n",
       "      <th>CustomerId</th>\n",
       "    </tr>\n",
       "    <tr>\n",
       "      <th>Exited</th>\n",
       "      <th></th>\n",
       "    </tr>\n",
       "  </thead>\n",
       "  <tbody>\n",
       "    <tr>\n",
       "      <th>0</th>\n",
       "      <td>7237</td>\n",
       "    </tr>\n",
       "    <tr>\n",
       "      <th>1</th>\n",
       "      <td>1854</td>\n",
       "    </tr>\n",
       "  </tbody>\n",
       "</table>\n",
       "</div>"
      ],
      "text/plain": [
       "        CustomerId\n",
       "Exited            \n",
       "0             7237\n",
       "1             1854"
      ]
     },
     "metadata": {},
     "output_type": "display_data"
    },
    {
     "data": {
      "image/png": "[encoded data removed]",
      "text/plain": [
       "<Figure size 432x288 with 1 Axes>"
      ]
     },
     "metadata": {},
     "output_type": "display_data"
    }
   ],
   "source": [
    "display(data.pivot_table(index=\"Exited\", values=\"CustomerId\", aggfunc=\"count\"))\n",
    "data_dimension=data[\"Exited\"].count()\n",
    "plt.pie(data.pivot_table(index=\"Exited\", values=\"CustomerId\", \n",
    "                               aggfunc=lambda g: g.count()/data_dimension)[\"CustomerId\"], \n",
    "       labels = [\"Действующий клиент\", \"Клиент ушел\"], autopct='%.1f%%');\n",
    "plt.title(\"Распределение действующих и ушедших клиентов\")\n",
    "plt.show();"
   ]
  },
  {
   "cell_type": "markdown",
   "metadata": {},
   "source": [
    "\n",
    "<b>Ответ студента №1</b>\n",
    "    \n",
    "Исключение клиентов с отсутствующим сроком обслуживания в Банке не сказалось на структуре действующих и ушедших клиентов. "
   ]
  },
  {
   "cell_type": "markdown",
   "metadata": {},
   "source": [
    "\n",
    "<b>Ответ студента №1. Вывод по разделу 1</b>\n",
    "    \n",
    "Выборка клинетов Банка состоит из 10000 записей, каждая из которых характеризуется 14 параметрами. Переменные названы корректно. Явные дубликаты в данных отсутстуют. Действующих клиентов примерно в 4 раза больше ушедших - таким образом данные несбалансированны и это потребуется учесть при построении моделей. С сроке обслуживания клиента в Банке есть отсутствующие значения.\n",
    "    \n",
    "Особенности, выявленные при анализе параметров:    \n",
    "- клиенты Банка несбалансированы по полу - мужчин-клиентов больше, чем женщин. Доля ушедших клиентов женщин, больше чем мужчин (25% vs 16%)    \n",
    "- наибольшая доля среди клиентов, покинувших Банк - граждане Германии (32%)\n",
    "- Банк преимущественно покидали неактивные клиенты и клиенты с низким кредитным рейтингом (ниже 400) \n",
    "- аномально выглядит доля клиентов, как текущих так и ушедших, с рейтингом, превышающим 850 \n",
    "    \n",
    "Распределение структур балансов бывших и текущих клиентов имеет два важных отличия:\n",
    "1. доля ушедших клинетов, имевших средний баланс, превышает долю действующих клеинтов\n",
    "2. доля действующих клеинтов с нулевым балансом римерно в 1,5 раза больше, чем ушедших\n",
    "\n",
    "Эти особенности могут негативнвым образом отразиться на показателях Банка\n",
    "  \n",
    "     \n",
    "В графе со сроком обслуживания клиента в Банке остутствует 981 запись. Исключили указанные записи, так как не представляется возможным определить каким образом указаныее данные могут быть восполнены, не исказив характеристики выборки. Структуры гендеров у клиентов с отсутствующими данными о сроке обслуживания в Банке соответствует общей гендерной структуре клиентов, таким образом исключение указаных записей не должно сказаться на репрезентативности выборки.\n",
    "    \n",
    " Особенности, которые необходимо учесть при дальнейшей подготовке данных: \n",
    "- данные о поле клиента необходимо преобразовать в один отдельный dummy ряд \n",
    "- для количества используемых клиентом продуктов необходимо созать 3 отдельных dummy ряда\n",
    "- для страны проживания клиента необходимо созать 2 отдельных dummy ряда\n",
    "- выборка содержит записи о номерах строк, фамилиях и уникальных идентификационных номерах клиентов. Указанные параметры не могут оказать влияния на вероятность ухода клиента, в свзяи с чем не будут учитываться при построении моделей "
   ]
  },
  {
   "cell_type": "markdown",
   "metadata": {},
   "source": [
    "## Исследование задачи"
   ]
  },
  {
   "cell_type": "markdown",
   "metadata": {},
   "source": [
    "<div class=\"alert alert-info\">\n",
    "<b>Ответ студента №2</b>\n",
    "    \n",
    "Исключим из выборки такие параметры, как номер строки, идентификационный номер клиента и фамилию клиента"
   ]
  },
  {
   "cell_type": "code",
   "execution_count": 17,
   "metadata": {},
   "outputs": [
    {
     "data": {
      "text/html": [
       "<div>\n",
       "<style scoped>\n",
       "    .dataframe tbody tr th:only-of-type {\n",
       "        vertical-align: middle;\n",
       "    }\n",
       "\n",
       "    .dataframe tbody tr th {\n",
       "        vertical-align: top;\n",
       "    }\n",
       "\n",
       "    .dataframe thead th {\n",
       "        text-align: right;\n",
       "    }\n",
       "</style>\n",
       "<table border=\"1\" class=\"dataframe\">\n",
       "  <thead>\n",
       "    <tr style=\"text-align: right;\">\n",
       "      <th></th>\n",
       "      <th>CreditScore</th>\n",
       "      <th>Geography</th>\n",
       "      <th>Gender</th>\n",
       "      <th>Age</th>\n",
       "      <th>Tenure</th>\n",
       "      <th>Balance</th>\n",
       "      <th>NumOfProducts</th>\n",
       "      <th>HasCrCard</th>\n",
       "      <th>IsActiveMember</th>\n",
       "      <th>EstimatedSalary</th>\n",
       "      <th>Exited</th>\n",
       "    </tr>\n",
       "  </thead>\n",
       "  <tbody>\n",
       "    <tr>\n",
       "      <th>0</th>\n",
       "      <td>619</td>\n",
       "      <td>France</td>\n",
       "      <td>Female</td>\n",
       "      <td>42</td>\n",
       "      <td>2.00</td>\n",
       "      <td>0.00</td>\n",
       "      <td>1</td>\n",
       "      <td>1</td>\n",
       "      <td>1</td>\n",
       "      <td>101,348.88</td>\n",
       "      <td>1</td>\n",
       "    </tr>\n",
       "    <tr>\n",
       "      <th>1</th>\n",
       "      <td>608</td>\n",
       "      <td>Spain</td>\n",
       "      <td>Female</td>\n",
       "      <td>41</td>\n",
       "      <td>1.00</td>\n",
       "      <td>83,807.86</td>\n",
       "      <td>1</td>\n",
       "      <td>0</td>\n",
       "      <td>1</td>\n",
       "      <td>112,542.58</td>\n",
       "      <td>0</td>\n",
       "    </tr>\n",
       "    <tr>\n",
       "      <th>2</th>\n",
       "      <td>502</td>\n",
       "      <td>France</td>\n",
       "      <td>Female</td>\n",
       "      <td>42</td>\n",
       "      <td>8.00</td>\n",
       "      <td>159,660.80</td>\n",
       "      <td>3</td>\n",
       "      <td>1</td>\n",
       "      <td>0</td>\n",
       "      <td>113,931.57</td>\n",
       "      <td>1</td>\n",
       "    </tr>\n",
       "    <tr>\n",
       "      <th>3</th>\n",
       "      <td>699</td>\n",
       "      <td>France</td>\n",
       "      <td>Female</td>\n",
       "      <td>39</td>\n",
       "      <td>1.00</td>\n",
       "      <td>0.00</td>\n",
       "      <td>2</td>\n",
       "      <td>0</td>\n",
       "      <td>0</td>\n",
       "      <td>93,826.63</td>\n",
       "      <td>0</td>\n",
       "    </tr>\n",
       "    <tr>\n",
       "      <th>4</th>\n",
       "      <td>850</td>\n",
       "      <td>Spain</td>\n",
       "      <td>Female</td>\n",
       "      <td>43</td>\n",
       "      <td>2.00</td>\n",
       "      <td>125,510.82</td>\n",
       "      <td>1</td>\n",
       "      <td>1</td>\n",
       "      <td>1</td>\n",
       "      <td>79,084.10</td>\n",
       "      <td>0</td>\n",
       "    </tr>\n",
       "  </tbody>\n",
       "</table>\n",
       "</div>"
      ],
      "text/plain": [
       "   CreditScore Geography  Gender  Age  Tenure    Balance  NumOfProducts  \\\n",
       "0          619    France  Female   42    2.00       0.00              1   \n",
       "1          608     Spain  Female   41    1.00  83,807.86              1   \n",
       "2          502    France  Female   42    8.00 159,660.80              3   \n",
       "3          699    France  Female   39    1.00       0.00              2   \n",
       "4          850     Spain  Female   43    2.00 125,510.82              1   \n",
       "\n",
       "   HasCrCard  IsActiveMember  EstimatedSalary  Exited  \n",
       "0          1               1       101,348.88       1  \n",
       "1          0               1       112,542.58       0  \n",
       "2          1               0       113,931.57       1  \n",
       "3          0               0        93,826.63       0  \n",
       "4          1               1        79,084.10       0  "
      ]
     },
     "metadata": {},
     "output_type": "display_data"
    },
    {
     "name": "stdout",
     "output_type": "stream",
     "text": [
      "<class 'pandas.core.frame.DataFrame'>\n",
      "RangeIndex: 9091 entries, 0 to 9090\n",
      "Data columns (total 11 columns):\n",
      " #   Column           Non-Null Count  Dtype  \n",
      "---  ------           --------------  -----  \n",
      " 0   CreditScore      9091 non-null   int64  \n",
      " 1   Geography        9091 non-null   object \n",
      " 2   Gender           9091 non-null   object \n",
      " 3   Age              9091 non-null   int64  \n",
      " 4   Tenure           9091 non-null   float64\n",
      " 5   Balance          9091 non-null   float64\n",
      " 6   NumOfProducts    9091 non-null   int64  \n",
      " 7   HasCrCard        9091 non-null   int64  \n",
      " 8   IsActiveMember   9091 non-null   int64  \n",
      " 9   EstimatedSalary  9091 non-null   float64\n",
      " 10  Exited           9091 non-null   int64  \n",
      "dtypes: float64(3), int64(6), object(2)\n",
      "memory usage: 781.4+ KB\n"
     ]
    },
    {
     "data": {
      "text/plain": [
       "None"
      ]
     },
     "metadata": {},
     "output_type": "display_data"
    }
   ],
   "source": [
    "data=data.drop([\"RowNumber\", \"CustomerId\",\"Surname\"], axis=1)\n",
    "display(data.head())\n",
    "display(data.info())"
   ]
  },
  {
   "cell_type": "markdown",
   "metadata": {},
   "source": [
    "\n",
    "<b>Ответ студента №1</b>\n",
    "\n",
    "Создадим отдельные dummy переменные для пола, количества используемых продуктов и страны проживания клиента"
   ]
  },
  {
   "cell_type": "code",
   "execution_count": 18,
   "metadata": {},
   "outputs": [
    {
     "data": {
      "text/html": [
       "<div>\n",
       "<style scoped>\n",
       "    .dataframe tbody tr th:only-of-type {\n",
       "        vertical-align: middle;\n",
       "    }\n",
       "\n",
       "    .dataframe tbody tr th {\n",
       "        vertical-align: top;\n",
       "    }\n",
       "\n",
       "    .dataframe thead th {\n",
       "        text-align: right;\n",
       "    }\n",
       "</style>\n",
       "<table border=\"1\" class=\"dataframe\">\n",
       "  <thead>\n",
       "    <tr style=\"text-align: right;\">\n",
       "      <th></th>\n",
       "      <th>CreditScore</th>\n",
       "      <th>Age</th>\n",
       "      <th>Tenure</th>\n",
       "      <th>Balance</th>\n",
       "      <th>HasCrCard</th>\n",
       "      <th>IsActiveMember</th>\n",
       "      <th>EstimatedSalary</th>\n",
       "      <th>Exited</th>\n",
       "      <th>Gender_Male</th>\n",
       "      <th>NumOfProducts_2</th>\n",
       "      <th>NumOfProducts_3</th>\n",
       "      <th>NumOfProducts_4</th>\n",
       "      <th>Geography_Germany</th>\n",
       "      <th>Geography_Spain</th>\n",
       "    </tr>\n",
       "  </thead>\n",
       "  <tbody>\n",
       "    <tr>\n",
       "      <th>0</th>\n",
       "      <td>619</td>\n",
       "      <td>42</td>\n",
       "      <td>2.00</td>\n",
       "      <td>0.00</td>\n",
       "      <td>1</td>\n",
       "      <td>1</td>\n",
       "      <td>101,348.88</td>\n",
       "      <td>1</td>\n",
       "      <td>0</td>\n",
       "      <td>0</td>\n",
       "      <td>0</td>\n",
       "      <td>0</td>\n",
       "      <td>0</td>\n",
       "      <td>0</td>\n",
       "    </tr>\n",
       "    <tr>\n",
       "      <th>1</th>\n",
       "      <td>608</td>\n",
       "      <td>41</td>\n",
       "      <td>1.00</td>\n",
       "      <td>83,807.86</td>\n",
       "      <td>0</td>\n",
       "      <td>1</td>\n",
       "      <td>112,542.58</td>\n",
       "      <td>0</td>\n",
       "      <td>0</td>\n",
       "      <td>0</td>\n",
       "      <td>0</td>\n",
       "      <td>0</td>\n",
       "      <td>0</td>\n",
       "      <td>1</td>\n",
       "    </tr>\n",
       "    <tr>\n",
       "      <th>2</th>\n",
       "      <td>502</td>\n",
       "      <td>42</td>\n",
       "      <td>8.00</td>\n",
       "      <td>159,660.80</td>\n",
       "      <td>1</td>\n",
       "      <td>0</td>\n",
       "      <td>113,931.57</td>\n",
       "      <td>1</td>\n",
       "      <td>0</td>\n",
       "      <td>0</td>\n",
       "      <td>1</td>\n",
       "      <td>0</td>\n",
       "      <td>0</td>\n",
       "      <td>0</td>\n",
       "    </tr>\n",
       "    <tr>\n",
       "      <th>3</th>\n",
       "      <td>699</td>\n",
       "      <td>39</td>\n",
       "      <td>1.00</td>\n",
       "      <td>0.00</td>\n",
       "      <td>0</td>\n",
       "      <td>0</td>\n",
       "      <td>93,826.63</td>\n",
       "      <td>0</td>\n",
       "      <td>0</td>\n",
       "      <td>1</td>\n",
       "      <td>0</td>\n",
       "      <td>0</td>\n",
       "      <td>0</td>\n",
       "      <td>0</td>\n",
       "    </tr>\n",
       "    <tr>\n",
       "      <th>4</th>\n",
       "      <td>850</td>\n",
       "      <td>43</td>\n",
       "      <td>2.00</td>\n",
       "      <td>125,510.82</td>\n",
       "      <td>1</td>\n",
       "      <td>1</td>\n",
       "      <td>79,084.10</td>\n",
       "      <td>0</td>\n",
       "      <td>0</td>\n",
       "      <td>0</td>\n",
       "      <td>0</td>\n",
       "      <td>0</td>\n",
       "      <td>0</td>\n",
       "      <td>1</td>\n",
       "    </tr>\n",
       "  </tbody>\n",
       "</table>\n",
       "</div>"
      ],
      "text/plain": [
       "   CreditScore  Age  Tenure    Balance  HasCrCard  IsActiveMember  \\\n",
       "0          619   42    2.00       0.00          1               1   \n",
       "1          608   41    1.00  83,807.86          0               1   \n",
       "2          502   42    8.00 159,660.80          1               0   \n",
       "3          699   39    1.00       0.00          0               0   \n",
       "4          850   43    2.00 125,510.82          1               1   \n",
       "\n",
       "   EstimatedSalary  Exited  Gender_Male  NumOfProducts_2  NumOfProducts_3  \\\n",
       "0       101,348.88       1            0                0                0   \n",
       "1       112,542.58       0            0                0                0   \n",
       "2       113,931.57       1            0                0                1   \n",
       "3        93,826.63       0            0                1                0   \n",
       "4        79,084.10       0            0                0                0   \n",
       "\n",
       "   NumOfProducts_4  Geography_Germany  Geography_Spain  \n",
       "0                0                  0                0  \n",
       "1                0                  0                1  \n",
       "2                0                  0                0  \n",
       "3                0                  0                0  \n",
       "4                0                  0                1  "
      ]
     },
     "metadata": {},
     "output_type": "display_data"
    }
   ],
   "source": [
    "data_ohe=pd.get_dummies(data=data, columns=['Gender', 'NumOfProducts', \"Geography\"], drop_first=True)\n",
    "display(data_ohe.head())"
   ]
  },
  {
   "cell_type": "markdown",
   "metadata": {},
   "source": [
    "<b>Ответ студента №1</b>\n",
    "\n",
    "Стандартизуем данные о кредитном рейтинге, возрасте клиента, сроке обслуживания в Банке, балансе и оценке зарплаты"
   ]
  },
  {
   "cell_type": "code",
   "execution_count": 19,
   "metadata": {},
   "outputs": [],
   "source": [
    "#data_ohe_scaled=data_ohe\n",
    "#col_names = [\"CreditScore\", \"Age\", \"Tenure\", \"Balance\", \"EstimatedSalary\"]\n",
    "#features = data_ohe[col_names]\n",
    "#scaler = StandardScaler()\n",
    "#scaler.fit(features.values)\n",
    "#features = scaler.transform(features.values)\n",
    "#data_ohe_scaled[col_names] = features\n",
    "\n",
    "#display(data_ohe_scaled.head())"
   ]
  },
  {
   "cell_type": "markdown",
   "metadata": {},
   "source": [
    "<div class=\"alert alert-info\">\n",
    "<b>Ответ студента №2</b>\n",
    "\n",
    "Да, понял, нам же в общем известны только тренировочные данные. Перенес масштабирование признаков после разделения на выборки."
   ]
  },
  {
   "cell_type": "markdown",
   "metadata": {},
   "source": [
    "<b>Ответ студента №1</b>\n",
    "\n",
    "Исключим из выборки такие параметры, как номер строки, идентификационный номер клиента и фамилию клиента"
   ]
  },
  {
   "cell_type": "code",
   "execution_count": 20,
   "metadata": {},
   "outputs": [],
   "source": [
    "#data_ohe_scaled=data_ohe_scaled.drop([\"RowNumber\", \"CustomerId\",\"Surname\"], axis=1)\n",
    "#display(data_ohe_scaled.head())\n",
    "#display(data_ohe_scaled.info())"
   ]
  },
  {
   "cell_type": "markdown",
   "metadata": {},
   "source": [
    "<div class=\"alert alert-info\">\n",
    "<b>Ответ студента №2</b>\n",
    "\n",
    "Перенес исключение лишних переменных в  начало раздела 2"
   ]
  },
  {
   "cell_type": "markdown",
   "metadata": {},
   "source": [
    "<b>Ответ студента №1</b>\n",
    "\n",
    "Заменим тип данных у целвого параметры и новых dummy переменных"
   ]
  },
  {
   "cell_type": "code",
   "execution_count": 21,
   "metadata": {},
   "outputs": [
    {
     "name": "stdout",
     "output_type": "stream",
     "text": [
      "<class 'pandas.core.frame.DataFrame'>\n",
      "RangeIndex: 9091 entries, 0 to 9090\n",
      "Data columns (total 14 columns):\n",
      " #   Column             Non-Null Count  Dtype  \n",
      "---  ------             --------------  -----  \n",
      " 0   CreditScore        9091 non-null   int64  \n",
      " 1   Age                9091 non-null   int64  \n",
      " 2   Tenure             9091 non-null   float64\n",
      " 3   Balance            9091 non-null   float64\n",
      " 4   HasCrCard          9091 non-null   int64  \n",
      " 5   IsActiveMember     9091 non-null   int64  \n",
      " 6   EstimatedSalary    9091 non-null   float64\n",
      " 7   Exited             9091 non-null   int64  \n",
      " 8   Gender_Male        9091 non-null   int64  \n",
      " 9   NumOfProducts_2    9091 non-null   int64  \n",
      " 10  NumOfProducts_3    9091 non-null   int64  \n",
      " 11  NumOfProducts_4    9091 non-null   int64  \n",
      " 12  Geography_Germany  9091 non-null   int64  \n",
      " 13  Geography_Spain    9091 non-null   int64  \n",
      "dtypes: float64(3), int64(11)\n",
      "memory usage: 994.5 KB\n"
     ]
    },
    {
     "data": {
      "text/plain": [
       "None"
      ]
     },
     "metadata": {},
     "output_type": "display_data"
    }
   ],
   "source": [
    "data_ohe[\"Exited\"]=data_ohe[\"Exited\"].astype(\"int\")\n",
    "data_ohe[\"Gender_Male\"]=data_ohe[\"Gender_Male\"].astype(\"int\")\n",
    "data_ohe[\"NumOfProducts_2\"]=data_ohe[\"NumOfProducts_2\"].astype(\"int\")\n",
    "data_ohe[\"NumOfProducts_3\"]=data_ohe[\"NumOfProducts_3\"].astype(\"int\")\n",
    "data_ohe[\"NumOfProducts_4\"]=data_ohe[\"NumOfProducts_4\"].astype(\"int\")\n",
    "data_ohe[\"Geography_Germany\"]=data_ohe[\"Geography_Germany\"].astype(\"int\")\n",
    "data_ohe[\"Geography_Spain\"]=data_ohe[\"Geography_Spain\"].astype(\"int\")\n",
    "display(data_ohe.info())"
   ]
  },
  {
   "cell_type": "markdown",
   "metadata": {},
   "source": [
    "\n",
    "<b>Ответ студента №1</b>\n",
    "\n",
    "Разделим данные на обучающие, валидационные и тестовые наборы, стратифицировав их гендерному признаку. Балансировку по целевому параметру на текущем шаге не производим."
   ]
  },
  {
   "cell_type": "code",
   "execution_count": 22,
   "metadata": {},
   "outputs": [
    {
     "data": {
      "text/plain": [
       "1112"
      ]
     },
     "metadata": {},
     "output_type": "display_data"
    },
    {
     "data": {
      "text/plain": [
       "371"
      ]
     },
     "metadata": {},
     "output_type": "display_data"
    },
    {
     "data": {
      "text/plain": [
       "371"
      ]
     },
     "metadata": {},
     "output_type": "display_data"
    }
   ],
   "source": [
    "data_train, data_valid_test = train_test_split(data_ohe, test_size=0.4, random_state=12345, stratify=data_ohe[\"Exited\"])\n",
    "data_valid, data_test=train_test_split(data_valid_test, test_size=0.5, random_state=12345, stratify=data_valid_test[\"Exited\"])\n",
    "\n",
    "features_train = data_train.drop(['Exited'], axis=1)\n",
    "target_train = data_train['Exited']\n",
    "\n",
    "features_valid = data_valid.drop(['Exited'], axis=1)\n",
    "target_valid = data_valid['Exited']\n",
    "\n",
    "features_test = data_test.drop(['Exited'], axis=1)\n",
    "target_test = data_test['Exited']\n",
    "\n",
    "display(target_train.sum(), target_valid.sum(), target_test.sum())"
   ]
  },
  {
   "cell_type": "markdown",
   "metadata": {},
   "source": [
    "<b>Ответ студента №1</b>\n",
    "    \n",
    "Данные разделены верно."
   ]
  },
  {
   "cell_type": "markdown",
   "metadata": {},
   "source": [
    "<div class=\"alert alert-info\">\n",
    "<b>Ответ студента №2</b>\n",
    "\n",
    "Масштабируем данные о кредитном рейтинге, возрасте клиента, сроке обслуживания в Банке, балансе и оценке зарплаты. Обучение масштабирования проведем на тренировочной выборки и применим его для тренировочной, валидационной и тестовой выборок."
   ]
  },
  {
   "cell_type": "code",
   "execution_count": 23,
   "metadata": {},
   "outputs": [
    {
     "data": {
      "text/html": [
       "<div>\n",
       "<style scoped>\n",
       "    .dataframe tbody tr th:only-of-type {\n",
       "        vertical-align: middle;\n",
       "    }\n",
       "\n",
       "    .dataframe tbody tr th {\n",
       "        vertical-align: top;\n",
       "    }\n",
       "\n",
       "    .dataframe thead th {\n",
       "        text-align: right;\n",
       "    }\n",
       "</style>\n",
       "<table border=\"1\" class=\"dataframe\">\n",
       "  <thead>\n",
       "    <tr style=\"text-align: right;\">\n",
       "      <th></th>\n",
       "      <th>CreditScore</th>\n",
       "      <th>Age</th>\n",
       "      <th>Tenure</th>\n",
       "      <th>Balance</th>\n",
       "      <th>HasCrCard</th>\n",
       "      <th>IsActiveMember</th>\n",
       "      <th>EstimatedSalary</th>\n",
       "      <th>Gender_Male</th>\n",
       "      <th>NumOfProducts_2</th>\n",
       "      <th>NumOfProducts_3</th>\n",
       "      <th>NumOfProducts_4</th>\n",
       "      <th>Geography_Germany</th>\n",
       "      <th>Geography_Spain</th>\n",
       "    </tr>\n",
       "  </thead>\n",
       "  <tbody>\n",
       "    <tr>\n",
       "      <th>8837</th>\n",
       "      <td>-1.29</td>\n",
       "      <td>-0.66</td>\n",
       "      <td>0.69</td>\n",
       "      <td>0.79</td>\n",
       "      <td>0</td>\n",
       "      <td>0</td>\n",
       "      <td>-0.22</td>\n",
       "      <td>1</td>\n",
       "      <td>0</td>\n",
       "      <td>0</td>\n",
       "      <td>0</td>\n",
       "      <td>0</td>\n",
       "      <td>0</td>\n",
       "    </tr>\n",
       "    <tr>\n",
       "      <th>1090</th>\n",
       "      <td>-1.56</td>\n",
       "      <td>0.78</td>\n",
       "      <td>1.03</td>\n",
       "      <td>0.83</td>\n",
       "      <td>1</td>\n",
       "      <td>0</td>\n",
       "      <td>1.38</td>\n",
       "      <td>0</td>\n",
       "      <td>0</td>\n",
       "      <td>0</td>\n",
       "      <td>0</td>\n",
       "      <td>0</td>\n",
       "      <td>1</td>\n",
       "    </tr>\n",
       "    <tr>\n",
       "      <th>7609</th>\n",
       "      <td>1.58</td>\n",
       "      <td>0.11</td>\n",
       "      <td>-0.36</td>\n",
       "      <td>-1.22</td>\n",
       "      <td>1</td>\n",
       "      <td>1</td>\n",
       "      <td>-0.31</td>\n",
       "      <td>1</td>\n",
       "      <td>1</td>\n",
       "      <td>0</td>\n",
       "      <td>0</td>\n",
       "      <td>0</td>\n",
       "      <td>1</td>\n",
       "    </tr>\n",
       "    <tr>\n",
       "      <th>7279</th>\n",
       "      <td>0.84</td>\n",
       "      <td>0.01</td>\n",
       "      <td>-1.05</td>\n",
       "      <td>0.81</td>\n",
       "      <td>1</td>\n",
       "      <td>1</td>\n",
       "      <td>-0.43</td>\n",
       "      <td>0</td>\n",
       "      <td>0</td>\n",
       "      <td>0</td>\n",
       "      <td>0</td>\n",
       "      <td>0</td>\n",
       "      <td>1</td>\n",
       "    </tr>\n",
       "    <tr>\n",
       "      <th>2245</th>\n",
       "      <td>-0.40</td>\n",
       "      <td>-1.24</td>\n",
       "      <td>-0.36</td>\n",
       "      <td>-1.22</td>\n",
       "      <td>1</td>\n",
       "      <td>1</td>\n",
       "      <td>1.39</td>\n",
       "      <td>0</td>\n",
       "      <td>1</td>\n",
       "      <td>0</td>\n",
       "      <td>0</td>\n",
       "      <td>0</td>\n",
       "      <td>1</td>\n",
       "    </tr>\n",
       "  </tbody>\n",
       "</table>\n",
       "</div>"
      ],
      "text/plain": [
       "      CreditScore   Age  Tenure  Balance  HasCrCard  IsActiveMember  \\\n",
       "8837        -1.29 -0.66    0.69     0.79          0               0   \n",
       "1090        -1.56  0.78    1.03     0.83          1               0   \n",
       "7609         1.58  0.11   -0.36    -1.22          1               1   \n",
       "7279         0.84  0.01   -1.05     0.81          1               1   \n",
       "2245        -0.40 -1.24   -0.36    -1.22          1               1   \n",
       "\n",
       "      EstimatedSalary  Gender_Male  NumOfProducts_2  NumOfProducts_3  \\\n",
       "8837            -0.22            1                0                0   \n",
       "1090             1.38            0                0                0   \n",
       "7609            -0.31            1                1                0   \n",
       "7279            -0.43            0                0                0   \n",
       "2245             1.39            0                1                0   \n",
       "\n",
       "      NumOfProducts_4  Geography_Germany  Geography_Spain  \n",
       "8837                0                  0                0  \n",
       "1090                0                  0                1  \n",
       "7609                0                  0                1  \n",
       "7279                0                  0                1  \n",
       "2245                0                  0                1  "
      ]
     },
     "metadata": {},
     "output_type": "display_data"
    },
    {
     "data": {
      "text/html": [
       "<div>\n",
       "<style scoped>\n",
       "    .dataframe tbody tr th:only-of-type {\n",
       "        vertical-align: middle;\n",
       "    }\n",
       "\n",
       "    .dataframe tbody tr th {\n",
       "        vertical-align: top;\n",
       "    }\n",
       "\n",
       "    .dataframe thead th {\n",
       "        text-align: right;\n",
       "    }\n",
       "</style>\n",
       "<table border=\"1\" class=\"dataframe\">\n",
       "  <thead>\n",
       "    <tr style=\"text-align: right;\">\n",
       "      <th></th>\n",
       "      <th>CreditScore</th>\n",
       "      <th>Age</th>\n",
       "      <th>Tenure</th>\n",
       "      <th>Balance</th>\n",
       "      <th>HasCrCard</th>\n",
       "      <th>IsActiveMember</th>\n",
       "      <th>EstimatedSalary</th>\n",
       "      <th>Gender_Male</th>\n",
       "      <th>NumOfProducts_2</th>\n",
       "      <th>NumOfProducts_3</th>\n",
       "      <th>NumOfProducts_4</th>\n",
       "      <th>Geography_Germany</th>\n",
       "      <th>Geography_Spain</th>\n",
       "    </tr>\n",
       "  </thead>\n",
       "  <tbody>\n",
       "    <tr>\n",
       "      <th>6800</th>\n",
       "      <td>-0.42</td>\n",
       "      <td>-0.18</td>\n",
       "      <td>1.73</td>\n",
       "      <td>1.02</td>\n",
       "      <td>1</td>\n",
       "      <td>1</td>\n",
       "      <td>0.52</td>\n",
       "      <td>0</td>\n",
       "      <td>1</td>\n",
       "      <td>0</td>\n",
       "      <td>0</td>\n",
       "      <td>0</td>\n",
       "      <td>1</td>\n",
       "    </tr>\n",
       "    <tr>\n",
       "      <th>4950</th>\n",
       "      <td>0.11</td>\n",
       "      <td>0.20</td>\n",
       "      <td>-0.01</td>\n",
       "      <td>0.74</td>\n",
       "      <td>0</td>\n",
       "      <td>1</td>\n",
       "      <td>0.36</td>\n",
       "      <td>1</td>\n",
       "      <td>1</td>\n",
       "      <td>0</td>\n",
       "      <td>0</td>\n",
       "      <td>1</td>\n",
       "      <td>0</td>\n",
       "    </tr>\n",
       "    <tr>\n",
       "      <th>8287</th>\n",
       "      <td>1.07</td>\n",
       "      <td>1.16</td>\n",
       "      <td>-0.36</td>\n",
       "      <td>0.05</td>\n",
       "      <td>0</td>\n",
       "      <td>1</td>\n",
       "      <td>-0.55</td>\n",
       "      <td>1</td>\n",
       "      <td>1</td>\n",
       "      <td>0</td>\n",
       "      <td>0</td>\n",
       "      <td>0</td>\n",
       "      <td>1</td>\n",
       "    </tr>\n",
       "    <tr>\n",
       "      <th>8912</th>\n",
       "      <td>-0.85</td>\n",
       "      <td>-0.85</td>\n",
       "      <td>-0.71</td>\n",
       "      <td>1.01</td>\n",
       "      <td>1</td>\n",
       "      <td>1</td>\n",
       "      <td>-1.15</td>\n",
       "      <td>0</td>\n",
       "      <td>0</td>\n",
       "      <td>0</td>\n",
       "      <td>0</td>\n",
       "      <td>0</td>\n",
       "      <td>1</td>\n",
       "    </tr>\n",
       "    <tr>\n",
       "      <th>8265</th>\n",
       "      <td>-0.55</td>\n",
       "      <td>-0.09</td>\n",
       "      <td>0.34</td>\n",
       "      <td>0.63</td>\n",
       "      <td>1</td>\n",
       "      <td>1</td>\n",
       "      <td>-1.30</td>\n",
       "      <td>1</td>\n",
       "      <td>1</td>\n",
       "      <td>0</td>\n",
       "      <td>0</td>\n",
       "      <td>0</td>\n",
       "      <td>1</td>\n",
       "    </tr>\n",
       "  </tbody>\n",
       "</table>\n",
       "</div>"
      ],
      "text/plain": [
       "      CreditScore   Age  Tenure  Balance  HasCrCard  IsActiveMember  \\\n",
       "6800        -0.42 -0.18    1.73     1.02          1               1   \n",
       "4950         0.11  0.20   -0.01     0.74          0               1   \n",
       "8287         1.07  1.16   -0.36     0.05          0               1   \n",
       "8912        -0.85 -0.85   -0.71     1.01          1               1   \n",
       "8265        -0.55 -0.09    0.34     0.63          1               1   \n",
       "\n",
       "      EstimatedSalary  Gender_Male  NumOfProducts_2  NumOfProducts_3  \\\n",
       "6800             0.52            0                1                0   \n",
       "4950             0.36            1                1                0   \n",
       "8287            -0.55            1                1                0   \n",
       "8912            -1.15            0                0                0   \n",
       "8265            -1.30            1                1                0   \n",
       "\n",
       "      NumOfProducts_4  Geography_Germany  Geography_Spain  \n",
       "6800                0                  0                1  \n",
       "4950                0                  1                0  \n",
       "8287                0                  0                1  \n",
       "8912                0                  0                1  \n",
       "8265                0                  0                1  "
      ]
     },
     "metadata": {},
     "output_type": "display_data"
    },
    {
     "data": {
      "text/html": [
       "<div>\n",
       "<style scoped>\n",
       "    .dataframe tbody tr th:only-of-type {\n",
       "        vertical-align: middle;\n",
       "    }\n",
       "\n",
       "    .dataframe tbody tr th {\n",
       "        vertical-align: top;\n",
       "    }\n",
       "\n",
       "    .dataframe thead th {\n",
       "        text-align: right;\n",
       "    }\n",
       "</style>\n",
       "<table border=\"1\" class=\"dataframe\">\n",
       "  <thead>\n",
       "    <tr style=\"text-align: right;\">\n",
       "      <th></th>\n",
       "      <th>CreditScore</th>\n",
       "      <th>Age</th>\n",
       "      <th>Tenure</th>\n",
       "      <th>Balance</th>\n",
       "      <th>HasCrCard</th>\n",
       "      <th>IsActiveMember</th>\n",
       "      <th>EstimatedSalary</th>\n",
       "      <th>Gender_Male</th>\n",
       "      <th>NumOfProducts_2</th>\n",
       "      <th>NumOfProducts_3</th>\n",
       "      <th>NumOfProducts_4</th>\n",
       "      <th>Geography_Germany</th>\n",
       "      <th>Geography_Spain</th>\n",
       "    </tr>\n",
       "  </thead>\n",
       "  <tbody>\n",
       "    <tr>\n",
       "      <th>3726</th>\n",
       "      <td>0.26</td>\n",
       "      <td>-0.66</td>\n",
       "      <td>1.73</td>\n",
       "      <td>-1.22</td>\n",
       "      <td>1</td>\n",
       "      <td>0</td>\n",
       "      <td>1.60</td>\n",
       "      <td>1</td>\n",
       "      <td>1</td>\n",
       "      <td>0</td>\n",
       "      <td>0</td>\n",
       "      <td>0</td>\n",
       "      <td>1</td>\n",
       "    </tr>\n",
       "    <tr>\n",
       "      <th>4661</th>\n",
       "      <td>1.39</td>\n",
       "      <td>-0.09</td>\n",
       "      <td>-1.40</td>\n",
       "      <td>0.99</td>\n",
       "      <td>1</td>\n",
       "      <td>1</td>\n",
       "      <td>1.25</td>\n",
       "      <td>1</td>\n",
       "      <td>0</td>\n",
       "      <td>0</td>\n",
       "      <td>0</td>\n",
       "      <td>1</td>\n",
       "      <td>0</td>\n",
       "    </tr>\n",
       "    <tr>\n",
       "      <th>8400</th>\n",
       "      <td>-0.06</td>\n",
       "      <td>0.97</td>\n",
       "      <td>1.73</td>\n",
       "      <td>-1.22</td>\n",
       "      <td>1</td>\n",
       "      <td>1</td>\n",
       "      <td>0.79</td>\n",
       "      <td>1</td>\n",
       "      <td>1</td>\n",
       "      <td>0</td>\n",
       "      <td>0</td>\n",
       "      <td>0</td>\n",
       "      <td>1</td>\n",
       "    </tr>\n",
       "    <tr>\n",
       "      <th>6135</th>\n",
       "      <td>0.70</td>\n",
       "      <td>-0.28</td>\n",
       "      <td>-1.05</td>\n",
       "      <td>0.43</td>\n",
       "      <td>0</td>\n",
       "      <td>1</td>\n",
       "      <td>-0.88</td>\n",
       "      <td>1</td>\n",
       "      <td>1</td>\n",
       "      <td>0</td>\n",
       "      <td>0</td>\n",
       "      <td>0</td>\n",
       "      <td>1</td>\n",
       "    </tr>\n",
       "    <tr>\n",
       "      <th>8853</th>\n",
       "      <td>0.28</td>\n",
       "      <td>-1.33</td>\n",
       "      <td>-0.71</td>\n",
       "      <td>-1.22</td>\n",
       "      <td>1</td>\n",
       "      <td>0</td>\n",
       "      <td>1.39</td>\n",
       "      <td>0</td>\n",
       "      <td>1</td>\n",
       "      <td>0</td>\n",
       "      <td>0</td>\n",
       "      <td>0</td>\n",
       "      <td>0</td>\n",
       "    </tr>\n",
       "  </tbody>\n",
       "</table>\n",
       "</div>"
      ],
      "text/plain": [
       "      CreditScore   Age  Tenure  Balance  HasCrCard  IsActiveMember  \\\n",
       "3726         0.26 -0.66    1.73    -1.22          1               0   \n",
       "4661         1.39 -0.09   -1.40     0.99          1               1   \n",
       "8400        -0.06  0.97    1.73    -1.22          1               1   \n",
       "6135         0.70 -0.28   -1.05     0.43          0               1   \n",
       "8853         0.28 -1.33   -0.71    -1.22          1               0   \n",
       "\n",
       "      EstimatedSalary  Gender_Male  NumOfProducts_2  NumOfProducts_3  \\\n",
       "3726             1.60            1                1                0   \n",
       "4661             1.25            1                0                0   \n",
       "8400             0.79            1                1                0   \n",
       "6135            -0.88            1                1                0   \n",
       "8853             1.39            0                1                0   \n",
       "\n",
       "      NumOfProducts_4  Geography_Germany  Geography_Spain  \n",
       "3726                0                  0                1  \n",
       "4661                0                  1                0  \n",
       "8400                0                  0                1  \n",
       "6135                0                  0                1  \n",
       "8853                0                  0                0  "
      ]
     },
     "metadata": {},
     "output_type": "display_data"
    }
   ],
   "source": [
    "#data_ohe_scaled=data_ohe\n",
    "col_names = [\"CreditScore\", \"Age\", \"Tenure\", \"Balance\", \"EstimatedSalary\"]\n",
    "features_features_train = features_train[col_names]\n",
    "features_features_valid = features_valid[col_names]\n",
    "features_features_test = features_test[col_names]\n",
    "\n",
    "\n",
    "scaler = StandardScaler()\n",
    "scaler.fit(features_features_train.values)\n",
    "\n",
    "features_features_train = scaler.transform(features_features_train.values)\n",
    "features_features_valid = scaler.transform(features_features_valid.values)\n",
    "features_features_test = scaler.transform(features_features_test.values)\n",
    "\n",
    "\n",
    "features_train[col_names] = features_features_train\n",
    "features_valid[col_names] = features_features_valid\n",
    "features_test[col_names] = features_features_test\n",
    "\n",
    "\n",
    "display(features_train.head())\n",
    "display(features_valid.head())\n",
    "display(features_test.head())\n",
    "\n"
   ]
  },
  {
   "cell_type": "markdown",
   "metadata": {},
   "source": [
    "<div class=\"alert alert-info\">\n",
    "<b>Ответ студента №2</b>\n",
    "    \n",
    "Задал для stratify - целевой признак. "
   ]
  },
  {
   "cell_type": "markdown",
   "metadata": {},
   "source": [
    "<div class=\"alert alert-block alert-success\">\n",
    "<b>Комментарий ревьюера v2:</b>\n",
    "\n",
    "<b>✅«Отлично»:</b> 👍"
   ]
  },
  {
   "cell_type": "markdown",
   "metadata": {},
   "source": [
    "### Дерево решений"
   ]
  },
  {
   "cell_type": "markdown",
   "metadata": {},
   "source": [
    "\n",
    "<b>Ответ студента №1</b>\n",
    "\n",
    "Создадим функцию для построения дерева решений на основе тренировочных данных и выявлении наилучшей модели на валидационной выборке на основе критерия F1, перебирая глубину дерева и порога классификации, и AUC-ROC, перебирая глубину дерева"
   ]
  },
  {
   "cell_type": "code",
   "execution_count": 24,
   "metadata": {},
   "outputs": [],
   "source": [
    "#DecisionTreeClassification\n",
    "def tree(features_train,target_train, balance_mark):\n",
    "    #best_model_f1_tree_train = None\n",
    "    #best_f1_tree_train = 0\n",
    "    #best_f1_depth_tree_train = 0\n",
    "    #best_f1_threshold_treet_train = 0\n",
    "\n",
    "    best_model_f1_tree_valid = None\n",
    "    best_f1_tree_valid = 0\n",
    "    best_f1_depth_tree_valid = 0\n",
    "    best_f1_threshold_tree_valid = 0\n",
    "\n",
    "    #best_model_auc_roc_tree_train = None\n",
    "    #best_auc_roc_tree_train = 0\n",
    "    #best_auc_roc_depth_tree_train = 0\n",
    "    #best_auc_roc_threshold_tree_train = 0\n",
    "\n",
    "    best_model_auc_roc_tree_valid = None\n",
    "    best_auc_roc_tree_valid = 0\n",
    "    best_auc_roc_depth_tree_valid = 0\n",
    "    best_auc_roc_threshold_tree_valid = 0\n",
    "\n",
    "    numdepth=40\n",
    "    index_m=0\n",
    "    index_n=0\n",
    "\n",
    "    #tree_f1 = pd.DataFrame(index=range(50000), columns =[\"threshold\",'depth', 'f1_train','f1_valid'])\n",
    "    tree_f1 = pd.DataFrame(index=range(50000), columns =[\"threshold\",'depth', 'f1_valid'])\n",
    "    \n",
    "\n",
    "    #tree_auc_roc = pd.DataFrame(index=range(numdepth), columns =['depth',\"auc_roc_train\",\"auc_roc_valid\"])\n",
    "    tree_auc_roc = pd.DataFrame(index=range(numdepth), columns =['depth',\"auc_roc_valid\"])\n",
    "\n",
    "    \n",
    "    for depth in range(1,numdepth+1):\n",
    "        model=DecisionTreeClassifier(random_state=12345, max_depth=depth, class_weight=balance_mark)\n",
    "        model.fit(features_train,target_train)\n",
    "    \n",
    "        probabilities_valid_tree = model.predict_proba(features_valid)\n",
    "        #probabilities_train_tree = model.predict_proba(features_train)\n",
    "\n",
    "        probabilities_one_valid_tree = probabilities_valid_tree[:, 1]\n",
    "        #probabilities_one_train_tree = probabilities_train_tree[:, 1]\n",
    "    \n",
    "        auc_roc_valid=roc_auc_score(target_valid, probabilities_one_valid_tree)\n",
    "        #auc_roc_train=roc_auc_score(target_train, probabilities_one_train_tree)\n",
    "    \n",
    "        #tree_auc_roc.at[index_m, \"auc_roc_train\"]=auc_roc_train\n",
    "        tree_auc_roc.at[index_m, \"auc_roc_valid\"]=auc_roc_valid\n",
    "        tree_auc_roc.at[index_m, \"depth\"]=depth\n",
    "    \n",
    "        index_m+=1\n",
    "    \n",
    "        if auc_roc_valid > best_auc_roc_tree_valid:\n",
    "            best_model_auc_roc_tree_valid =model\n",
    "            best_auc_roc_tree_valid =  auc_roc_valid\n",
    "            best_auc_roc_depth_tree_valid = depth\n",
    "                    \n",
    "        #if auc_roc_train > best_auc_roc_tree_train:\n",
    "        #    best_model_auc_roc_tree_train = model\n",
    "        #    best_auc_roc_tree_train = auc_roc_train\n",
    "        #    best_auc_roc_depth_tree_train =depth\n",
    "    \n",
    "    \n",
    "        for threshold in np.arange(0, 1.0, 0.02):\n",
    "                predicted_valid = probabilities_one_valid_tree > threshold\n",
    "                #predicted_train = probabilities_one_train_tree > threshold\n",
    "    \n",
    "                f1_valid=f1_score(target_valid,predicted_valid)\n",
    "                #f1_train=f1_score(target_train,predicted_train)\n",
    "        \n",
    "                tree_f1.at[index_n, \"threshold\"]=threshold\n",
    "                #tree_f1.at[index_n, \"f1_train\"]=f1_train\n",
    "                tree_f1.at[index_n, \"f1_valid\"]=f1_valid\n",
    "                tree_f1.at[index_n, \"depth\"]=depth\n",
    "                    \n",
    "                index_n+=1\n",
    "        \n",
    "                if f1_valid > best_f1_tree_valid:\n",
    "                    best_model_f1_tree_valid = model\n",
    "                    best_f1_tree_valid = f1_valid\n",
    "                    best_f1_depth_tree_valid = depth\n",
    "                    best_f1_threshold_tree_valid = threshold\n",
    "                \n",
    "             \n",
    "                #if f1_train > best_f1_tree_train:\n",
    "                #    best_model_f1_tree_train = model\n",
    "                #    best_f1_tree_train = f1_train\n",
    "                #    best_f1_depth_tree_train = depth\n",
    "                #    best_f1_threshold_tree_train = threshold\n",
    "    \n",
    "    #return best_f1_tree_train, best_f1_threshold_tree_train, best_f1_depth_tree_train, best_auc_roc_tree_train, best_auc_roc_depth_tree_train, best_f1_tree_valid, best_f1_threshold_tree_valid, best_f1_depth_tree_valid, best_auc_roc_tree_valid,best_auc_roc_depth_tree_valid, best_model_f1_tree_valid,best_model_auc_roc_tree_valid\n",
    "    return best_f1_tree_valid, best_f1_threshold_tree_valid, best_f1_depth_tree_valid, best_auc_roc_tree_valid,best_auc_roc_depth_tree_valid, best_model_f1_tree_valid,best_model_auc_roc_tree_valid\n"
   ]
  },
  {
   "cell_type": "markdown",
   "metadata": {},
   "source": [
    "<div class=\"alert alert-info\">\n",
    "<b>Ответ студента №2</b>\n",
    "\n",
    "Да, убрал все что связано с train. Хотел сначала сравнивать результаты train и valid для понимания о преобучения модели, но так как я все равно не анализирую это, то только код захломил."
   ]
  },
  {
   "cell_type": "markdown",
   "metadata": {},
   "source": [
    "<b>Ответ студента №1</b>\n",
    "\n",
    "Найдем наилучшую модель \"дерева решений\" для несбалалансированных данных, обученную на тренировочных данных и показавшую наилучший результат на валидационной выборке."
   ]
  },
  {
   "cell_type": "code",
   "execution_count": 25,
   "metadata": {},
   "outputs": [
    {
     "data": {
      "text/plain": [
       "'Решающее дерево'"
      ]
     },
     "metadata": {},
     "output_type": "display_data"
    },
    {
     "data": {
      "text/plain": [
       "'Валидационная выборка'"
      ]
     },
     "metadata": {},
     "output_type": "display_data"
    },
    {
     "data": {
      "text/plain": [
       "'Максимальный F1:'"
      ]
     },
     "metadata": {},
     "output_type": "display_data"
    },
    {
     "data": {
      "text/plain": [
       "0.6108998732572878"
      ]
     },
     "metadata": {},
     "output_type": "display_data"
    },
    {
     "data": {
      "text/plain": [
       "'Порог классификации:'"
      ]
     },
     "metadata": {},
     "output_type": "display_data"
    },
    {
     "data": {
      "text/plain": [
       "0.26"
      ]
     },
     "metadata": {},
     "output_type": "display_data"
    },
    {
     "data": {
      "text/plain": [
       "'Максимальная глубина:'"
      ]
     },
     "metadata": {},
     "output_type": "display_data"
    },
    {
     "data": {
      "text/plain": [
       "6"
      ]
     },
     "metadata": {},
     "output_type": "display_data"
    },
    {
     "name": "stdout",
     "output_type": "stream",
     "text": [
      "\n",
      "\n"
     ]
    },
    {
     "data": {
      "text/plain": [
       "'Максимальный AUC-ROC:'"
      ]
     },
     "metadata": {},
     "output_type": "display_data"
    },
    {
     "data": {
      "text/plain": [
       "0.8381016956729882"
      ]
     },
     "metadata": {},
     "output_type": "display_data"
    },
    {
     "data": {
      "text/plain": [
       "'Максимальная глубина для AUC-ROC:'"
      ]
     },
     "metadata": {},
     "output_type": "display_data"
    },
    {
     "data": {
      "text/plain": [
       "6"
      ]
     },
     "metadata": {},
     "output_type": "display_data"
    },
    {
     "name": "stdout",
     "output_type": "stream",
     "text": [
      "CPU times: user 1.64 s, sys: 9.42 ms, total: 1.65 s\n",
      "Wall time: 1.65 s\n"
     ]
    }
   ],
   "source": [
    "%%time\n",
    "#unbalanced_tree\n",
    "balance_mark=None\n",
    "\n",
    "best_f1_tree_unbalanced_valid, best_f1_threshold_tree_unbalanced_valid, best_f1_depth_tree_unbalanced_valid,best_auc_roc_tree_unbalanced_valid, best_auc_roc_depth_tree_unbalanced_valid, best_model_f1_tree_unbalanced_valid, best_model_auc_roc_tree_unbalanced_valid=tree(features_train,target_train, balance_mark)\n",
    "\n",
    "display(\"Решающее дерево\")\n",
    "display(\"Валидационная выборка\")                    \n",
    "display(\"Максимальный F1:\", best_f1_tree_unbalanced_valid,\n",
    "        \"Порог классификации:\", best_f1_threshold_tree_unbalanced_valid,\n",
    "        \"Максимальная глубина:\", best_f1_depth_tree_unbalanced_valid)\n",
    "print(\"\\n\")\n",
    "display(\"Максимальный AUC-ROC:\", best_auc_roc_tree_unbalanced_valid,\n",
    "        \"Максимальная глубина для AUC-ROC:\", best_auc_roc_depth_tree_unbalanced_valid)"
   ]
  },
  {
   "cell_type": "code",
   "execution_count": 26,
   "metadata": {},
   "outputs": [
    {
     "data": {
      "image/png": "[encoded data removed]",
      "text/plain": [
       "<Figure size 432x432 with 1 Axes>"
      ]
     },
     "metadata": {
      "needs_background": "light"
     },
     "output_type": "display_data"
    }
   ],
   "source": [
    "#ROC-кривая для дерева решений\n",
    "probabilities_valid_tree_unbalanced = best_model_auc_roc_tree_unbalanced_valid.predict_proba(features_valid)\n",
    "probabilities_one_valid_tree_unbalanced = probabilities_valid_tree_unbalanced[:, 1]\n",
    "\n",
    "fpr_tree_unbalanced, tpr_tree_unbalanced, thresholds_tree_unbalanced = roc_curve(target_valid, probabilities_one_valid_tree_unbalanced) \n",
    "\n",
    "plt.figure(figsize=(6,6))\n",
    "plt.plot(fpr_tree_unbalanced, tpr_tree_unbalanced)\n",
    "plt.xlim([0.0,1.0])\n",
    "plt.ylim([0.0,1.0])\n",
    "\n",
    "# ROC-кривая случайной модели (выглядит как прямая)\n",
    "plt.plot([0, 1], [0, 1], linestyle='--')\n",
    "plt.xlabel('False Positive Rate')\n",
    "plt.ylabel('True Positive Rate')\n",
    "plt.title(\"ROC-кривая для решающего дерева, несбалансированная выборка\")\n",
    "plt.show()"
   ]
  },
  {
   "cell_type": "markdown",
   "metadata": {},
   "source": [
    "### Случайный лес"
   ]
  },
  {
   "cell_type": "markdown",
   "metadata": {},
   "source": [
    "<b>Ответ студента №1</b>\n",
    "\n",
    "Создадим функцию для построения случайного леса на основе тренировочных данных и выявлении наилучшей модели на валидационной выборке на основе критерия F1, перебирая глубину и количесвто деревьев, а также порог классификации, и AUC-ROC, перебирая глубину дерева и их количество"
   ]
  },
  {
   "cell_type": "code",
   "execution_count": 27,
   "metadata": {},
   "outputs": [],
   "source": [
    "#RandomForestClassifiier\n",
    "\n",
    "def forest(features_train,target_train, balance_mark):\n",
    "\n",
    "    #best_model_f1_forest_train = None\n",
    "    #best_f1_forest_train = 0\n",
    "    #best_f1_est_forest_train = 0\n",
    "    #best_f1_depth_forest_train = 0\n",
    "    #best_f1_threshold_forest_train = 0\n",
    "\n",
    "    best_model_f1_forest_valid = None\n",
    "    best_f1_forest_valid = 0\n",
    "    best_f1_est_forest_valid = 0\n",
    "    best_f1_depth_forest_valid = 0\n",
    "    best_f1_threshold_forest_valid = 0\n",
    "\n",
    "    #best_model_auc_roc_forest_train = None\n",
    "    #best_auc_roc_forest_train = 0\n",
    "    #best_auc_roc_est_forest_train = 0\n",
    "    #best_auc_roc_depth_forest_train = 0\n",
    "\n",
    "    best_model_auc_roc_forest_valid = None\n",
    "    best_auc_roc_forest_valid = 0\n",
    "    best_auc_roc_est_forest_valid = 0\n",
    "    best_auc_roc_depth_forest_valid = 0\n",
    "\n",
    "\n",
    "    numest=200\n",
    "    numdepth=40\n",
    "    index_m=0\n",
    "    index_n=0\n",
    "\n",
    "\n",
    "    #forest_f1 = pd.DataFrame(index=range(50000), columns =[\"threshold\",'est','depth', 'f1_train','f1_valid'])\n",
    "    forest_f1 = pd.DataFrame(index=range(50000), columns =[\"threshold\",'est','depth', 'f1_valid'])\n",
    "\n",
    "    \n",
    "    #forest_auc_roc = pd.DataFrame(index=range(50000), columns =['est','depth', \"auc_roc_train\",\"auc_roc_valid\"])\n",
    "    forest_auc_roc = pd.DataFrame(index=range(50000), columns =['est','depth', \"auc_roc_valid\"])\n",
    "\n",
    "    \n",
    "    for est in range(10, numest+1, 10):\n",
    "        for depth in range (1, numdepth+1):\n",
    "\n",
    "            model = RandomForestClassifier(random_state=12345, n_estimators=est, max_depth=depth, class_weight=balance_mark)\n",
    "            model.fit(features_train, target_train)\n",
    "        \n",
    "            probabilities_valid_forest = model.predict_proba(features_valid)\n",
    "            #probabilities_train_forest = model.predict_proba(features_train)\n",
    "\n",
    "            probabilities_one_valid_forest = probabilities_valid_forest[:, 1]\n",
    "            #probabilities_one_train_forest = probabilities_train_forest[:, 1]\n",
    "            \n",
    "            auc_roc_valid=roc_auc_score(target_valid, probabilities_one_valid_forest)\n",
    "            #auc_roc_train=roc_auc_score(target_train, probabilities_one_train_forest)\n",
    "            \n",
    "            #forest_auc_roc.at[index_m, \"auc_roc_train\"]=auc_roc_train\n",
    "            forest_auc_roc.at[index_m, \"auc_roc_valid\"]=auc_roc_valid\n",
    "            forest_auc_roc.at[index_m, \"est\"]=est\n",
    "            forest_auc_roc.at[index_m, \"depth\"]=depth\n",
    "            \n",
    "            index_m+=1\n",
    "\n",
    "            if auc_roc_valid > best_auc_roc_forest_valid:\n",
    "                    best_model_auc_roc_forest_valid = model\n",
    "                    best_auc_roc_forest_valid =  auc_roc_valid\n",
    "                    best_auc_roc_est_forest_valid = est\n",
    "                    best_auc_roc_depth_forest_valid = depth\n",
    "\n",
    "              \n",
    "        \n",
    "            #if auc_roc_train > best_auc_roc_forest_train:\n",
    "            #        best_model_auc_roc_forest_train = model\n",
    "            #        best_auc_roc_forest_train = auc_roc_train\n",
    "            #        best_auc_roc_est_forest_train = est\n",
    "            #        best_auc_roc_depth_forest_train =depth\n",
    "\n",
    "            \n",
    "            for threshold in np.arange(0, 1.0, 0.02):\n",
    "                predicted_valid = probabilities_one_valid_forest > threshold\n",
    "                #predicted_train = probabilities_one_train_forest > threshold\n",
    "    \n",
    "                f1_valid=f1_score(target_valid,predicted_valid)\n",
    "                #f1_train=f1_score(target_train,predicted_train)\n",
    "    \n",
    "                forest_f1.at[index_n, \"threshold\"]=threshold\n",
    "                #forest_f1.at[index_n, \"f1_train\"]=f1_train\n",
    "                forest_f1.at[index_n, \"f1_valid\"]=f1_valid\n",
    "                forest_f1.at[index_n, \"est\"]=est\n",
    "                forest_f1.at[index_n, \"depth\"]=depth\n",
    "                    \n",
    "                index_n+=1\n",
    "        \n",
    "                if f1_valid > best_f1_forest_valid:\n",
    "                    best_model_f1_forest_valid = model\n",
    "                    best_f1_forest_valid = f1_valid\n",
    "                    best_f1_est_forest_valid = est\n",
    "                    best_f1_depth_forest_valid = depth\n",
    "                    best_f1_threshold_forest_valid = threshold\n",
    "                \n",
    "             \n",
    "                #if f1_train > best_f1_forest_train:\n",
    "                #    best_model_f1_forest_train = model\n",
    "                #    best_f1_forest_train = f1_train\n",
    "                #    best_f1_est_forest_train = est\n",
    "                #    best_f1_depth_forest_train = depth\n",
    "                #    best_f1_threshold_forest_train = threshold\n",
    "\n",
    "      \n",
    "\n",
    "    #return best_f1_forest_train, best_f1_threshold_forest_train, best_f1_est_forest_train, best_f1_depth_forest_train, best_auc_roc_forest_train, best_auc_roc_est_forest_train, best_auc_roc_depth_forest_train, best_f1_forest_valid,best_f1_threshold_forest_valid,best_f1_est_forest_valid,best_f1_depth_forest_valid,best_auc_roc_forest_valid,best_auc_roc_est_forest_valid,best_auc_roc_depth_forest_valid,best_model_auc_roc_forest_valid,best_model_auc_roc_forest_train,best_model_f1_forest_valid,best_model_f1_forest_train\n",
    "    return  best_f1_forest_valid, best_f1_threshold_forest_valid, best_f1_est_forest_valid, best_f1_depth_forest_valid, best_auc_roc_forest_valid, best_auc_roc_est_forest_valid, best_auc_roc_depth_forest_valid, best_model_auc_roc_forest_valid, best_model_f1_forest_valid\n"
   ]
  },
  {
   "cell_type": "markdown",
   "metadata": {},
   "source": [
    "\n",
    "<b>Ответ студента №1</b>\n",
    "\n",
    "Найдем наилучшую модель \"случайного леса\" для несбалалансированных данных, обученную на тренировочных данных и показавшую наилучший результат на валидационной выборке."
   ]
  },
  {
   "cell_type": "code",
   "execution_count": 28,
   "metadata": {},
   "outputs": [
    {
     "data": {
      "text/plain": [
       "'Случайный лес'"
      ]
     },
     "metadata": {},
     "output_type": "display_data"
    },
    {
     "data": {
      "text/plain": [
       "'Валидационная выборка'"
      ]
     },
     "metadata": {},
     "output_type": "display_data"
    },
    {
     "data": {
      "text/plain": [
       "'Максимальный F1:'"
      ]
     },
     "metadata": {},
     "output_type": "display_data"
    },
    {
     "data": {
      "text/plain": [
       "0.6611570247933884"
      ]
     },
     "metadata": {},
     "output_type": "display_data"
    },
    {
     "data": {
      "text/plain": [
       "'Порог классификации:'"
      ]
     },
     "metadata": {},
     "output_type": "display_data"
    },
    {
     "data": {
      "text/plain": [
       "0.36"
      ]
     },
     "metadata": {},
     "output_type": "display_data"
    },
    {
     "data": {
      "text/plain": [
       "'Количество деревьев:'"
      ]
     },
     "metadata": {},
     "output_type": "display_data"
    },
    {
     "data": {
      "text/plain": [
       "100"
      ]
     },
     "metadata": {},
     "output_type": "display_data"
    },
    {
     "data": {
      "text/plain": [
       "'Максимальная глубина:'"
      ]
     },
     "metadata": {},
     "output_type": "display_data"
    },
    {
     "data": {
      "text/plain": [
       "16"
      ]
     },
     "metadata": {},
     "output_type": "display_data"
    },
    {
     "name": "stdout",
     "output_type": "stream",
     "text": [
      "\n",
      "\n"
     ]
    },
    {
     "data": {
      "text/plain": [
       "'Максимальный AUC-ROC:'"
      ]
     },
     "metadata": {},
     "output_type": "display_data"
    },
    {
     "data": {
      "text/plain": [
       "0.8785739433012255"
      ]
     },
     "metadata": {},
     "output_type": "display_data"
    },
    {
     "data": {
      "text/plain": [
       "'Количество деревьев:'"
      ]
     },
     "metadata": {},
     "output_type": "display_data"
    },
    {
     "data": {
      "text/plain": [
       "70"
      ]
     },
     "metadata": {},
     "output_type": "display_data"
    },
    {
     "data": {
      "text/plain": [
       "'Максимальная глубина:'"
      ]
     },
     "metadata": {},
     "output_type": "display_data"
    },
    {
     "data": {
      "text/plain": [
       "7"
      ]
     },
     "metadata": {},
     "output_type": "display_data"
    },
    {
     "name": "stdout",
     "output_type": "stream",
     "text": [
      "CPU times: user 59.4 s, sys: 420 ms, total: 59.8 s\n",
      "Wall time: 59.9 s\n"
     ]
    }
   ],
   "source": [
    "%%time\n",
    "#unbalanced_forest\n",
    "balance_mark=None\n",
    "\n",
    "best_f1_forest_unbalanced_valid, best_f1_threshold_forest_unbalanced_valid, best_f1_est_forest_unbalanced_valid, best_f1_depth_forest_unbalanced_valid, best_auc_roc_forest_unbalanced_valid, best_auc_roc_est_forest_unbalanced_valid, best_auc_roc_depth_forest_unbalanced_valid, best_model_auc_roc_forest_unbalanced_valid, best_model_f1_forest_unbalanced_valid = forest(features_train,target_train, balance_mark)\n",
    "\n",
    "\n",
    "display(\"Случайный лес\")\n",
    "\n",
    "#print(\"\\n\")\n",
    "display(\"Валидационная выборка\")                    \n",
    "display(\"Максимальный F1:\", best_f1_forest_unbalanced_valid,\n",
    "        \"Порог классификации:\", best_f1_threshold_forest_unbalanced_valid,\n",
    "        \"Количество деревьев:\", best_f1_est_forest_unbalanced_valid,\n",
    "        \"Максимальная глубина:\", best_f1_depth_forest_unbalanced_valid)\n",
    "print(\"\\n\")\n",
    "display(\"Максимальный AUC-ROC:\", best_auc_roc_forest_unbalanced_valid,\n",
    "        \"Количество деревьев:\", best_auc_roc_est_forest_unbalanced_valid,\n",
    "        \"Максимальная глубина:\", best_auc_roc_depth_forest_unbalanced_valid)"
   ]
  },
  {
   "cell_type": "code",
   "execution_count": 29,
   "metadata": {},
   "outputs": [
    {
     "data": {
      "image/png": "[encoded data removed]",
      "text/plain": [
       "<Figure size 432x432 with 1 Axes>"
      ]
     },
     "metadata": {
      "needs_background": "light"
     },
     "output_type": "display_data"
    }
   ],
   "source": [
    "#ROC-кривая\n",
    "probabilities_valid_forest_unbalanced = best_model_auc_roc_forest_unbalanced_valid.predict_proba(features_valid)\n",
    "probabilities_one_valid_forest_unbalanced = probabilities_valid_forest_unbalanced[:, 1]\n",
    "\n",
    "fpr_forest_unbalanced, tpr_forest_unbalanced, thresholds_forest_unbalanced = roc_curve(target_valid, probabilities_one_valid_forest_unbalanced) \n",
    "\n",
    "plt.figure(figsize=(6,6))\n",
    "plt.plot(fpr_forest_unbalanced, tpr_forest_unbalanced)\n",
    "plt.xlim([0.0,1.0])\n",
    "plt.ylim([0.0,1.0])\n",
    "\n",
    "# ROC-кривая случайной модели (выглядит как прямая)\n",
    "plt.plot([0, 1], [0, 1], linestyle='--')\n",
    "plt.xlabel('False Positive Rate')\n",
    "plt.ylabel('True Positive Rate')\n",
    "plt.title(\"ROC-кривая для случайного леса, несбалансированная выборка\")\n",
    "plt.show()"
   ]
  },
  {
   "cell_type": "markdown",
   "metadata": {},
   "source": [
    "### Логистическая регрессия"
   ]
  },
  {
   "cell_type": "markdown",
   "metadata": {},
   "source": [
    "<b>Ответ студента №1</b>\n",
    "\n",
    "Создадим функцию для построения логистической регрессии на основе тренировочных данных и выявлении наилучшей модели на валидационной выборке на основе критерия F1, перебирая порог классификации, и AUC-ROC"
   ]
  },
  {
   "cell_type": "code",
   "execution_count": 30,
   "metadata": {},
   "outputs": [],
   "source": [
    "#LogisticRegression\n",
    "def logistic(features_train,target_train, balance_mark):\n",
    "    best_model_auc_roc_logistic_valid = None\n",
    "    #best_model_auc_roc_logistic_train = None\n",
    "\n",
    "\n",
    "    #logistic_f1 = pd.DataFrame(index=range(50), columns =['threshold','f1_train','f1_valid'])\n",
    "    logistic_f1 = pd.DataFrame(index=range(50), columns =['threshold','f1_valid'])\n",
    "\n",
    "    index_n=0\n",
    "\n",
    "    #best_f1_logistic_train = 0\n",
    "    #best_threshold_f1_logistic_train = 0\n",
    "    #best_auc_roc_logistic_train = 0\n",
    "\n",
    "    best_f1_logistic_valid = 0\n",
    "    best_threshold_f1_logistic_valid = 0\n",
    "    best_auc_roc_logistic_valid = 0\n",
    "\n",
    "    model = LogisticRegression(random_state=12345, solver='liblinear', class_weight=balance_mark)\n",
    "    model.fit(features_train, target_train)\n",
    "\n",
    "    best_model_auc_roc_logistic_valid=model\n",
    "    #best_model_auc_roc_logistic_train=model\n",
    "    best_model_f1_logistic_valid=model\n",
    "    #best_model_f1_logistic_train=model\n",
    "\n",
    "    probabilities_valid_logistic = model.predict_proba(features_valid)\n",
    "    #probabilities_train_logistic = model.predict_proba(features_train)\n",
    "\n",
    "    probabilities_one_valid_logistic = probabilities_valid_logistic[:, 1]\n",
    "    #probabilities_one_train_logistic = probabilities_train_logistic[:, 1]\n",
    "\n",
    "    best_auc_roc_logistic_valid=roc_auc_score(target_valid, probabilities_one_valid_logistic)\n",
    "    #best_auc_roc_logistic_train=roc_auc_score(target_train, probabilities_one_train_logistic)\n",
    "\n",
    "\n",
    "    for threshold in np.arange(0, 1.0, 0.02):\n",
    "        predicted_valid = probabilities_one_valid_logistic > threshold\n",
    "        #predicted_train = probabilities_one_train_logistic > threshold\n",
    "    \n",
    "        f1_valid=f1_score(target_valid,predicted_valid)\n",
    "        #f1_train=f1_score(target_train,predicted_train)\n",
    "\n",
    "        logistic_f1.at[index_n, \"threshold\"]=threshold\n",
    "        #logistic_f1.at[index_n, \"f1_train\"]=f1_train\n",
    "        logistic_f1.at[index_n, \"f1_valid\"]=f1_valid\n",
    "    \n",
    "        index_n+=1\n",
    "        \n",
    "        if f1_valid > best_f1_logistic_valid:\n",
    "            best_f1_logistic_valid = f1_valid\n",
    "            best_f1_threshold_logistic_valid = threshold\n",
    "             \n",
    "        \n",
    "        #if f1_train > best_f1_logistic_train:\n",
    "        #    best_f1_logistic_train = f1_train\n",
    "        #    best_f1_threshold_logistic_train = threshold\n",
    "\n",
    "    #return best_f1_logistic_train, best_f1_threshold_logistic_train, best_auc_roc_logistic_train, best_f1_logistic_valid, best_f1_threshold_logistic_valid, best_auc_roc_logistic_valid, best_model_auc_roc_logistic_valid, best_model_auc_roc_logistic_train, best_model_f1_logistic_valid, best_model_f1_logistic_train\n",
    "    return best_f1_logistic_valid, best_f1_threshold_logistic_valid, best_auc_roc_logistic_valid, best_model_auc_roc_logistic_valid, best_model_f1_logistic_valid\n"
   ]
  },
  {
   "cell_type": "markdown",
   "metadata": {},
   "source": [
    "<div class=\"alert alert-info\">\n",
    "<b>Ответ студента №2</b>\n",
    "    \n",
    "Угу, наверное лучше сразу при анализе данных выявлять высокоскоррелированные данные, чтобы при построении моделей исключать наличие мультиколлинеарности?\n",
    "    \n",
    "Ниже приведу матрицу корреляций для количественных признаков и рассчитаю VIF коэффициент."
   ]
  },
  {
   "cell_type": "code",
   "execution_count": 31,
   "metadata": {},
   "outputs": [
    {
     "data": {
      "text/html": [
       "<div>\n",
       "<style scoped>\n",
       "    .dataframe tbody tr th:only-of-type {\n",
       "        vertical-align: middle;\n",
       "    }\n",
       "\n",
       "    .dataframe tbody tr th {\n",
       "        vertical-align: top;\n",
       "    }\n",
       "\n",
       "    .dataframe thead th {\n",
       "        text-align: right;\n",
       "    }\n",
       "</style>\n",
       "<table border=\"1\" class=\"dataframe\">\n",
       "  <thead>\n",
       "    <tr style=\"text-align: right;\">\n",
       "      <th></th>\n",
       "      <th>CreditScore</th>\n",
       "      <th>Age</th>\n",
       "      <th>Tenure</th>\n",
       "      <th>Balance</th>\n",
       "      <th>EstimatedSalary</th>\n",
       "    </tr>\n",
       "  </thead>\n",
       "  <tbody>\n",
       "    <tr>\n",
       "      <th>CreditScore</th>\n",
       "      <td>1.00</td>\n",
       "      <td>-0.01</td>\n",
       "      <td>0.01</td>\n",
       "      <td>0.01</td>\n",
       "      <td>0.00</td>\n",
       "    </tr>\n",
       "    <tr>\n",
       "      <th>Age</th>\n",
       "      <td>-0.01</td>\n",
       "      <td>1.00</td>\n",
       "      <td>-0.01</td>\n",
       "      <td>0.02</td>\n",
       "      <td>-0.02</td>\n",
       "    </tr>\n",
       "    <tr>\n",
       "      <th>Tenure</th>\n",
       "      <td>0.01</td>\n",
       "      <td>-0.01</td>\n",
       "      <td>1.00</td>\n",
       "      <td>0.01</td>\n",
       "      <td>0.03</td>\n",
       "    </tr>\n",
       "    <tr>\n",
       "      <th>Balance</th>\n",
       "      <td>0.01</td>\n",
       "      <td>0.02</td>\n",
       "      <td>0.01</td>\n",
       "      <td>1.00</td>\n",
       "      <td>-0.00</td>\n",
       "    </tr>\n",
       "    <tr>\n",
       "      <th>EstimatedSalary</th>\n",
       "      <td>0.00</td>\n",
       "      <td>-0.02</td>\n",
       "      <td>0.03</td>\n",
       "      <td>-0.00</td>\n",
       "      <td>1.00</td>\n",
       "    </tr>\n",
       "  </tbody>\n",
       "</table>\n",
       "</div>"
      ],
      "text/plain": [
       "                 CreditScore   Age  Tenure  Balance  EstimatedSalary\n",
       "CreditScore             1.00 -0.01    0.01     0.01             0.00\n",
       "Age                    -0.01  1.00   -0.01     0.02            -0.02\n",
       "Tenure                  0.01 -0.01    1.00     0.01             0.03\n",
       "Balance                 0.01  0.02    0.01     1.00            -0.00\n",
       "EstimatedSalary         0.00 -0.02    0.03    -0.00             1.00"
      ]
     },
     "metadata": {},
     "output_type": "display_data"
    }
   ],
   "source": [
    "display(features_train[col_names].corr())"
   ]
  },
  {
   "cell_type": "code",
   "execution_count": 32,
   "metadata": {},
   "outputs": [
    {
     "data": {
      "text/html": [
       "<div>\n",
       "<style scoped>\n",
       "    .dataframe tbody tr th:only-of-type {\n",
       "        vertical-align: middle;\n",
       "    }\n",
       "\n",
       "    .dataframe tbody tr th {\n",
       "        vertical-align: top;\n",
       "    }\n",
       "\n",
       "    .dataframe thead th {\n",
       "        text-align: right;\n",
       "    }\n",
       "</style>\n",
       "<table border=\"1\" class=\"dataframe\">\n",
       "  <thead>\n",
       "    <tr style=\"text-align: right;\">\n",
       "      <th></th>\n",
       "      <th>VIF</th>\n",
       "      <th>variable</th>\n",
       "    </tr>\n",
       "  </thead>\n",
       "  <tbody>\n",
       "    <tr>\n",
       "      <th>0</th>\n",
       "      <td>1.00</td>\n",
       "      <td>Intercept</td>\n",
       "    </tr>\n",
       "    <tr>\n",
       "      <th>1</th>\n",
       "      <td>1.00</td>\n",
       "      <td>Age</td>\n",
       "    </tr>\n",
       "    <tr>\n",
       "      <th>2</th>\n",
       "      <td>1.00</td>\n",
       "      <td>Tenure</td>\n",
       "    </tr>\n",
       "    <tr>\n",
       "      <th>3</th>\n",
       "      <td>1.00</td>\n",
       "      <td>Balance</td>\n",
       "    </tr>\n",
       "    <tr>\n",
       "      <th>4</th>\n",
       "      <td>1.00</td>\n",
       "      <td>EstimatedSalary</td>\n",
       "    </tr>\n",
       "  </tbody>\n",
       "</table>\n",
       "</div>"
      ],
      "text/plain": [
       "   VIF         variable\n",
       "0 1.00        Intercept\n",
       "1 1.00              Age\n",
       "2 1.00           Tenure\n",
       "3 1.00          Balance\n",
       "4 1.00  EstimatedSalary"
      ]
     },
     "metadata": {},
     "output_type": "display_data"
    }
   ],
   "source": [
    "y, X = dmatrices('CreditScore ~ Age+Tenure+Balance+EstimatedSalary', data=features_train[col_names], return_type='dataframe')\n",
    "vif = pd.DataFrame()\n",
    "vif['VIF'] = [variance_inflation_factor(X.values, i) for i in range(X.shape[1])]\n",
    "vif['variable'] = X.columns\n",
    "display(vif)"
   ]
  },
  {
   "cell_type": "markdown",
   "metadata": {},
   "source": [
    "<div class=\"alert alert-info\">\n",
    "<b>Ответ студента №2</b>\n",
    "\n",
    "Коэффициенты корреляции количественных признаков близки к нулю, а VIF=1, указывают, что мультиколлинеарность в нашем примере не является проблемой."
   ]
  },
  {
   "cell_type": "markdown",
   "metadata": {},
   "source": [
    "<b>Ответ студента №1</b>\n",
    "\n",
    "Найдем наилучшую модель \"логистической регрессии\" для несбалалансированных данных, обученную на тренировочных данных и показавшую наилучший результат на валидационной выборке."
   ]
  },
  {
   "cell_type": "code",
   "execution_count": 33,
   "metadata": {},
   "outputs": [
    {
     "data": {
      "text/plain": [
       "'Логистическая регресия'"
      ]
     },
     "metadata": {},
     "output_type": "display_data"
    },
    {
     "data": {
      "text/plain": [
       "'Валидационная выборка'"
      ]
     },
     "metadata": {},
     "output_type": "display_data"
    },
    {
     "data": {
      "text/plain": [
       "'Максимальный F1:'"
      ]
     },
     "metadata": {},
     "output_type": "display_data"
    },
    {
     "data": {
      "text/plain": [
       "0.5923172242874846"
      ]
     },
     "metadata": {},
     "output_type": "display_data"
    },
    {
     "data": {
      "text/plain": [
       "'Порог классификации:'"
      ]
     },
     "metadata": {},
     "output_type": "display_data"
    },
    {
     "data": {
      "text/plain": [
       "0.3"
      ]
     },
     "metadata": {},
     "output_type": "display_data"
    },
    {
     "name": "stdout",
     "output_type": "stream",
     "text": [
      "\n",
      "\n"
     ]
    },
    {
     "data": {
      "text/plain": [
       "'AUC-ROC:'"
      ]
     },
     "metadata": {},
     "output_type": "display_data"
    },
    {
     "data": {
      "text/plain": [
       "0.8473465875116656"
      ]
     },
     "metadata": {},
     "output_type": "display_data"
    },
    {
     "name": "stdout",
     "output_type": "stream",
     "text": [
      "CPU times: user 138 ms, sys: 111 ms, total: 249 ms\n",
      "Wall time: 246 ms\n"
     ]
    }
   ],
   "source": [
    "%%time\n",
    "#unbalanced_logistic\n",
    "balance_mark=None\n",
    "\n",
    "#best_f1_logistic_unbalanced_train, best_f1_threshold_logistic_unbalanced_train, best_auc_roc_logistic_unbalanced_train, best_f1_logistic_unbalanced_valid, best_f1_threshold_logistic_unbalanced_valid, best_auc_roc_logistic_unbalanced_valid, best_model_auc_roc_logistic_unbalanced_valid,best_model_auc_roc_logistic_unbalanced_train,best_model_f1_logistic_unbalanced_valid, best_model_f1_logistic_unbalanced_train=logistic(features_train,target_train, balance_mark)\n",
    "best_f1_logistic_unbalanced_valid, best_f1_threshold_logistic_unbalanced_valid, best_auc_roc_logistic_unbalanced_valid, best_model_auc_roc_logistic_unbalanced_valid, best_model_f1_logistic_unbalanced_valid=logistic(features_train,target_train, balance_mark)\n",
    "\n",
    "\n",
    "display(\"Логистическая регресия\")\n",
    "#print(\"\\n\")\n",
    "#display(\"Тренировочная выборка\")                    \n",
    "#display(\"Максимальный F1:\", best_f1_logistic_unbalanced_train,\n",
    "#        \"Порог классификации:\", best_threshold_f1_logistic_unbalanced_train)\n",
    "#print(\"\\n\")\n",
    "#display(\"AUC-ROC:\", best_auc_roc_logistic_unbalanced_train)\n",
    "#\n",
    "#print(\"\\n\")\n",
    "display(\"Валидационная выборка\")                    \n",
    "display(\"Максимальный F1:\", best_f1_logistic_unbalanced_valid,\n",
    "        \"Порог классификации:\", best_f1_threshold_logistic_unbalanced_valid)\n",
    "print(\"\\n\")\n",
    "display(\"AUC-ROC:\", best_auc_roc_logistic_unbalanced_valid)"
   ]
  },
  {
   "cell_type": "code",
   "execution_count": 34,
   "metadata": {},
   "outputs": [
    {
     "data": {
      "image/png": "[encoded data removed]",
      "text/plain": [
       "<Figure size 432x432 with 1 Axes>"
      ]
     },
     "metadata": {
      "needs_background": "light"
     },
     "output_type": "display_data"
    }
   ],
   "source": [
    "#ROC-кривая, unbalanced\n",
    "probabilities_valid_logistic_unbalanced = best_model_auc_roc_logistic_unbalanced_valid.predict_proba(features_valid)\n",
    "probabilities_one_valid_logistic_unbalanced = probabilities_valid_logistic_unbalanced[:, 1]\n",
    "\n",
    "fpr_logistic_unbalanced, tpr_logistic_unbalanced, thresholds_logistic_unbalanced = roc_curve(target_valid, probabilities_one_valid_logistic_unbalanced) \n",
    "\n",
    "plt.figure(figsize=(6,6))\n",
    "plt.plot(fpr_logistic_unbalanced, tpr_logistic_unbalanced)\n",
    "plt.xlim([0.0,1.0])\n",
    "plt.ylim([0.0,1.0])\n",
    "\n",
    "# ROC-кривая случайной модели (выглядит как прямая)\n",
    "plt.plot([0, 1], [0, 1], linestyle='--')\n",
    "plt.xlabel('False Positive Rate')\n",
    "plt.ylabel('True Positive Rate')\n",
    "plt.title(\"ROC-кривая для логистической регрессии, несбалансированная выборка\")\n",
    "plt.show()"
   ]
  },
  {
   "cell_type": "code",
   "execution_count": 35,
   "metadata": {},
   "outputs": [
    {
     "data": {
      "text/plain": [
       "'Результаты моделей на несбалансированной выборке на валидационных данных'"
      ]
     },
     "metadata": {},
     "output_type": "display_data"
    },
    {
     "data": {
      "text/plain": [
       "'Дерево решений. F1: 0.611, порог классификации: 0.26. AUC-ROC: 0.838'"
      ]
     },
     "metadata": {},
     "output_type": "display_data"
    },
    {
     "data": {
      "text/plain": [
       "'Случайный лес. F1: 0.661, порог классификации: 0.36. AUC-ROC: 0.879'"
      ]
     },
     "metadata": {},
     "output_type": "display_data"
    },
    {
     "data": {
      "text/plain": [
       "'Логистическая регрессия. F1: 0.592, порог классификации: 0.30. AUC-ROC: 0.847'"
      ]
     },
     "metadata": {},
     "output_type": "display_data"
    }
   ],
   "source": [
    "display(\"Результаты моделей на несбалансированной выборке на валидационных данных\")\n",
    "display(f'Дерево решений. F1: {best_f1_tree_unbalanced_valid:.3f}, порог классификации: {best_f1_threshold_tree_unbalanced_valid:.2f}. AUC-ROC: {best_auc_roc_tree_unbalanced_valid:.3f}')\n",
    "display(f'Случайный лес. F1: {best_f1_forest_unbalanced_valid:.3f}, порог классификации: {best_f1_threshold_forest_unbalanced_valid:.2f}. AUC-ROC: {best_auc_roc_forest_unbalanced_valid:.3f}')\n",
    "display(f'Логистическая регрессия. F1: {best_f1_logistic_unbalanced_valid:.3f}, порог классификации: {best_f1_threshold_logistic_unbalanced_valid:.2f}. AUC-ROC: {best_auc_roc_logistic_unbalanced_valid:.3f}')\n"
   ]
  },
  {
   "cell_type": "markdown",
   "metadata": {},
   "source": [
    "\n",
    "<b>Ответ студента №1</b>\n",
    "\n",
    "- все модели на валидационных данных показали себя лучше по сравнению со случайным классификатором - матрика AUC-ROC моделей больше 0.5 \n",
    "- наилучший результат на основе метрики F1 показала модель случайного леса: F1=0.64. Указанная модель также имеет наибольшее значение критерия AUC-ROC=0.86"
   ]
  },
  {
   "cell_type": "markdown",
   "metadata": {},
   "source": [
    "## Борьба с дисбалансом"
   ]
  },
  {
   "cell_type": "markdown",
   "metadata": {},
   "source": [
    "\n",
    "<b>Ответ студента №1</b>\n",
    "\n",
    "В целях повышения качества обучения моделей и соответсвтенно снижения ошибочной классификации клиентов Банка проведем балансировку выборки. "
   ]
  },
  {
   "cell_type": "markdown",
   "metadata": {},
   "source": [
    "\n",
    "<b>Ответ студента №1</b>\n",
    "\n",
    "Балансировка за счет приведения доли действующих клиентов до уровня ушедших."
   ]
  },
  {
   "cell_type": "code",
   "execution_count": 36,
   "metadata": {},
   "outputs": [
    {
     "data": {
      "text/plain": [
       "2224"
      ]
     },
     "metadata": {},
     "output_type": "display_data"
    },
    {
     "data": {
      "text/plain": [
       "1112"
      ]
     },
     "metadata": {},
     "output_type": "display_data"
    }
   ],
   "source": [
    "#downsampled\n",
    "features_train_zeros = features_train[target_train == 0]\n",
    "features_train_ones = features_train[target_train == 1]\n",
    "target_train_zeros = target_train[target_train == 0]\n",
    "target_train_ones = target_train[target_train == 1]\n",
    "\n",
    "fraction=len(target_train[target_train == 1])/len(target_train[target_train == 0])\n",
    "#display(fraction)\n",
    "\n",
    "features_train_downsampled = pd.concat([features_train_ones] + [features_train_zeros.sample(frac=fraction, random_state=12345)])\n",
    "target_train_downsampled = pd.concat([target_train_ones] + [target_train_zeros.sample(frac=fraction, random_state=12345)])\n",
    "    \n",
    "features_train_downsampled, target_train_downsampled = shuffle(features_train_downsampled, target_train_downsampled, random_state=12345)\n",
    "\n",
    "display(len(target_train_downsampled))\n",
    "display(target_train_downsampled.sum())"
   ]
  },
  {
   "cell_type": "markdown",
   "metadata": {},
   "source": [
    "\n",
    "<b>Ответ студента №1</b>\n",
    "\n",
    "Балансировка за счет увеличения доли ушедших клиентов до уровня действующих."
   ]
  },
  {
   "cell_type": "code",
   "execution_count": 37,
   "metadata": {},
   "outputs": [
    {
     "data": {
      "text/plain": [
       "8790"
      ]
     },
     "metadata": {},
     "output_type": "display_data"
    },
    {
     "data": {
      "text/plain": [
       "4448"
      ]
     },
     "metadata": {},
     "output_type": "display_data"
    }
   ],
   "source": [
    "#upsampled\n",
    "repeat=len(target_train[target_train == 0])/len(target_train[target_train == 1])\n",
    "#display(repeat)\n",
    "\n",
    "features_train_upsampled = pd.concat([features_train_ones]*round(repeat) + [features_train_zeros])\n",
    "target_train_upsampled = pd.concat([target_train_ones]*round(repeat) + [target_train_zeros])\n",
    "    \n",
    "features_train_upsampled, target_train_upsampled = shuffle(features_train_upsampled, target_train_upsampled, random_state=12345)\n",
    "\n",
    "display(len(target_train_upsampled))\n",
    "display(target_train_upsampled.sum())"
   ]
  },
  {
   "cell_type": "markdown",
   "metadata": {},
   "source": [
    "### Дерево решений"
   ]
  },
  {
   "cell_type": "code",
   "execution_count": 40,
   "metadata": {},
   "outputs": [
    {
     "data": {
      "text/plain": [
       "'Решающее дерево'"
      ]
     },
     "metadata": {},
     "output_type": "display_data"
    },
    {
     "data": {
      "text/plain": [
       "'Валидационная выборка'"
      ]
     },
     "metadata": {},
     "output_type": "display_data"
    },
    {
     "data": {
      "text/plain": [
       "'Максимальный F1:'"
      ]
     },
     "metadata": {},
     "output_type": "display_data"
    },
    {
     "data": {
      "text/plain": [
       "0.6143790849673203"
      ]
     },
     "metadata": {},
     "output_type": "display_data"
    },
    {
     "data": {
      "text/plain": [
       "'Порог классификации:'"
      ]
     },
     "metadata": {},
     "output_type": "display_data"
    },
    {
     "data": {
      "text/plain": [
       "0.66"
      ]
     },
     "metadata": {},
     "output_type": "display_data"
    },
    {
     "data": {
      "text/plain": [
       "'Максимальная глубина:'"
      ]
     },
     "metadata": {},
     "output_type": "display_data"
    },
    {
     "data": {
      "text/plain": [
       "5"
      ]
     },
     "metadata": {},
     "output_type": "display_data"
    },
    {
     "name": "stdout",
     "output_type": "stream",
     "text": [
      "\n",
      "\n"
     ]
    },
    {
     "data": {
      "text/plain": [
       "'Максимальный AUC-ROC:'"
      ]
     },
     "metadata": {},
     "output_type": "display_data"
    },
    {
     "data": {
      "text/plain": [
       "0.8450293105728555"
      ]
     },
     "metadata": {},
     "output_type": "display_data"
    },
    {
     "data": {
      "text/plain": [
       "'Максимальная глубина для AUC-ROC:'"
      ]
     },
     "metadata": {},
     "output_type": "display_data"
    },
    {
     "data": {
      "text/plain": [
       "5"
      ]
     },
     "metadata": {},
     "output_type": "display_data"
    },
    {
     "name": "stdout",
     "output_type": "stream",
     "text": [
      "CPU times: user 1.7 s, sys: 20 ms, total: 1.72 s\n",
      "Wall time: 1.72 s\n"
     ]
    }
   ],
   "source": [
    "%%time\n",
    "#upsampled_tree\n",
    "balance_mark=None\n",
    "\n",
    "#best_f1_tree_upsampled_train, best_f1_threshold_tree_upsampled_train, best_f1_depth_tree_upsampled_train, best_auc_roc_tree_upsampled_train, best_auc_roc_depth_tree_upsampled_train,best_f1_tree_upsampled_valid, best_f1_threshold_tree_upsampled_valid, best_f1_depth_tree_upsampled_valid,best_auc_roc_tree_upsampled_valid, best_auc_roc_depth_tree_upsampled_valid, best_model_f1_tree_upsampled_valid, best_model_auc_roc_tree_upsampled_valid=tree(features_train_upsampled, target_train_upsampled, balance_mark)\n",
    "best_f1_tree_upsampled_valid, best_f1_threshold_tree_upsampled_valid, best_f1_depth_tree_upsampled_valid,best_auc_roc_tree_upsampled_valid, best_auc_roc_depth_tree_upsampled_valid, best_model_f1_tree_upsampled_valid, best_model_auc_roc_tree_upsampled_valid=tree(features_train_upsampled, target_train_upsampled, balance_mark)\n",
    "\n",
    "\n",
    "display(\"Решающее дерево\")\n",
    "\n",
    "display(\"Валидационная выборка\")                    \n",
    "display(\"Максимальный F1:\", best_f1_tree_upsampled_valid,\n",
    "        \"Порог классификации:\", best_f1_threshold_tree_upsampled_valid,\n",
    "        \"Максимальная глубина:\", best_f1_depth_tree_upsampled_valid)\n",
    "print(\"\\n\")\n",
    "display(\"Максимальный AUC-ROC:\", best_auc_roc_tree_upsampled_valid,\n",
    "        \"Максимальная глубина для AUC-ROC:\", best_auc_roc_depth_tree_upsampled_valid)"
   ]
  },
  {
   "cell_type": "code",
   "execution_count": 41,
   "metadata": {},
   "outputs": [
    {
     "data": {
      "image/png": "[encoded data removed]",
      "text/plain": [
       "<Figure size 432x432 with 1 Axes>"
      ]
     },
     "metadata": {
      "needs_background": "light"
     },
     "output_type": "display_data"
    }
   ],
   "source": [
    "#ROC-кривая, upsampled\n",
    "probabilities_valid_tree_upsampled = best_model_auc_roc_tree_upsampled_valid.predict_proba(features_valid)\n",
    "probabilities_one_valid_tree_upsampled = probabilities_valid_tree_upsampled[:, 1]\n",
    "\n",
    "fpr_tree_upsampled, tpr_tree_upsampled, thresholds_tree_upsampled = roc_curve(target_valid, probabilities_one_valid_tree_upsampled) \n",
    "\n",
    "plt.figure(figsize=(6,6))\n",
    "plt.plot(fpr_tree_upsampled, tpr_tree_upsampled)\n",
    "plt.xlim([0.0,1.0])\n",
    "plt.ylim([0.0,1.0])\n",
    "\n",
    "# ROC-кривая случайной модели (выглядит как прямая)\n",
    "plt.plot([0, 1], [0, 1], linestyle='--')\n",
    "plt.xlabel('False Positive Rate')\n",
    "plt.ylabel('True Positive Rate')\n",
    "plt.title(\"ROC-кривая для решающего дерева, upsampled\")\n",
    "plt.show()"
   ]
  },
  {
   "cell_type": "markdown",
   "metadata": {},
   "source": [
    "\n",
    "<b>Ответ студента №1</b>\n",
    "\n",
    "Балансировка данных путем установки соответствующего параметра модели (class_weight=’balanced’)"
   ]
  },
  {
   "cell_type": "code",
   "execution_count": 42,
   "metadata": {},
   "outputs": [
    {
     "data": {
      "text/plain": [
       "'Решающее дерево'"
      ]
     },
     "metadata": {},
     "output_type": "display_data"
    },
    {
     "data": {
      "text/plain": [
       "'Валидационная выборка'"
      ]
     },
     "metadata": {},
     "output_type": "display_data"
    },
    {
     "data": {
      "text/plain": [
       "'Максимальный F1:'"
      ]
     },
     "metadata": {},
     "output_type": "display_data"
    },
    {
     "data": {
      "text/plain": [
       "0.6143790849673203"
      ]
     },
     "metadata": {},
     "output_type": "display_data"
    },
    {
     "data": {
      "text/plain": [
       "'Порог классификации:'"
      ]
     },
     "metadata": {},
     "output_type": "display_data"
    },
    {
     "data": {
      "text/plain": [
       "0.66"
      ]
     },
     "metadata": {},
     "output_type": "display_data"
    },
    {
     "data": {
      "text/plain": [
       "'Максимальная глубина:'"
      ]
     },
     "metadata": {},
     "output_type": "display_data"
    },
    {
     "data": {
      "text/plain": [
       "5"
      ]
     },
     "metadata": {},
     "output_type": "display_data"
    },
    {
     "name": "stdout",
     "output_type": "stream",
     "text": [
      "\n",
      "\n"
     ]
    },
    {
     "data": {
      "text/plain": [
       "'Максимальный AUC-ROC:'"
      ]
     },
     "metadata": {},
     "output_type": "display_data"
    },
    {
     "data": {
      "text/plain": [
       "0.8450293105728555"
      ]
     },
     "metadata": {},
     "output_type": "display_data"
    },
    {
     "data": {
      "text/plain": [
       "'Максимальная глубина для AUC-ROC:'"
      ]
     },
     "metadata": {},
     "output_type": "display_data"
    },
    {
     "data": {
      "text/plain": [
       "5"
      ]
     },
     "metadata": {},
     "output_type": "display_data"
    },
    {
     "name": "stdout",
     "output_type": "stream",
     "text": [
      "CPU times: user 1.63 s, sys: 11.7 ms, total: 1.64 s\n",
      "Wall time: 1.65 s\n"
     ]
    }
   ],
   "source": [
    "%%time\n",
    "#unbalanced_tree\n",
    "balance_mark='balanced'\n",
    "\n",
    "#best_f1_tree_balanced_train, best_f1_threshold_tree_balanced_train, best_f1_depth_tree_balanced_train, best_auc_roc_tree_balanced_train, best_auc_roc_depth_tree_balanced_train,best_f1_tree_balanced_valid, best_f1_threshold_tree_balanced_valid, best_f1_depth_tree_balanced_valid,best_auc_roc_tree_balanced_valid, best_auc_roc_depth_tree_balanced_valid, best_model_f1_tree_balanced_valid, best_model_auc_roc_tree_balanced_valid=tree(features_train, target_train, balance_mark)\n",
    "best_f1_tree_balanced_valid, best_f1_threshold_tree_balanced_valid, best_f1_depth_tree_balanced_valid,best_auc_roc_tree_balanced_valid, best_auc_roc_depth_tree_balanced_valid, best_model_f1_tree_balanced_valid, best_model_auc_roc_tree_balanced_valid=tree(features_train, target_train, balance_mark)\n",
    "\n",
    "display(\"Решающее дерево\")\n",
    "\n",
    "display(\"Валидационная выборка\")                    \n",
    "display(\"Максимальный F1:\", best_f1_tree_balanced_valid,\n",
    "        \"Порог классификации:\", best_f1_threshold_tree_balanced_valid,\n",
    "        \"Максимальная глубина:\", best_f1_depth_tree_balanced_valid)\n",
    "print(\"\\n\")\n",
    "display(\"Максимальный AUC-ROC:\", best_auc_roc_tree_balanced_valid,\n",
    "        \"Максимальная глубина для AUC-ROC:\", best_auc_roc_depth_tree_balanced_valid)"
   ]
  },
  {
   "cell_type": "code",
   "execution_count": 43,
   "metadata": {},
   "outputs": [
    {
     "data": {
      "image/png": "[encoded data removed]",
      "text/plain": [
       "<Figure size 432x432 with 1 Axes>"
      ]
     },
     "metadata": {
      "needs_background": "light"
     },
     "output_type": "display_data"
    }
   ],
   "source": [
    "#ROC-кривая, balanced\n",
    "probabilities_valid_tree_balanced = best_model_auc_roc_tree_balanced_valid.predict_proba(features_valid)\n",
    "probabilities_one_valid_tree_balanced = probabilities_valid_tree_balanced[:, 1]\n",
    "\n",
    "fpr_tree_balanced, tpr_tree_balanced, thresholds_tree_balanced = roc_curve(target_valid, probabilities_one_valid_tree_balanced) \n",
    "\n",
    "plt.figure(figsize=(6,6))\n",
    "plt.plot(fpr_tree_balanced, tpr_tree_balanced)\n",
    "plt.xlim([0.0,1.0])\n",
    "plt.ylim([0.0,1.0])\n",
    "\n",
    "# ROC-кривая случайной модели (выглядит как прямая)\n",
    "plt.plot([0, 1], [0, 1], linestyle='--')\n",
    "plt.xlabel('False Positive Rate')\n",
    "plt.ylabel('True Positive Rate')\n",
    "plt.title(\"ROC-кривая для решающего дерева, balanced\")\n",
    "plt.show()"
   ]
  },
  {
   "cell_type": "markdown",
   "metadata": {},
   "source": [
    "### Случайный лес"
   ]
  },
  {
   "cell_type": "code",
   "execution_count": 44,
   "metadata": {},
   "outputs": [
    {
     "data": {
      "text/plain": [
       "'Случайный лес'"
      ]
     },
     "metadata": {},
     "output_type": "display_data"
    },
    {
     "data": {
      "text/plain": [
       "'Валидационная выборка'"
      ]
     },
     "metadata": {},
     "output_type": "display_data"
    },
    {
     "data": {
      "text/plain": [
       "'Максимальный F1:'"
      ]
     },
     "metadata": {},
     "output_type": "display_data"
    },
    {
     "data": {
      "text/plain": [
       "0.6581306017925737"
      ]
     },
     "metadata": {},
     "output_type": "display_data"
    },
    {
     "data": {
      "text/plain": [
       "'Порог классификации:'"
      ]
     },
     "metadata": {},
     "output_type": "display_data"
    },
    {
     "data": {
      "text/plain": [
       "0.62"
      ]
     },
     "metadata": {},
     "output_type": "display_data"
    },
    {
     "data": {
      "text/plain": [
       "'Количество деревьев:'"
      ]
     },
     "metadata": {},
     "output_type": "display_data"
    },
    {
     "data": {
      "text/plain": [
       "70"
      ]
     },
     "metadata": {},
     "output_type": "display_data"
    },
    {
     "data": {
      "text/plain": [
       "'Максимальная глубина:'"
      ]
     },
     "metadata": {},
     "output_type": "display_data"
    },
    {
     "data": {
      "text/plain": [
       "15"
      ]
     },
     "metadata": {},
     "output_type": "display_data"
    },
    {
     "name": "stdout",
     "output_type": "stream",
     "text": [
      "\n",
      "\n"
     ]
    },
    {
     "data": {
      "text/plain": [
       "'Максимальный AUC-ROC:'"
      ]
     },
     "metadata": {},
     "output_type": "display_data"
    },
    {
     "data": {
      "text/plain": [
       "0.8785180604168491"
      ]
     },
     "metadata": {},
     "output_type": "display_data"
    },
    {
     "data": {
      "text/plain": [
       "'Количество деревьев:'"
      ]
     },
     "metadata": {},
     "output_type": "display_data"
    },
    {
     "data": {
      "text/plain": [
       "30"
      ]
     },
     "metadata": {},
     "output_type": "display_data"
    },
    {
     "data": {
      "text/plain": [
       "'Максимальная глубина:'"
      ]
     },
     "metadata": {},
     "output_type": "display_data"
    },
    {
     "data": {
      "text/plain": [
       "8"
      ]
     },
     "metadata": {},
     "output_type": "display_data"
    },
    {
     "name": "stdout",
     "output_type": "stream",
     "text": [
      "CPU times: user 41.2 s, sys: 160 ms, total: 41.4 s\n",
      "Wall time: 41.6 s\n"
     ]
    }
   ],
   "source": [
    "%%time\n",
    "#downsampled_forest\n",
    "balance_mark=None\n",
    "\n",
    "#best_f1_forest_downsampled_train, best_f1_threshold_forest_downsampled_train,best_f1_est_forest_downsampled_train, best_f1_depth_forest_downsampled_train,best_auc_roc_forest_downsampled_train, best_auc_roc_est_forest_downsampled_train, best_auc_roc_depth_forest_downsampled_train,best_f1_forest_downsampled_valid,best_f1_threshold_forest_downsampled_valid,best_f1_est_forest_downsampled_valid,best_f1_depth_forest_downsampled_valid,best_auc_roc_forest_downsampled_valid,best_auc_roc_est_forest_downsampled_valid,best_auc_roc_depth_forest_downsampled_valid,best_model_auc_roc_forest_downsampled_valid,best_model_auc_roc_forest_downsampled_train,best_model_f1_forest_downsampled_valid, best_model_f1_forest_downsampled_train=forest(features_train_downsampled, target_train_downsampled, balance_mark)\n",
    "best_f1_forest_downsampled_valid,best_f1_threshold_forest_downsampled_valid,best_f1_est_forest_downsampled_valid,best_f1_depth_forest_downsampled_valid,best_auc_roc_forest_downsampled_valid,best_auc_roc_est_forest_downsampled_valid,best_auc_roc_depth_forest_downsampled_valid,best_model_auc_roc_forest_downsampled_valid,best_model_f1_forest_downsampled_valid =forest(features_train_downsampled, target_train_downsampled, balance_mark)\n",
    "\n",
    "\n",
    "display(\"Случайный лес\")\n",
    "\n",
    "#print(\"\\n\")\n",
    "display(\"Валидационная выборка\")                    \n",
    "display(\"Максимальный F1:\", best_f1_forest_downsampled_valid,\n",
    "        \"Порог классификации:\", best_f1_threshold_forest_downsampled_valid,\n",
    "        \"Количество деревьев:\", best_f1_est_forest_downsampled_valid,\n",
    "        \"Максимальная глубина:\", best_f1_depth_forest_downsampled_valid)\n",
    "print(\"\\n\")\n",
    "display(\"Максимальный AUC-ROC:\", best_auc_roc_forest_downsampled_valid,\n",
    "        \"Количество деревьев:\", best_auc_roc_est_forest_downsampled_valid,\n",
    "        \"Максимальная глубина:\", best_auc_roc_depth_forest_downsampled_valid)"
   ]
  },
  {
   "cell_type": "code",
   "execution_count": 45,
   "metadata": {},
   "outputs": [
    {
     "data": {
      "text/plain": [
       "'Случайный лес'"
      ]
     },
     "metadata": {},
     "output_type": "display_data"
    },
    {
     "data": {
      "text/plain": [
       "'Валидационная выборка'"
      ]
     },
     "metadata": {},
     "output_type": "display_data"
    },
    {
     "data": {
      "text/plain": [
       "'Максимальный F1:'"
      ]
     },
     "metadata": {},
     "output_type": "display_data"
    },
    {
     "data": {
      "text/plain": [
       "0.6577181208053692"
      ]
     },
     "metadata": {},
     "output_type": "display_data"
    },
    {
     "data": {
      "text/plain": [
       "'Порог классификации:'"
      ]
     },
     "metadata": {},
     "output_type": "display_data"
    },
    {
     "data": {
      "text/plain": [
       "0.6"
      ]
     },
     "metadata": {},
     "output_type": "display_data"
    },
    {
     "data": {
      "text/plain": [
       "'Количество деревьев:'"
      ]
     },
     "metadata": {},
     "output_type": "display_data"
    },
    {
     "data": {
      "text/plain": [
       "20"
      ]
     },
     "metadata": {},
     "output_type": "display_data"
    },
    {
     "data": {
      "text/plain": [
       "'Максимальная глубина:'"
      ]
     },
     "metadata": {},
     "output_type": "display_data"
    },
    {
     "data": {
      "text/plain": [
       "10"
      ]
     },
     "metadata": {},
     "output_type": "display_data"
    },
    {
     "name": "stdout",
     "output_type": "stream",
     "text": [
      "\n",
      "\n"
     ]
    },
    {
     "data": {
      "text/plain": [
       "'Максимальный AUC-ROC:'"
      ]
     },
     "metadata": {},
     "output_type": "display_data"
    },
    {
     "data": {
      "text/plain": [
       "0.8765696105149234"
      ]
     },
     "metadata": {},
     "output_type": "display_data"
    },
    {
     "data": {
      "text/plain": [
       "'Количество деревьев:'"
      ]
     },
     "metadata": {},
     "output_type": "display_data"
    },
    {
     "data": {
      "text/plain": [
       "50"
      ]
     },
     "metadata": {},
     "output_type": "display_data"
    },
    {
     "data": {
      "text/plain": [
       "'Максимальная глубина:'"
      ]
     },
     "metadata": {},
     "output_type": "display_data"
    },
    {
     "data": {
      "text/plain": [
       "7"
      ]
     },
     "metadata": {},
     "output_type": "display_data"
    },
    {
     "name": "stdout",
     "output_type": "stream",
     "text": [
      "CPU times: user 1min 15s, sys: 232 ms, total: 1min 15s\n",
      "Wall time: 1min 16s\n"
     ]
    }
   ],
   "source": [
    "%%time\n",
    "#upsampled_forest\n",
    "balance_mark=None\n",
    "\n",
    "#best_f1_forest_upsampled_train, best_f1_threshold_forest_upsampled_train,best_f1_est_forest_upsampled_train, best_f1_depth_forest_upsampled_train,best_auc_roc_forest_upsampled_train, best_auc_roc_est_forest_upsampled_train, best_auc_roc_depth_forest_upsampled_train,best_f1_forest_upsampled_valid,best_f1_threshold_forest_upsampled_valid,best_f1_est_forest_upsampled_valid,best_f1_depth_forest_upsampled_valid,best_auc_roc_forest_upsampled_valid,best_auc_roc_est_forest_upsampled_valid,best_auc_roc_depth_forest_upsampled_valid,best_model_auc_roc_forest_upsampled_valid,best_model_auc_roc_forest_upsampled_train,best_model_f1_forest_upsampled_valid,best_model_f1_forest_upsampled_train=forest(features_train_upsampled,target_train_upsampled, balance_mark)\n",
    "best_f1_forest_upsampled_valid,best_f1_threshold_forest_upsampled_valid,best_f1_est_forest_upsampled_valid,best_f1_depth_forest_upsampled_valid,best_auc_roc_forest_upsampled_valid,best_auc_roc_est_forest_upsampled_valid,best_auc_roc_depth_forest_upsampled_valid,best_model_auc_roc_forest_upsampled_valid,best_model_f1_forest_upsampled_valid=forest(features_train_upsampled,target_train_upsampled, balance_mark)\n",
    "\n",
    "\n",
    "display(\"Случайный лес\")\n",
    "\n",
    "#print(\"\\n\")\n",
    "display(\"Валидационная выборка\")                    \n",
    "display(\"Максимальный F1:\", best_f1_forest_upsampled_valid,\n",
    "        \"Порог классификации:\", best_f1_threshold_forest_upsampled_valid,\n",
    "        \"Количество деревьев:\", best_f1_est_forest_upsampled_valid,\n",
    "        \"Максимальная глубина:\", best_f1_depth_forest_upsampled_valid)\n",
    "print(\"\\n\")\n",
    "display(\"Максимальный AUC-ROC:\", best_auc_roc_forest_upsampled_valid,\n",
    "        \"Количество деревьев:\", best_auc_roc_est_forest_upsampled_valid,\n",
    "        \"Максимальная глубина:\", best_auc_roc_depth_forest_upsampled_valid)"
   ]
  },
  {
   "cell_type": "markdown",
   "metadata": {},
   "source": [
    "\n",
    "<b>Ответ студента №1</b>\n",
    "\n",
    "Балансировка данных путем установки соответствующего параметра модели (class_weight=’balanced’)"
   ]
  },
  {
   "cell_type": "code",
   "execution_count": 46,
   "metadata": {},
   "outputs": [
    {
     "data": {
      "text/plain": [
       "'Случайный лес'"
      ]
     },
     "metadata": {},
     "output_type": "display_data"
    },
    {
     "data": {
      "text/plain": [
       "'Валидационная выборка'"
      ]
     },
     "metadata": {},
     "output_type": "display_data"
    },
    {
     "data": {
      "text/plain": [
       "'Максимальный F1:'"
      ]
     },
     "metadata": {},
     "output_type": "display_data"
    },
    {
     "data": {
      "text/plain": [
       "0.6510416666666666"
      ]
     },
     "metadata": {},
     "output_type": "display_data"
    },
    {
     "data": {
      "text/plain": [
       "'Порог классификации:'"
      ]
     },
     "metadata": {},
     "output_type": "display_data"
    },
    {
     "data": {
      "text/plain": [
       "0.42"
      ]
     },
     "metadata": {},
     "output_type": "display_data"
    },
    {
     "data": {
      "text/plain": [
       "'Количество деревьев:'"
      ]
     },
     "metadata": {},
     "output_type": "display_data"
    },
    {
     "data": {
      "text/plain": [
       "80"
      ]
     },
     "metadata": {},
     "output_type": "display_data"
    },
    {
     "data": {
      "text/plain": [
       "'Максимальная глубина:'"
      ]
     },
     "metadata": {},
     "output_type": "display_data"
    },
    {
     "data": {
      "text/plain": [
       "13"
      ]
     },
     "metadata": {},
     "output_type": "display_data"
    },
    {
     "name": "stdout",
     "output_type": "stream",
     "text": [
      "\n",
      "\n"
     ]
    },
    {
     "data": {
      "text/plain": [
       "'Максимальный AUC-ROC:'"
      ]
     },
     "metadata": {},
     "output_type": "display_data"
    },
    {
     "data": {
      "text/plain": [
       "0.8742467452876758"
      ]
     },
     "metadata": {},
     "output_type": "display_data"
    },
    {
     "data": {
      "text/plain": [
       "'Количество деревьев:'"
      ]
     },
     "metadata": {},
     "output_type": "display_data"
    },
    {
     "data": {
      "text/plain": [
       "60"
      ]
     },
     "metadata": {},
     "output_type": "display_data"
    },
    {
     "data": {
      "text/plain": [
       "'Максимальная глубина:'"
      ]
     },
     "metadata": {},
     "output_type": "display_data"
    },
    {
     "data": {
      "text/plain": [
       "6"
      ]
     },
     "metadata": {},
     "output_type": "display_data"
    },
    {
     "name": "stdout",
     "output_type": "stream",
     "text": [
      "CPU times: user 59.8 s, sys: 232 ms, total: 60 s\n",
      "Wall time: 1min\n"
     ]
    }
   ],
   "source": [
    "%%time\n",
    "#unbalanced_forest\n",
    "balance_mark='balanced'\n",
    "\n",
    "#best_f1_forest_balanced_train, best_f1_threshold_forest_balanced_train,best_f1_est_forest_balanced_train, best_f1_depth_forest_balanced_train,best_auc_roc_forest_balanced_train, best_auc_roc_est_forest_balanced_train, best_auc_roc_depth_forest_balanced_train,best_f1_forest_balanced_valid,best_f1_threshold_forest_balanced_valid,best_f1_est_forest_balanced_valid,best_f1_depth_forest_balanced_valid,best_auc_roc_forest_balanced_valid,best_auc_roc_est_forest_balanced_valid,best_auc_roc_depth_forest_balanced_valid,best_model_auc_roc_forest_balanced_valid,best_model_auc_roc_forest_balanced_train,best_model_f1_forest_balanced_valid, best_model_f1_forest_balanced_train=forest(features_train,target_train, balance_mark)\n",
    "best_f1_forest_balanced_valid, best_f1_threshold_forest_balanced_valid, best_f1_est_forest_balanced_valid, best_f1_depth_forest_balanced_valid, best_auc_roc_forest_balanced_valid, best_auc_roc_est_forest_balanced_valid, best_auc_roc_depth_forest_balanced_valid, best_model_auc_roc_forest_balanced_valid,best_model_f1_forest_balanced_valid=forest(features_train,target_train, balance_mark)\n",
    "\n",
    "\n",
    "display(\"Случайный лес\")\n",
    "\n",
    "#print(\"\\n\")\n",
    "display(\"Валидационная выборка\")                    \n",
    "display(\"Максимальный F1:\", best_f1_forest_balanced_valid,\n",
    "        \"Порог классификации:\", best_f1_threshold_forest_balanced_valid,\n",
    "        \"Количество деревьев:\", best_f1_est_forest_balanced_valid,\n",
    "        \"Максимальная глубина:\", best_f1_depth_forest_balanced_valid)\n",
    "print(\"\\n\")\n",
    "display(\"Максимальный AUC-ROC:\", best_auc_roc_forest_balanced_valid,\n",
    "        \"Количество деревьев:\", best_auc_roc_est_forest_balanced_valid,\n",
    "        \"Максимальная глубина:\", best_auc_roc_depth_forest_balanced_valid)"
   ]
  },
  {
   "cell_type": "markdown",
   "metadata": {},
   "source": [
    "### Логистическая регрессия"
   ]
  },
  {
   "cell_type": "code",
   "execution_count": 47,
   "metadata": {},
   "outputs": [
    {
     "data": {
      "text/plain": [
       "'Логистическая регресия'"
      ]
     },
     "metadata": {},
     "output_type": "display_data"
    },
    {
     "data": {
      "text/plain": [
       "'Валидационная выборка'"
      ]
     },
     "metadata": {},
     "output_type": "display_data"
    },
    {
     "data": {
      "text/plain": [
       "'Максимальный F1:'"
      ]
     },
     "metadata": {},
     "output_type": "display_data"
    },
    {
     "data": {
      "text/plain": [
       "0.6031746031746031"
      ]
     },
     "metadata": {},
     "output_type": "display_data"
    },
    {
     "data": {
      "text/plain": [
       "'Порог классификации:'"
      ]
     },
     "metadata": {},
     "output_type": "display_data"
    },
    {
     "data": {
      "text/plain": [
       "0.58"
      ]
     },
     "metadata": {},
     "output_type": "display_data"
    },
    {
     "name": "stdout",
     "output_type": "stream",
     "text": [
      "\n",
      "\n"
     ]
    },
    {
     "data": {
      "text/plain": [
       "'AUC-ROC:'"
      ]
     },
     "metadata": {},
     "output_type": "display_data"
    },
    {
     "data": {
      "text/plain": [
       "0.8488405232873293"
      ]
     },
     "metadata": {},
     "output_type": "display_data"
    },
    {
     "name": "stdout",
     "output_type": "stream",
     "text": [
      "CPU times: user 160 ms, sys: 63.9 ms, total: 224 ms\n",
      "Wall time: 241 ms\n"
     ]
    }
   ],
   "source": [
    "%%time\n",
    "#downsampled_logistic\n",
    "balance_mark=None\n",
    "\n",
    "#best_f1_logistic_downsampled_train, best_f1_threshold_logistic_downsampled_train,best_auc_roc_logistic_downsampled_train,best_f1_logistic_downsampled_valid, best_f1_threshold_logistic_downsampled_valid,best_auc_roc_logistic_downsampled_valid, best_model_auc_roc_logistic_downsampled_valid,best_model_auc_roc_logistic_downsampled_train,best_model_f1_logistic_downsampled_valid, best_model_f1_logistic_downsampled_train=logistic(features_train_downsampled,target_train_downsampled, balance_mark)\n",
    "best_f1_logistic_downsampled_valid, best_f1_threshold_logistic_downsampled_valid,best_auc_roc_logistic_downsampled_valid, best_model_auc_roc_logistic_downsampled_valid,best_model_f1_logistic_downsampled_valid=logistic(features_train_downsampled,target_train_downsampled, balance_mark)\n",
    "\n",
    "\n",
    "display(\"Логистическая регресия\")\n",
    "\n",
    "display(\"Валидационная выборка\")                    \n",
    "display(\"Максимальный F1:\", best_f1_logistic_downsampled_valid,\n",
    "        \"Порог классификации:\", best_f1_threshold_logistic_downsampled_valid)\n",
    "print(\"\\n\")\n",
    "display(\"AUC-ROC:\", best_auc_roc_logistic_downsampled_valid)"
   ]
  },
  {
   "cell_type": "code",
   "execution_count": 48,
   "metadata": {},
   "outputs": [
    {
     "data": {
      "text/plain": [
       "'Логистическая регресия'"
      ]
     },
     "metadata": {},
     "output_type": "display_data"
    },
    {
     "data": {
      "text/plain": [
       "'Валидационная выборка'"
      ]
     },
     "metadata": {},
     "output_type": "display_data"
    },
    {
     "data": {
      "text/plain": [
       "'Максимальный F1:'"
      ]
     },
     "metadata": {},
     "output_type": "display_data"
    },
    {
     "data": {
      "text/plain": [
       "0.5985915492957746"
      ]
     },
     "metadata": {},
     "output_type": "display_data"
    },
    {
     "data": {
      "text/plain": [
       "'Порог классификации:'"
      ]
     },
     "metadata": {},
     "output_type": "display_data"
    },
    {
     "data": {
      "text/plain": [
       "0.6"
      ]
     },
     "metadata": {},
     "output_type": "display_data"
    },
    {
     "name": "stdout",
     "output_type": "stream",
     "text": [
      "\n",
      "\n"
     ]
    },
    {
     "data": {
      "text/plain": [
       "'AUC-ROC:'"
      ]
     },
     "metadata": {},
     "output_type": "display_data"
    },
    {
     "data": {
      "text/plain": [
       "0.8483860091610675"
      ]
     },
     "metadata": {},
     "output_type": "display_data"
    },
    {
     "name": "stdout",
     "output_type": "stream",
     "text": [
      "CPU times: user 182 ms, sys: 91.9 ms, total: 274 ms\n",
      "Wall time: 290 ms\n"
     ]
    }
   ],
   "source": [
    "%%time\n",
    "#upsampled_logistic\n",
    "balance_mark=None\n",
    "\n",
    "#best_f1_logistic_upsampled_train, best_f1_threshold_logistic_upsampled_train, best_auc_roc_logistic_upsampled_train, best_f1_logistic_upsampled_valid, best_f1_threshold_logistic_upsampled_valid, best_auc_roc_logistic_upsampled_valid, best_model_auc_roc_logistic_upsampled_valid,best_model_auc_roc_logistic_upsampled_train,best_model_f1_logistic_upsampled_valid, best_model_f1_logistic_upsampled_train=logistic(features_train_upsampled,target_train_upsampled, balance_mark)\n",
    "best_f1_logistic_upsampled_valid, best_f1_threshold_logistic_upsampled_valid, best_auc_roc_logistic_upsampled_valid, best_model_auc_roc_logistic_upsampled_valid, best_model_f1_logistic_upsampled_valid=logistic(features_train_upsampled,target_train_upsampled, balance_mark)\n",
    "\n",
    "\n",
    "display(\"Логистическая регресия\")\n",
    "\n",
    "display(\"Валидационная выборка\")                    \n",
    "display(\"Максимальный F1:\", best_f1_logistic_upsampled_valid,\n",
    "        \"Порог классификации:\", best_f1_threshold_logistic_upsampled_valid)\n",
    "print(\"\\n\")\n",
    "display(\"AUC-ROC:\", best_auc_roc_logistic_upsampled_valid)"
   ]
  },
  {
   "cell_type": "markdown",
   "metadata": {},
   "source": [
    "\n",
    "<b>Ответ студента №1</b>\n",
    "\n",
    "Балансировка данных путем установки соответствующего параметра модели (class_weight=’balanced’)"
   ]
  },
  {
   "cell_type": "code",
   "execution_count": 49,
   "metadata": {},
   "outputs": [
    {
     "data": {
      "text/plain": [
       "'Логистическая регресия'"
      ]
     },
     "metadata": {},
     "output_type": "display_data"
    },
    {
     "data": {
      "text/plain": [
       "'Валидационная выборка'"
      ]
     },
     "metadata": {},
     "output_type": "display_data"
    },
    {
     "data": {
      "text/plain": [
       "'Максимальный F1:'"
      ]
     },
     "metadata": {},
     "output_type": "display_data"
    },
    {
     "data": {
      "text/plain": [
       "0.5984598459845984"
      ]
     },
     "metadata": {},
     "output_type": "display_data"
    },
    {
     "data": {
      "text/plain": [
       "'Порог классификации:'"
      ]
     },
     "metadata": {},
     "output_type": "display_data"
    },
    {
     "data": {
      "text/plain": [
       "0.56"
      ]
     },
     "metadata": {},
     "output_type": "display_data"
    },
    {
     "name": "stdout",
     "output_type": "stream",
     "text": [
      "\n",
      "\n"
     ]
    },
    {
     "data": {
      "text/plain": [
       "'AUC-ROC:'"
      ]
     },
     "metadata": {},
     "output_type": "display_data"
    },
    {
     "data": {
      "text/plain": [
       "0.8483357145651287"
      ]
     },
     "metadata": {},
     "output_type": "display_data"
    },
    {
     "name": "stdout",
     "output_type": "stream",
     "text": [
      "CPU times: user 171 ms, sys: 112 ms, total: 282 ms\n",
      "Wall time: 296 ms\n"
     ]
    }
   ],
   "source": [
    "%%time\n",
    "#unbalanced_logistic\n",
    "balance_mark=\"balanced\"\n",
    "\n",
    "#best_f1_logistic_balanced_train, best_f1_threshold_logistic_balanced_train,best_auc_roc_logistic_balanced_train,best_f1_logistic_balanced_valid, best_f1_threshold_logistic_balanced_valid,best_auc_roc_logistic_balanced_valid, best_model_auc_roc_logistic_balanced_valid,best_model_auc_roc_logistic_balanced_train,best_model_f1_logistic_balanced_valid, best_model_f1_logistic_balanced_train=logistic(features_train,target_train, balance_mark)\n",
    "best_f1_logistic_balanced_valid, best_f1_threshold_logistic_balanced_valid, best_auc_roc_logistic_balanced_valid, best_model_auc_roc_logistic_balanced_valid,best_model_f1_logistic_balanced_valid=logistic(features_train,target_train, balance_mark)\n",
    "\n",
    "\n",
    "display(\"Логистическая регресия\")\n",
    "\n",
    "display(\"Валидационная выборка\")                    \n",
    "display(\"Максимальный F1:\", best_f1_logistic_balanced_valid,\n",
    "        \"Порог классификации:\", best_f1_threshold_logistic_balanced_valid)\n",
    "print(\"\\n\")\n",
    "display(\"AUC-ROC:\", best_auc_roc_logistic_balanced_valid)"
   ]
  },
  {
   "cell_type": "code",
   "execution_count": 50,
   "metadata": {
    "scrolled": true
   },
   "outputs": [
    {
     "data": {
      "text/plain": [
       "'Итоги моделей на валидационой выборке'"
      ]
     },
     "metadata": {},
     "output_type": "display_data"
    },
    {
     "data": {
      "text/plain": [
       "'Дерево решений (downsampled). F1: 0.604, порог классификации: 0.68. AUC-ROC: 0.840'"
      ]
     },
     "metadata": {},
     "output_type": "display_data"
    },
    {
     "data": {
      "text/plain": [
       "'Дерево решений (upsampled). F1: 0.614, порог классификации:  0.66. AUC-ROC: 0.845'"
      ]
     },
     "metadata": {},
     "output_type": "display_data"
    },
    {
     "data": {
      "text/plain": [
       "'Дерево решений (balanced). F1: 0.614, порог классификации: 0.66. AUC-ROC: 0.845'"
      ]
     },
     "metadata": {},
     "output_type": "display_data"
    },
    {
     "data": {
      "text/plain": [
       "'Случайный лес (downsampled). F1: 0.658, порог классификации:  0.62. AUC-ROC: 0.879'"
      ]
     },
     "metadata": {},
     "output_type": "display_data"
    },
    {
     "data": {
      "text/plain": [
       "'Случайный лес (upsampled). F1: 0.658, порог классификации:  0.60. AUC-ROC: 0.877'"
      ]
     },
     "metadata": {},
     "output_type": "display_data"
    },
    {
     "data": {
      "text/plain": [
       "'Случайный лес (balanced). F1: 0.651, порог классификации:  0.42. AUC-ROC: 0.874'"
      ]
     },
     "metadata": {},
     "output_type": "display_data"
    },
    {
     "data": {
      "text/plain": [
       "'Логистическая регессия (downsampled). F1: 0.603, порог классификации:  0.58. AUC-ROC: 0.849'"
      ]
     },
     "metadata": {},
     "output_type": "display_data"
    },
    {
     "data": {
      "text/plain": [
       "'Логистическая регессия (upsampled). F1: 0.599, порог классификации:  0.60. AUC-ROC: 0.848'"
      ]
     },
     "metadata": {},
     "output_type": "display_data"
    },
    {
     "data": {
      "text/plain": [
       "'Логистическая регессия (balanced). F1: 0.598, порог классификации:  0.56. AUC-ROC: 0.848'"
      ]
     },
     "metadata": {},
     "output_type": "display_data"
    }
   ],
   "source": [
    "#tree\n",
    "display(\"Итоги моделей на валидационой выборке\")\n",
    "display(f'Дерево решений (downsampled). F1: {best_f1_tree_downsampled_valid:.3f}, порог классификации: {best_f1_threshold_tree_downsampled_valid:.2f}. AUC-ROC: {best_auc_roc_tree_downsampled_valid:.3f}')\n",
    "display(f'Дерево решений (upsampled). F1: {best_f1_tree_upsampled_valid:.3f}, порог классификации:  {best_f1_threshold_tree_upsampled_valid:.2f}. AUC-ROC: {best_auc_roc_tree_upsampled_valid:.3f}')\n",
    "display(f'Дерево решений (balanced). F1: {best_f1_tree_balanced_valid:.3f}, порог классификации: {best_f1_threshold_tree_balanced_valid:.2f}. AUC-ROC: {best_auc_roc_tree_balanced_valid:.3f}')\n",
    "\n",
    "#forest\n",
    "display(f'Случайный лес (downsampled). F1: {best_f1_forest_downsampled_valid:.3f}, порог классификации:  {best_f1_threshold_forest_downsampled_valid:.2f}. AUC-ROC: {best_auc_roc_forest_downsampled_valid:.3f}')\n",
    "display(f'Случайный лес (upsampled). F1: {best_f1_forest_upsampled_valid:.3f}, порог классификации:  {best_f1_threshold_forest_upsampled_valid:.2f}. AUC-ROC: {best_auc_roc_forest_upsampled_valid:.3f}')\n",
    "display(f'Случайный лес (balanced). F1: {best_f1_forest_balanced_valid:.3f}, порог классификации:  {best_f1_threshold_forest_balanced_valid:.2f}. AUC-ROC: {best_auc_roc_forest_balanced_valid:.3f}')\n",
    "\n",
    "#logistic\n",
    "display(f'Логистическая регессия (downsampled). F1: {best_f1_logistic_downsampled_valid:.3f}, порог классификации:  {best_f1_threshold_logistic_downsampled_valid:.2f}. AUC-ROC: {best_auc_roc_logistic_downsampled_valid:.3f}')\n",
    "display(f'Логистическая регессия (upsampled). F1: {best_f1_logistic_upsampled_valid:.3f}, порог классификации:  {best_f1_threshold_logistic_upsampled_valid:.2f}. AUC-ROC: {best_auc_roc_logistic_upsampled_valid:.3f}')\n",
    "display(f'Логистическая регессия (balanced). F1: {best_f1_logistic_balanced_valid:.3f}, порог классификации:  {best_f1_threshold_logistic_balanced_valid:.2f}. AUC-ROC: {best_auc_roc_logistic_balanced_valid:.3f}')"
   ]
  },
  {
   "cell_type": "markdown",
   "metadata": {},
   "source": [
    "\n",
    "<b>Ответ студента №1</b>\n",
    "\n",
    "Как и на несбалансированных данных модель случайного леса на всех сбалансированных данных показала наилучшие результаты F1=0.65-0.66, AUC-ROC=0.87-0.88.   \n",
    "\n",
    "Все модели на валидационных данных показали себя лучше по сравнению со случайным классификатором - метрика AUC-ROC моделей больше 0.5 \n"
   ]
  },
  {
   "cell_type": "markdown",
   "metadata": {},
   "source": [
    "## Тестирование модели"
   ]
  },
  {
   "cell_type": "markdown",
   "metadata": {},
   "source": [
    "\n",
    "<b>Ответ студента №1</b>\n",
    "\n",
    "Проведем тестирование всех моделей, нуилучшим образом себя показавших на валидационной выборке, построенные как на сбалансированных данных, так и на несбалансированных."
   ]
  },
  {
   "cell_type": "markdown",
   "metadata": {},
   "source": [
    "<div class=\"alert alert-info\">\n",
    "<b>Ответ студента №2</b>\n",
    "\n",
    "Среди всех моделей на сбалансировнной (downsample) валидационной выборке показала модель случайного леса. Указанной модель имала наибольший критерий F1=0.658 и AUC-ROC=0,879. Проверим работу указанной модели на тестовой выборке. "
   ]
  },
  {
   "cell_type": "code",
   "execution_count": 51,
   "metadata": {},
   "outputs": [],
   "source": [
    "def f1_test(model, threshold):\n",
    "    probabilities_test = model.predict_proba(features_test)\n",
    "    probabilities_one_test = probabilities_test[:, 1]\n",
    "    predicted_test = probabilities_one_test > threshold\n",
    "    f1_test=f1_score(target_test,predicted_test)\n",
    "    auc_roc_test=roc_auc_score(target_test,probabilities_one_test)\n",
    "    \n",
    "    return f1_test, auc_roc_test"
   ]
  },
  {
   "cell_type": "code",
   "execution_count": 52,
   "metadata": {},
   "outputs": [
    {
     "data": {
      "text/plain": [
       "'Итоги работы моделей на тестовой выборке'"
      ]
     },
     "metadata": {},
     "output_type": "display_data"
    },
    {
     "data": {
      "text/plain": [
       "'Случайный лес (downsampled): F1: 0.594, порог класификации 0.62, AUC-ROC: 0.844'"
      ]
     },
     "metadata": {},
     "output_type": "display_data"
    }
   ],
   "source": [
    "display(\"Итоги работы моделей на тестовой выборке\")\n",
    "#f1_test_tree_unbalanced, auc_roc_test_f1_tree_unbalanced=f1_test(best_model_f1_tree_unbalanced_valid, best_f1_threshold_tree_unbalanced_valid)\n",
    "#display(f'Дерево решений (unbalanced): F1: {f1_test_tree_unbalanced:.2f}, AUC-ROC: {auc_roc_test_f1_tree_unbalanced:.2f}')\n",
    "\n",
    "#f1_test_tree_downsampled, auc_roc_test_f1_tree_downsampled=f1_test(best_model_f1_tree_downsampled_valid, best_f1_threshold_tree_downsampled_valid)\n",
    "#display(f'Дерево решений (downsampled): F1: {f1_test_tree_downsampled:.2f}, AUC-ROC: {auc_roc_test_f1_tree_downsampled:.2f}')\n",
    "\n",
    "#f1_test_tree_upsampled, auc_roc_test_f1_tree_upsampled=f1_test(best_model_f1_tree_upsampled_valid, best_f1_threshold_tree_upsampled_valid)\n",
    "#display(f'Дерево решений (upsampled): F1: {f1_test_tree_upsampled:.2f}, AUC-ROC: {auc_roc_test_f1_tree_upsampled:.2f}')\n",
    "\n",
    "#f1_test_tree_balanced, auc_roc_test_f1_tree_balanced=f1_test(best_model_f1_tree_balanced_valid, best_f1_threshold_tree_balanced_valid)\n",
    "#display(f'Дерево решений (balanced): F1: {f1_test_tree_balanced:.2f}, AUC-ROC: {auc_roc_test_f1_tree_balanced:.2f}')\n",
    "\n",
    "#f1_test_forest_unbalanced, auc_roc_test_f1_forest_unbalanced=f1_test(best_model_f1_forest_unbalanced_valid, best_f1_threshold_forest_unbalanced_valid)\n",
    "#display(f'Случайный лес (unbalanced): F1: {f1_test_forest_unbalanced:.2f}, AUC-ROC: {auc_roc_test_f1_forest_unbalanced:.2f}')\n",
    "\n",
    "f1_test_forest_downsampled, auc_roc_test_f1_forest_downsampled=f1_test(best_model_f1_forest_downsampled_valid, best_f1_threshold_forest_downsampled_valid)\n",
    "display(f'Случайный лес (downsampled): F1: {f1_test_forest_downsampled:.3f}, порог класификации {best_f1_threshold_forest_downsampled_valid:.2f}, AUC-ROC: {auc_roc_test_f1_forest_downsampled:.3f}')\n",
    "\n",
    "#f1_test_forest_upsampled, auc_roc_test_f1_forest_upsampled=f1_test(best_model_f1_forest_upsampled_valid, best_f1_threshold_forest_upsampled_valid)\n",
    "#display(f'Случайный лес (upsampled): F1: {f1_test_forest_upsampled:.2f}, AUC-ROC: {auc_roc_test_f1_forest_upsampled:.2f}')\n",
    "\n",
    "#f1_test_forest_balanced, auc_roc_test_f1_forest_balanced=f1_test(best_model_f1_forest_balanced_valid, best_f1_threshold_forest_balanced_valid)\n",
    "#display(f'Случайный лес (balanced): F1: {f1_test_forest_balanced:.2f}, AUC-ROC: {auc_roc_test_f1_forest_balanced:.2f}')\n",
    "\n",
    "#f1_test_logistic_unbalanced, auc_roc_test_f1_logistic_unbalanced=f1_test(best_model_f1_logistic_unbalanced_valid, best_f1_threshold_logistic_unbalanced_valid)\n",
    "#display(f'Логистическая регрессия (unbalanced): F1: {f1_test_logistic_unbalanced:.2f}, AUC-ROC: {auc_roc_test_f1_logistic_unbalanced:.2f}')\n",
    "\n",
    "#f1_test_logistic_downsampled, auc_roc_test_f1_logistic_downsampled=f1_test(best_model_f1_logistic_downsampled_valid, best_f1_threshold_logistic_downsampled_valid)\n",
    "#display(f'Логистическая регрессия (downsampled): F1: {f1_test_logistic_downsampled:.2f}, AUC-ROC: {auc_roc_test_f1_logistic_downsampled:.2f}')\n",
    "\n",
    "#f1_test_logistic_upsampled, auc_roc_test_f1_logistic_upsampled=f1_test(best_model_f1_logistic_upsampled_valid, best_f1_threshold_logistic_upsampled_valid)\n",
    "#display(f'Логистическая регрессия (upsampled): F1: {f1_test_logistic_upsampled:.2f}, AUC-ROC: {auc_roc_test_f1_logistic_upsampled:.2f}')\n",
    "\n",
    "#f1_test_logistic_balanced, auc_roc_test_f1_logistic_balanced=f1_test(best_model_f1_logistic_balanced_valid, best_f1_threshold_logistic_balanced_valid)\n",
    "#display(f'Логистическая регрессия (balanced): F1: {f1_test_logistic_balanced:.2f}, AUC-ROC: {auc_roc_test_f1_logistic_balanced:.2f}')\n",
    "\n"
   ]
  },
  {
   "cell_type": "markdown",
   "metadata": {},
   "source": [
    "<div class=\"alert alert-info\">\n",
    "<b>Ответ студента №2</b>\n",
    "\n",
    "ROC-кривая для тестовой выборки для наилучшей модели случайного леса, оцененного на валидационной выборке "
   ]
  },
  {
   "cell_type": "code",
   "execution_count": 53,
   "metadata": {},
   "outputs": [
    {
     "data": {
      "image/png": "[encoded data removed]",
      "text/plain": [
       "<Figure size 576x576 with 1 Axes>"
      ]
     },
     "metadata": {
      "needs_background": "light"
     },
     "output_type": "display_data"
    }
   ],
   "source": [
    "#ROC-кривая\n",
    "probabilities_test_forest_downsampled = best_model_auc_roc_forest_downsampled_valid.predict_proba(features_test)\n",
    "probabilities_one_test_forest_downsampled = probabilities_test_forest_downsampled[:, 1]\n",
    "\n",
    "fpr_forest_downsampled_test, tpr_forest_downsampled_test, thresholds_forest_downsampled_test = roc_curve(target_test, probabilities_one_test_forest_downsampled) \n",
    "\n",
    "plt.figure(figsize=(8,8))\n",
    "plt.plot(fpr_forest_downsampled_test, tpr_forest_downsampled_test)\n",
    "plt.xlim([0.0,1.0])\n",
    "plt.ylim([0.0,1.0])\n",
    "#plt.text(fpr_forest_downsampled_test, tpr_forest_downsampled_test,thresholds_forest_downsampled_test)\n",
    "\n",
    "# ROC-кривая случайной модели (выглядит как прямая)\n",
    "plt.plot([0, 1], [0, 1], linestyle='--')\n",
    "plt.xlabel('False Positive Rate')\n",
    "plt.ylabel('True Positive Rate')\n",
    "plt.title(\"ROC-кривая для случайного леса, сбалансированная (downsampled) выборка, тестовые данные\")\n",
    "\n",
    "plt.show()"
   ]
  },
  {
   "cell_type": "markdown",
   "metadata": {},
   "source": [
    "\n",
    "<b>Ответ студента №1</b>\n",
    "    \n",
    "Результаты моделей, полученные на тестовой выборке, достаточно близски с результатми, полученными на валидационной выборке, что свидетельствует об отсутствии факта переобучения моделей. Модели также лучше себя показали по сравнению со случайным классификатором AUC-ROC>0.5\n",
    "\n",
    "Тем не менее заданный порог в F1>=0.59 преодолела только модель случайного леса, AUC-ROC=0.87.\n",
    "\n",
    "Следует отметить, что обучение модели наиболее трудозатраное и требует значительно большего количества времени на подбор наилучших параметров модели.\n",
    "    \n",
    "Таким образом, можно рекомендовать использовать обученную модель случайного леса для оценки вероятности ухода клиента."
   ]
  },
  {
   "cell_type": "markdown",
   "metadata": {},
   "source": [
    "<div class=\"alert alert-info\">\n",
    "<b>Ответ студента №2</b>\n",
    "\n",
    "На тестовой выборке модель случайного леса, оцененная на несбалансированных данных, показала F1=0,594 и AUC-ROC=0,844."
   ]
  },
  {
   "cell_type": "markdown",
   "metadata": {},
   "source": [
    "<div class=\"alert alert-info\">\n",
    "<b>Ответ студента №2</b>\n",
    "\n",
    "Значение AUC-ROC значительно превышает 0,5. Этот говорит о том, что модель делает значительно более точную классификацию клиентов Банка по сравнению со случайной классификацией.\n",
    "    \n",
    "При пороге классификации 0.59 происходит перелом роста TPR, при котором FPR начинает расти быстрее, чем TPR (в этой точке к ROC-кривой можно провести касательную, параллельная прямой TPR=FPR)."
   ]
  },
  {
   "cell_type": "markdown",
   "metadata": {},
   "source": [
    "<div class=\"alert alert-info\">\n",
    "<b>Общий вывод. Ответ студента №2</b>\n",
    "\n",
    "Цель исследования заключалась в построении наилучшей с точки зрения меры F1 модели классификации \"поведения\" клиентов Банка.\n",
    "Выборка клиентов Банка состояла из 10000 записей, каждая из которых характеризовалась 14 параметрами. \n",
    "Проведена предварительная обработка данных в результате которой \n",
    "- исключены данные о клиентах с отсутствующим сроком обслуживания в банке (981 запись)\n",
    "- данные с полом клиента преобразованы в один dummy ряд \n",
    "- для количества используемых клиентами продуктов создано 3 отдельных dummy ряда\n",
    "- для страны проживания клиента создано 2 отдельных dummy ряда\n",
    "- исключены такие параметры как номера строк, фамилии и уникальные идентификационные номера клиентов, которые не могут оказать влияния на вероятность ухода клиента\n",
    "\n",
    "Действующих клиентов примерно в 4 раза больше ушедших - таким образом данные несбалансированы и это было учтено при построении моделей классификации. \n",
    "\n",
    "Особенности, выявленные при анализе параметров, которые можно использовать при проведении маркетинговых мероприятий:\n",
    "- клиенты Банка несбалансированы по полу - мужчин-клиентов больше, чем женщин. Доля ушедших клиентов женщин, больше чем мужчин (25% vs 16%)\n",
    "- наибольшая доля среди клиентов, покинувших Банк - граждане Германии (32%)\n",
    "- Банк преимущественно покидали неактивные клиенты и клиенты с низким кредитным рейтингом (ниже 400) \n",
    "- аномально выглядит доля клиентов, как текущих так и ушедших, с рейтингом, превышающим 850\n",
    "- доля ушедших клиентов, имевших средний баланс, превышает долю действующих клиентов со средним балансом\n",
    "- доля действующих клиентов с нулевым балансом примерно в 1,5 раза больше, чем у ушедших\n",
    "\n",
    "Для проведения исследования данные были разделены на обучающие, валидационные и тестовые наборы, а также стратифицированы по целевому признаку.\n",
    "\n",
    "Данные о кредитном рейтинге, возрасте клиента, сроке обслуживания в Банке, балансе и оценке зарплаты были масштабированы. Обучение масштабирования проведено на тренировочной выборке и применено к тренировочной, валидационной и тестовой выборкам.\n",
    "\n",
    "Коэффициенты корреляции количественных признаков близки к нулю, а VIF=1, указывают, что мультиколлинеарность в нашем примере не является проблемой.\n",
    "\n",
    "На несбалансированных данных на тренировочной выборке были обучены три типа моделей: «дерева решений», «случайного леса» и «логистической регрессии». Наилучшие параметры моделей определялись на валидационных данных. Все модели на валидационных данных показали себя лучше по сравнению со случайным классификатором - метрика AUC-ROC моделей больше 0.5, наилучший результат на основе метрики F1 показала модель случайного леса: F1=0.661. Указанная модель также имеет наибольшее значение критерия AUC-ROC=0.879.\n",
    "\n",
    "В целях повышения качества обучения моделей и соответственно снижения ошибочной классификации клиентов Банка была проведена балансировка выборки путем downsample, upsample и путем установки соответствующего параметра взвешивания в самой модели. Как и на несбалансированных данных модель «случайного леса» на всех сбалансированных данных показала наилучшие результаты F1=0.65-0.66, AUC-ROC=0.87-0.88. Все модели на валидационных данных показали себя лучше по сравнению со случайным классификатором - метрика AUC-ROC моделей больше 0.5.\n",
    "\n",
    "С учетом проведенного тестирования моделей на сбалансированных и несбалансированных валиационных данных считаю целесообразным рекомендовать использовать модель «случайного леса», обученной на сбалансированной (downsample) тренировочной выборке и показавшей наилучшие результаты на валидационной выборке. Работа указанной модели была проверена на тестовой выборке. На тестовой выборке модель показала F1=0,594 и AUC-ROC=0,844. По сравнению с результатами на валидационных данных модель продемонстрировала некоторое переобучение. Значение AUC-ROC говорит о том, что модель делает значительно более точную классификацию клиентов Банка по сравнению со случайной классификацией.\n",
    "При пороге классификации 0.59 происходит перелом роста TPR, при котором FPR начинает расти быстрее, чем TPR (в этой точке к ROC-кривой можно провести касательную, параллельная прямой TPR=FPR)."
   ]
  },
  {
   "cell_type": "markdown",
   "metadata": {},
   "source": [
    "<div class=\"alert alert-info\">\n",
    "<b>Ответ студента №2</b>\n",
    "    \n",
    "Евгений, благодарю Вас за ревью и столь полезные ссылки на материалы."
   ]
  },
  {
   "cell_type": "markdown",
   "metadata": {},
   "source": [
    "## Чек-лист готовности проекта"
   ]
  },
  {
   "cell_type": "markdown",
   "metadata": {},
   "source": [
    "Поставьте 'x' в выполненных пунктах. Далее нажмите Shift+Enter."
   ]
  },
  {
   "cell_type": "markdown",
   "metadata": {},
   "source": [
    "- [x]  Jupyter Notebook открыт\n",
    "- [ ]  Весь код выполняется без ошибок\n",
    "- [ ]  Ячейки с кодом расположены в порядке исполнения\n",
    "- [ ]  Выполнен шаг 1: данные подготовлены\n",
    "- [ ]  Выполнен шаг 2: задача исследована\n",
    "    - [ ]  Исследован баланс классов\n",
    "    - [ ]  Изучены модели без учёта дисбаланса\n",
    "    - [ ]  Написаны выводы по результатам исследования\n",
    "- [ ]  Выполнен шаг 3: учтён дисбаланс\n",
    "    - [ ]  Применено несколько способов борьбы с дисбалансом\n",
    "    - [ ]  Написаны выводы по результатам исследования\n",
    "- [ ]  Выполнен шаг 4: проведено тестирование\n",
    "- [ ]  Удалось достичь *F1*-меры не менее 0.59\n",
    "- [ ]  Исследована метрика *AUC-ROC*"
   ]
  },
  {
   "cell_type": "code",
   "execution_count": null,
   "metadata": {},
   "outputs": [],
   "source": []
  }
 ],
 "metadata": {
  "ExecuteTimeLog": [
   {
    "duration": 82,
    "start_time": "2023-06-15T19:56:47.602Z"
   },
   {
    "duration": 413,
    "start_time": "2023-06-15T19:56:53.324Z"
   },
   {
    "duration": 2132,
    "start_time": "2023-06-15T19:56:55.820Z"
   },
   {
    "duration": 1946,
    "start_time": "2023-06-15T19:57:26.863Z"
   },
   {
    "duration": 2360,
    "start_time": "2023-06-15T20:02:19.070Z"
   },
   {
    "duration": 265,
    "start_time": "2023-06-15T20:04:03.022Z"
   },
   {
    "duration": 7,
    "start_time": "2023-06-15T20:15:27.546Z"
   },
   {
    "duration": 59,
    "start_time": "2023-06-15T20:19:04.821Z"
   },
   {
    "duration": 43,
    "start_time": "2023-06-15T20:19:40.403Z"
   },
   {
    "duration": 2073,
    "start_time": "2023-06-15T20:20:54.033Z"
   },
   {
    "duration": 3,
    "start_time": "2023-06-15T20:21:20.697Z"
   },
   {
    "duration": 1924,
    "start_time": "2023-06-15T20:21:23.044Z"
   },
   {
    "duration": 2180,
    "start_time": "2023-06-15T20:25:06.743Z"
   },
   {
    "duration": 14,
    "start_time": "2023-06-15T20:26:55.845Z"
   },
   {
    "duration": 13,
    "start_time": "2023-06-15T20:27:44.293Z"
   },
   {
    "duration": 13,
    "start_time": "2023-06-15T20:31:23.785Z"
   },
   {
    "duration": 24,
    "start_time": "2023-06-15T20:33:19.525Z"
   },
   {
    "duration": 88,
    "start_time": "2023-06-15T20:35:56.525Z"
   },
   {
    "duration": 294,
    "start_time": "2023-06-15T20:36:04.394Z"
   },
   {
    "duration": 1997,
    "start_time": "2023-06-15T20:38:27.009Z"
   },
   {
    "duration": 106,
    "start_time": "2023-06-15T20:42:11.957Z"
   },
   {
    "duration": 1258,
    "start_time": "2023-06-15T20:43:22.471Z"
   },
   {
    "duration": 61,
    "start_time": "2023-06-15T20:43:29.020Z"
   },
   {
    "duration": 174,
    "start_time": "2023-06-17T12:09:22.783Z"
   },
   {
    "duration": 3189,
    "start_time": "2023-06-17T12:09:27.730Z"
   },
   {
    "duration": 460,
    "start_time": "2023-06-17T12:09:30.921Z"
   },
   {
    "duration": 119,
    "start_time": "2023-06-17T12:09:34.235Z"
   },
   {
    "duration": 217,
    "start_time": "2023-06-17T12:12:13.364Z"
   },
   {
    "duration": 351,
    "start_time": "2023-06-17T12:14:07.710Z"
   },
   {
    "duration": 27,
    "start_time": "2023-06-17T12:15:22.184Z"
   },
   {
    "duration": 10,
    "start_time": "2023-06-17T12:16:12.007Z"
   },
   {
    "duration": 22,
    "start_time": "2023-06-17T12:16:47.049Z"
   },
   {
    "duration": 344,
    "start_time": "2023-06-17T12:17:59.740Z"
   },
   {
    "duration": 214,
    "start_time": "2023-06-17T12:20:30.127Z"
   },
   {
    "duration": 286,
    "start_time": "2023-06-17T12:20:35.435Z"
   },
   {
    "duration": 422,
    "start_time": "2023-06-17T12:20:56.179Z"
   },
   {
    "duration": 325,
    "start_time": "2023-06-17T12:21:05.908Z"
   },
   {
    "duration": 3607,
    "start_time": "2023-06-17T12:22:55.818Z"
   },
   {
    "duration": 46,
    "start_time": "2023-06-17T12:23:08.503Z"
   },
   {
    "duration": 47,
    "start_time": "2023-06-17T12:23:18.538Z"
   },
   {
    "duration": 79,
    "start_time": "2023-06-17T12:24:23.471Z"
   },
   {
    "duration": 298,
    "start_time": "2023-06-17T12:25:04.475Z"
   },
   {
    "duration": 272,
    "start_time": "2023-06-17T12:25:47.313Z"
   },
   {
    "duration": 62,
    "start_time": "2023-06-17T12:27:23.131Z"
   },
   {
    "duration": 3512,
    "start_time": "2023-06-17T12:27:27.735Z"
   },
   {
    "duration": 3475,
    "start_time": "2023-06-17T12:27:48.474Z"
   },
   {
    "duration": 252,
    "start_time": "2023-06-17T12:29:20.511Z"
   },
   {
    "duration": 295,
    "start_time": "2023-06-17T12:29:49.942Z"
   },
   {
    "duration": 198,
    "start_time": "2023-06-17T12:32:01.147Z"
   },
   {
    "duration": 228,
    "start_time": "2023-06-17T12:32:16.631Z"
   },
   {
    "duration": 3386,
    "start_time": "2023-06-17T12:32:44.527Z"
   },
   {
    "duration": 329,
    "start_time": "2023-06-17T12:34:35.532Z"
   },
   {
    "duration": 3496,
    "start_time": "2023-06-17T12:35:45.619Z"
   },
   {
    "duration": 3599,
    "start_time": "2023-06-17T12:36:11.102Z"
   },
   {
    "duration": 404,
    "start_time": "2023-06-17T12:36:22.232Z"
   },
   {
    "duration": 54,
    "start_time": "2023-06-17T12:36:57.895Z"
   },
   {
    "duration": 48,
    "start_time": "2023-06-17T12:37:50.058Z"
   },
   {
    "duration": 37,
    "start_time": "2023-06-17T12:38:00.760Z"
   },
   {
    "duration": 49,
    "start_time": "2023-06-17T12:39:50.848Z"
   },
   {
    "duration": 75,
    "start_time": "2023-06-17T12:42:31.206Z"
   },
   {
    "duration": 184,
    "start_time": "2023-06-17T12:42:50.363Z"
   },
   {
    "duration": 56,
    "start_time": "2023-06-17T12:42:55.512Z"
   },
   {
    "duration": 11,
    "start_time": "2023-06-17T12:43:33.350Z"
   },
   {
    "duration": 50,
    "start_time": "2023-06-17T12:43:59.754Z"
   },
   {
    "duration": 2688,
    "start_time": "2023-06-17T12:49:34.709Z"
   },
   {
    "duration": 663,
    "start_time": "2023-06-17T12:50:43.438Z"
   },
   {
    "duration": 747,
    "start_time": "2023-06-17T12:50:57.018Z"
   },
   {
    "duration": 368,
    "start_time": "2023-06-17T12:53:00.407Z"
   },
   {
    "duration": 582,
    "start_time": "2023-06-17T12:53:09.573Z"
   },
   {
    "duration": 499,
    "start_time": "2023-06-17T12:55:46.942Z"
   },
   {
    "duration": 732,
    "start_time": "2023-06-17T12:57:45.424Z"
   },
   {
    "duration": 635,
    "start_time": "2023-06-17T12:58:15.438Z"
   },
   {
    "duration": 909,
    "start_time": "2023-06-17T12:58:52.439Z"
   },
   {
    "duration": 39,
    "start_time": "2023-06-17T12:59:56.950Z"
   },
   {
    "duration": 74,
    "start_time": "2023-06-17T13:00:20.295Z"
   },
   {
    "duration": 34,
    "start_time": "2023-06-17T13:00:57.086Z"
   },
   {
    "duration": 8,
    "start_time": "2023-06-17T13:28:46.257Z"
   },
   {
    "duration": 43,
    "start_time": "2023-06-17T13:29:06.454Z"
   },
   {
    "duration": 37,
    "start_time": "2023-06-17T13:29:26.767Z"
   },
   {
    "duration": 27,
    "start_time": "2023-06-17T13:29:52.572Z"
   },
   {
    "duration": 159,
    "start_time": "2023-06-17T13:30:16.005Z"
   },
   {
    "duration": 243,
    "start_time": "2023-06-17T13:30:32.987Z"
   },
   {
    "duration": 11,
    "start_time": "2023-06-17T13:39:49.470Z"
   },
   {
    "duration": 56,
    "start_time": "2023-06-17T13:39:59.683Z"
   },
   {
    "duration": 62,
    "start_time": "2023-06-17T13:40:26.951Z"
   },
   {
    "duration": 3194,
    "start_time": "2023-06-17T13:41:01.455Z"
   },
   {
    "duration": 3750,
    "start_time": "2023-06-17T13:41:30.579Z"
   },
   {
    "duration": 3277,
    "start_time": "2023-06-17T13:41:57.976Z"
   },
   {
    "duration": 24,
    "start_time": "2023-06-17T13:42:13.728Z"
   },
   {
    "duration": 234,
    "start_time": "2023-06-17T13:42:13.755Z"
   },
   {
    "duration": 101,
    "start_time": "2023-06-17T13:42:14.000Z"
   },
   {
    "duration": 328,
    "start_time": "2023-06-17T13:42:14.113Z"
   },
   {
    "duration": 93,
    "start_time": "2023-06-17T13:42:14.448Z"
   },
   {
    "duration": 58,
    "start_time": "2023-06-17T13:42:14.547Z"
   },
   {
    "duration": 57,
    "start_time": "2023-06-17T13:42:14.620Z"
   },
   {
    "duration": 107,
    "start_time": "2023-06-17T13:42:14.690Z"
   },
   {
    "duration": 961,
    "start_time": "2023-06-17T13:42:14.808Z"
   },
   {
    "duration": 904,
    "start_time": "2023-06-17T13:42:15.781Z"
   },
   {
    "duration": 866,
    "start_time": "2023-06-17T13:42:16.687Z"
   },
   {
    "duration": 46,
    "start_time": "2023-06-17T13:42:17.559Z"
   },
   {
    "duration": 98,
    "start_time": "2023-06-17T13:42:17.615Z"
   },
   {
    "duration": 418,
    "start_time": "2023-06-17T13:42:17.719Z"
   },
   {
    "duration": 39,
    "start_time": "2023-06-17T13:42:26.781Z"
   },
   {
    "duration": 22,
    "start_time": "2023-06-17T13:42:43.647Z"
   },
   {
    "duration": 200,
    "start_time": "2023-06-17T13:42:43.673Z"
   },
   {
    "duration": 98,
    "start_time": "2023-06-17T13:42:43.875Z"
   },
   {
    "duration": 785,
    "start_time": "2023-06-17T13:42:43.976Z"
   },
   {
    "duration": 75,
    "start_time": "2023-06-17T13:42:44.770Z"
   },
   {
    "duration": 34,
    "start_time": "2023-06-17T13:42:44.855Z"
   },
   {
    "duration": 59,
    "start_time": "2023-06-17T13:42:44.900Z"
   },
   {
    "duration": 130,
    "start_time": "2023-06-17T13:42:44.968Z"
   },
   {
    "duration": 995,
    "start_time": "2023-06-17T13:42:45.116Z"
   },
   {
    "duration": 754,
    "start_time": "2023-06-17T13:42:46.119Z"
   },
   {
    "duration": 713,
    "start_time": "2023-06-17T13:42:46.879Z"
   },
   {
    "duration": 41,
    "start_time": "2023-06-17T13:42:47.594Z"
   },
   {
    "duration": 74,
    "start_time": "2023-06-17T13:42:47.639Z"
   },
   {
    "duration": 492,
    "start_time": "2023-06-17T13:42:47.731Z"
   },
   {
    "duration": 69,
    "start_time": "2023-06-17T13:42:50.676Z"
   },
   {
    "duration": 413,
    "start_time": "2023-06-17T13:45:09.416Z"
   },
   {
    "duration": 47,
    "start_time": "2023-06-17T19:04:49.715Z"
   },
   {
    "duration": 1453,
    "start_time": "2023-06-17T19:04:55.574Z"
   },
   {
    "duration": 101,
    "start_time": "2023-06-17T19:04:57.029Z"
   },
   {
    "duration": 19,
    "start_time": "2023-06-17T19:04:57.132Z"
   },
   {
    "duration": 109,
    "start_time": "2023-06-17T19:04:57.152Z"
   },
   {
    "duration": 17,
    "start_time": "2023-06-17T19:04:59.402Z"
   },
   {
    "duration": 15,
    "start_time": "2023-06-17T19:06:27.972Z"
   },
   {
    "duration": 23,
    "start_time": "2023-06-17T19:06:47.957Z"
   },
   {
    "duration": 74,
    "start_time": "2023-06-17T19:07:37.032Z"
   },
   {
    "duration": 18,
    "start_time": "2023-06-17T19:07:43.484Z"
   },
   {
    "duration": 280,
    "start_time": "2023-06-17T19:12:18.204Z"
   },
   {
    "duration": 393,
    "start_time": "2023-06-17T19:12:50.304Z"
   },
   {
    "duration": 271,
    "start_time": "2023-06-17T19:13:03.451Z"
   },
   {
    "duration": 33,
    "start_time": "2023-06-17T19:23:46.597Z"
   },
   {
    "duration": 16,
    "start_time": "2023-06-17T19:29:06.175Z"
   },
   {
    "duration": 16,
    "start_time": "2023-06-17T19:29:16.666Z"
   },
   {
    "duration": 29,
    "start_time": "2023-06-17T19:29:49.085Z"
   },
   {
    "duration": 29,
    "start_time": "2023-06-17T19:29:58.499Z"
   },
   {
    "duration": 20,
    "start_time": "2023-06-17T19:30:13.496Z"
   },
   {
    "duration": 4,
    "start_time": "2023-06-17T19:30:17.699Z"
   },
   {
    "duration": 68,
    "start_time": "2023-06-17T19:30:17.705Z"
   },
   {
    "duration": 18,
    "start_time": "2023-06-17T19:30:17.775Z"
   },
   {
    "duration": 125,
    "start_time": "2023-06-17T19:30:17.795Z"
   },
   {
    "duration": 32,
    "start_time": "2023-06-17T19:30:17.923Z"
   },
   {
    "duration": 15,
    "start_time": "2023-06-17T19:30:17.957Z"
   },
   {
    "duration": 21,
    "start_time": "2023-06-17T19:30:17.974Z"
   },
   {
    "duration": 24,
    "start_time": "2023-06-17T19:30:18.021Z"
   },
   {
    "duration": 12,
    "start_time": "2023-06-17T19:30:18.047Z"
   },
   {
    "duration": 312,
    "start_time": "2023-06-17T19:30:18.060Z"
   },
   {
    "duration": 287,
    "start_time": "2023-06-17T19:30:18.373Z"
   },
   {
    "duration": 301,
    "start_time": "2023-06-17T19:30:18.662Z"
   },
   {
    "duration": 475,
    "start_time": "2023-06-17T19:30:18.964Z"
   },
   {
    "duration": 18,
    "start_time": "2023-06-17T19:30:19.443Z"
   },
   {
    "duration": 56,
    "start_time": "2023-06-17T19:30:19.464Z"
   },
   {
    "duration": 109,
    "start_time": "2023-06-17T19:30:19.522Z"
   },
   {
    "duration": 25,
    "start_time": "2023-06-17T19:30:19.633Z"
   },
   {
    "duration": 35,
    "start_time": "2023-06-17T19:30:19.660Z"
   },
   {
    "duration": 52,
    "start_time": "2023-06-17T19:30:19.697Z"
   },
   {
    "duration": 14,
    "start_time": "2023-06-17T19:30:23.867Z"
   },
   {
    "duration": 5,
    "start_time": "2023-06-17T19:30:43.281Z"
   },
   {
    "duration": 61,
    "start_time": "2023-06-17T19:30:43.289Z"
   },
   {
    "duration": 25,
    "start_time": "2023-06-17T19:30:43.352Z"
   },
   {
    "duration": 116,
    "start_time": "2023-06-17T19:30:43.379Z"
   },
   {
    "duration": 43,
    "start_time": "2023-06-17T19:30:43.497Z"
   },
   {
    "duration": 17,
    "start_time": "2023-06-17T19:30:43.542Z"
   },
   {
    "duration": 22,
    "start_time": "2023-06-17T19:30:43.561Z"
   },
   {
    "duration": 57,
    "start_time": "2023-06-17T19:30:43.584Z"
   },
   {
    "duration": 15,
    "start_time": "2023-06-17T19:30:43.643Z"
   },
   {
    "duration": 371,
    "start_time": "2023-06-17T19:30:43.660Z"
   },
   {
    "duration": 291,
    "start_time": "2023-06-17T19:30:44.033Z"
   },
   {
    "duration": 271,
    "start_time": "2023-06-17T19:30:44.326Z"
   },
   {
    "duration": 364,
    "start_time": "2023-06-17T19:30:44.599Z"
   },
   {
    "duration": 13,
    "start_time": "2023-06-17T19:30:44.964Z"
   },
   {
    "duration": 41,
    "start_time": "2023-06-17T19:30:44.979Z"
   },
   {
    "duration": 100,
    "start_time": "2023-06-17T19:30:45.022Z"
   },
   {
    "duration": 16,
    "start_time": "2023-06-17T19:30:45.124Z"
   },
   {
    "duration": 23,
    "start_time": "2023-06-17T19:30:45.142Z"
   },
   {
    "duration": 21,
    "start_time": "2023-06-17T19:30:52.309Z"
   },
   {
    "duration": 1228,
    "start_time": "2023-06-17T19:39:41.112Z"
   },
   {
    "duration": 17,
    "start_time": "2023-06-17T19:39:52.920Z"
   },
   {
    "duration": 12,
    "start_time": "2023-06-17T19:41:35.146Z"
   },
   {
    "duration": 1203,
    "start_time": "2023-06-17T19:42:04.166Z"
   },
   {
    "duration": 21,
    "start_time": "2023-06-17T19:43:42.459Z"
   },
   {
    "duration": 19,
    "start_time": "2023-06-17T19:44:01.219Z"
   },
   {
    "duration": 4,
    "start_time": "2023-06-17T19:44:13.335Z"
   },
   {
    "duration": 85,
    "start_time": "2023-06-17T19:44:13.341Z"
   },
   {
    "duration": 22,
    "start_time": "2023-06-17T19:44:13.428Z"
   },
   {
    "duration": 151,
    "start_time": "2023-06-17T19:44:13.452Z"
   },
   {
    "duration": 40,
    "start_time": "2023-06-17T19:44:13.605Z"
   },
   {
    "duration": 17,
    "start_time": "2023-06-17T19:44:13.647Z"
   },
   {
    "duration": 17,
    "start_time": "2023-06-17T19:44:13.665Z"
   },
   {
    "duration": 29,
    "start_time": "2023-06-17T19:44:13.721Z"
   },
   {
    "duration": 17,
    "start_time": "2023-06-17T19:44:13.752Z"
   },
   {
    "duration": 324,
    "start_time": "2023-06-17T19:44:13.772Z"
   },
   {
    "duration": 308,
    "start_time": "2023-06-17T19:44:14.098Z"
   },
   {
    "duration": 296,
    "start_time": "2023-06-17T19:44:14.407Z"
   },
   {
    "duration": 323,
    "start_time": "2023-06-17T19:44:14.705Z"
   },
   {
    "duration": 16,
    "start_time": "2023-06-17T19:44:15.029Z"
   },
   {
    "duration": 36,
    "start_time": "2023-06-17T19:44:15.047Z"
   },
   {
    "duration": 183,
    "start_time": "2023-06-17T19:44:15.085Z"
   },
   {
    "duration": 26,
    "start_time": "2023-06-17T19:44:15.270Z"
   },
   {
    "duration": 40,
    "start_time": "2023-06-17T19:44:15.298Z"
   },
   {
    "duration": 20,
    "start_time": "2023-06-17T19:44:15.340Z"
   },
   {
    "duration": 16,
    "start_time": "2023-06-17T19:44:15.362Z"
   },
   {
    "duration": 9,
    "start_time": "2023-06-17T19:45:23.588Z"
   },
   {
    "duration": 7,
    "start_time": "2023-06-17T19:46:30.971Z"
   },
   {
    "duration": 21,
    "start_time": "2023-06-17T19:48:59.267Z"
   },
   {
    "duration": 34,
    "start_time": "2023-06-17T19:49:30.086Z"
   },
   {
    "duration": 48,
    "start_time": "2023-06-17T19:58:39.811Z"
   },
   {
    "duration": 4,
    "start_time": "2023-06-17T19:58:51.617Z"
   },
   {
    "duration": 58,
    "start_time": "2023-06-17T19:58:51.623Z"
   },
   {
    "duration": 27,
    "start_time": "2023-06-17T19:58:51.683Z"
   },
   {
    "duration": 99,
    "start_time": "2023-06-17T19:58:51.712Z"
   },
   {
    "duration": 24,
    "start_time": "2023-06-17T19:58:51.820Z"
   },
   {
    "duration": 22,
    "start_time": "2023-06-17T19:58:51.846Z"
   },
   {
    "duration": 31,
    "start_time": "2023-06-17T19:58:51.870Z"
   },
   {
    "duration": 46,
    "start_time": "2023-06-17T19:58:51.903Z"
   },
   {
    "duration": 16,
    "start_time": "2023-06-17T19:58:51.951Z"
   },
   {
    "duration": 316,
    "start_time": "2023-06-17T19:58:51.970Z"
   },
   {
    "duration": 281,
    "start_time": "2023-06-17T19:58:52.288Z"
   },
   {
    "duration": 299,
    "start_time": "2023-06-17T19:58:52.571Z"
   },
   {
    "duration": 351,
    "start_time": "2023-06-17T19:58:52.872Z"
   },
   {
    "duration": 19,
    "start_time": "2023-06-17T19:58:53.224Z"
   },
   {
    "duration": 34,
    "start_time": "2023-06-17T19:58:53.244Z"
   },
   {
    "duration": 112,
    "start_time": "2023-06-17T19:58:53.280Z"
   },
   {
    "duration": 34,
    "start_time": "2023-06-17T19:58:53.394Z"
   },
   {
    "duration": 21,
    "start_time": "2023-06-17T19:58:53.430Z"
   },
   {
    "duration": 26,
    "start_time": "2023-06-17T19:58:53.453Z"
   },
   {
    "duration": 46,
    "start_time": "2023-06-17T19:58:53.482Z"
   },
   {
    "duration": 139,
    "start_time": "2023-06-17T19:58:53.530Z"
   },
   {
    "duration": 48,
    "start_time": "2023-06-17T19:58:55.914Z"
   },
   {
    "duration": 23,
    "start_time": "2023-06-17T20:08:31.175Z"
   },
   {
    "duration": 27,
    "start_time": "2023-06-17T20:08:53.479Z"
   },
   {
    "duration": 325,
    "start_time": "2023-06-17T20:09:06.949Z"
   },
   {
    "duration": 266,
    "start_time": "2023-06-17T20:10:31.582Z"
   },
   {
    "duration": 237,
    "start_time": "2023-06-17T20:13:04.362Z"
   },
   {
    "duration": 280,
    "start_time": "2023-06-17T20:14:35.370Z"
   },
   {
    "duration": 696,
    "start_time": "2023-06-17T20:15:01.470Z"
   },
   {
    "duration": 257,
    "start_time": "2023-06-17T20:16:08.292Z"
   },
   {
    "duration": 3714,
    "start_time": "2023-06-17T20:20:03.240Z"
   },
   {
    "duration": 39,
    "start_time": "2023-06-17T20:20:42.853Z"
   },
   {
    "duration": 208,
    "start_time": "2023-06-17T20:21:41.238Z"
   },
   {
    "duration": 539,
    "start_time": "2023-06-17T20:22:07.633Z"
   },
   {
    "duration": 54,
    "start_time": "2023-06-17T20:30:26.597Z"
   },
   {
    "duration": 262278,
    "start_time": "2023-06-17T20:30:39.558Z"
   },
   {
    "duration": 1959,
    "start_time": "2023-06-18T19:53:02.857Z"
   },
   {
    "duration": 0,
    "start_time": "2023-06-18T19:53:04.819Z"
   },
   {
    "duration": 0,
    "start_time": "2023-06-18T19:53:04.820Z"
   },
   {
    "duration": 0,
    "start_time": "2023-06-18T19:53:04.821Z"
   },
   {
    "duration": 0,
    "start_time": "2023-06-18T19:53:04.823Z"
   },
   {
    "duration": 0,
    "start_time": "2023-06-18T19:53:04.825Z"
   },
   {
    "duration": 0,
    "start_time": "2023-06-18T19:53:04.826Z"
   },
   {
    "duration": 0,
    "start_time": "2023-06-18T19:53:04.828Z"
   },
   {
    "duration": 0,
    "start_time": "2023-06-18T19:53:04.829Z"
   },
   {
    "duration": 0,
    "start_time": "2023-06-18T19:53:04.831Z"
   },
   {
    "duration": 0,
    "start_time": "2023-06-18T19:53:04.832Z"
   },
   {
    "duration": 0,
    "start_time": "2023-06-18T19:53:04.833Z"
   },
   {
    "duration": 0,
    "start_time": "2023-06-18T19:53:04.834Z"
   },
   {
    "duration": 0,
    "start_time": "2023-06-18T19:53:04.835Z"
   },
   {
    "duration": 0,
    "start_time": "2023-06-18T19:53:04.856Z"
   },
   {
    "duration": 0,
    "start_time": "2023-06-18T19:53:04.857Z"
   },
   {
    "duration": 0,
    "start_time": "2023-06-18T19:53:04.858Z"
   },
   {
    "duration": 0,
    "start_time": "2023-06-18T19:53:04.859Z"
   },
   {
    "duration": 0,
    "start_time": "2023-06-18T19:53:04.860Z"
   },
   {
    "duration": 0,
    "start_time": "2023-06-18T19:53:04.861Z"
   },
   {
    "duration": 0,
    "start_time": "2023-06-18T19:53:04.861Z"
   },
   {
    "duration": 0,
    "start_time": "2023-06-18T19:53:04.862Z"
   },
   {
    "duration": 0,
    "start_time": "2023-06-18T19:53:04.863Z"
   },
   {
    "duration": 4,
    "start_time": "2023-06-18T20:04:22.112Z"
   },
   {
    "duration": 4,
    "start_time": "2023-06-18T20:04:35.387Z"
   },
   {
    "duration": 403,
    "start_time": "2023-06-18T20:04:35.393Z"
   },
   {
    "duration": 23,
    "start_time": "2023-06-18T20:04:35.797Z"
   },
   {
    "duration": 199,
    "start_time": "2023-06-18T20:04:35.822Z"
   },
   {
    "duration": 53,
    "start_time": "2023-06-18T20:04:36.023Z"
   },
   {
    "duration": 15,
    "start_time": "2023-06-18T20:04:36.078Z"
   },
   {
    "duration": 20,
    "start_time": "2023-06-18T20:04:36.094Z"
   },
   {
    "duration": 44,
    "start_time": "2023-06-18T20:04:36.116Z"
   },
   {
    "duration": 22,
    "start_time": "2023-06-18T20:04:36.163Z"
   },
   {
    "duration": 326,
    "start_time": "2023-06-18T20:04:36.188Z"
   },
   {
    "duration": 321,
    "start_time": "2023-06-18T20:04:36.516Z"
   },
   {
    "duration": 432,
    "start_time": "2023-06-18T20:04:36.839Z"
   },
   {
    "duration": 395,
    "start_time": "2023-06-18T20:04:37.273Z"
   },
   {
    "duration": 16,
    "start_time": "2023-06-18T20:04:37.671Z"
   },
   {
    "duration": 24,
    "start_time": "2023-06-18T20:04:37.689Z"
   },
   {
    "duration": 119,
    "start_time": "2023-06-18T20:04:37.715Z"
   },
   {
    "duration": 40,
    "start_time": "2023-06-18T20:04:37.835Z"
   },
   {
    "duration": 24,
    "start_time": "2023-06-18T20:04:37.877Z"
   },
   {
    "duration": 22,
    "start_time": "2023-06-18T20:04:37.903Z"
   },
   {
    "duration": 42,
    "start_time": "2023-06-18T20:04:37.927Z"
   },
   {
    "duration": 47,
    "start_time": "2023-06-18T20:04:37.976Z"
   },
   {
    "duration": 8,
    "start_time": "2023-06-18T20:04:38.024Z"
   },
   {
    "duration": 0,
    "start_time": "2023-06-18T20:04:38.034Z"
   },
   {
    "duration": 17,
    "start_time": "2023-06-18T20:07:04.991Z"
   },
   {
    "duration": 577,
    "start_time": "2023-06-18T20:12:26.509Z"
   },
   {
    "duration": 12,
    "start_time": "2023-06-18T20:12:36.143Z"
   },
   {
    "duration": 565,
    "start_time": "2023-06-18T20:13:25.403Z"
   },
   {
    "duration": 247682,
    "start_time": "2023-06-18T20:13:35.520Z"
   },
   {
    "duration": 313,
    "start_time": "2023-06-18T20:18:06.192Z"
   },
   {
    "duration": 427,
    "start_time": "2023-06-18T20:19:29.058Z"
   },
   {
    "duration": 285,
    "start_time": "2023-06-18T20:20:22.895Z"
   },
   {
    "duration": 314,
    "start_time": "2023-06-18T20:20:59.500Z"
   },
   {
    "duration": 378,
    "start_time": "2023-06-18T20:21:09.026Z"
   },
   {
    "duration": 486,
    "start_time": "2023-06-18T20:21:44.392Z"
   },
   {
    "duration": 421,
    "start_time": "2023-06-18T20:21:55.373Z"
   },
   {
    "duration": 611,
    "start_time": "2023-06-18T20:22:35.194Z"
   },
   {
    "duration": 120,
    "start_time": "2023-06-18T20:23:39.721Z"
   },
   {
    "duration": 251483,
    "start_time": "2023-06-18T20:32:21.593Z"
   },
   {
    "duration": 507283,
    "start_time": "2023-06-18T21:15:44.616Z"
   },
   {
    "duration": 115788,
    "start_time": "2023-06-18T21:27:52.224Z"
   },
   {
    "duration": 569,
    "start_time": "2023-06-18T21:30:18.644Z"
   },
   {
    "duration": 123,
    "start_time": "2023-06-18T21:30:22.690Z"
   },
   {
    "duration": 575,
    "start_time": "2023-06-18T21:30:29.890Z"
   },
   {
    "duration": 76,
    "start_time": "2023-06-18T21:41:06.397Z"
   },
   {
    "duration": 65,
    "start_time": "2023-06-18T21:41:34.390Z"
   },
   {
    "duration": 5700,
    "start_time": "2023-06-18T21:41:50.902Z"
   },
   {
    "duration": 5882,
    "start_time": "2023-06-18T21:42:29.389Z"
   },
   {
    "duration": 108798,
    "start_time": "2023-06-18T21:43:36.590Z"
   },
   {
    "duration": 527,
    "start_time": "2023-06-18T21:46:20.332Z"
   },
   {
    "duration": 426,
    "start_time": "2023-06-18T21:48:09.894Z"
   },
   {
    "duration": 527,
    "start_time": "2023-06-18T21:49:15.730Z"
   },
   {
    "duration": 543,
    "start_time": "2023-06-18T21:50:25.492Z"
   },
   {
    "duration": 542,
    "start_time": "2023-06-18T21:51:19.716Z"
   },
   {
    "duration": 124,
    "start_time": "2023-06-18T21:51:28.691Z"
   },
   {
    "duration": 16,
    "start_time": "2023-06-18T21:57:42.639Z"
   },
   {
    "duration": 108190,
    "start_time": "2023-06-18T21:58:33.594Z"
   },
   {
    "duration": 485,
    "start_time": "2023-06-18T22:07:22.706Z"
   },
   {
    "duration": 4,
    "start_time": "2023-06-18T22:09:26.699Z"
   },
   {
    "duration": 65,
    "start_time": "2023-06-18T22:09:26.706Z"
   },
   {
    "duration": 21,
    "start_time": "2023-06-18T22:09:26.772Z"
   },
   {
    "duration": 115,
    "start_time": "2023-06-18T22:09:26.794Z"
   },
   {
    "duration": 49,
    "start_time": "2023-06-18T22:09:26.911Z"
   },
   {
    "duration": 22,
    "start_time": "2023-06-18T22:09:26.963Z"
   },
   {
    "duration": 15,
    "start_time": "2023-06-18T22:09:26.987Z"
   },
   {
    "duration": 53,
    "start_time": "2023-06-18T22:09:27.004Z"
   },
   {
    "duration": 14,
    "start_time": "2023-06-18T22:09:27.059Z"
   },
   {
    "duration": 419,
    "start_time": "2023-06-18T22:09:27.076Z"
   },
   {
    "duration": 296,
    "start_time": "2023-06-18T22:09:27.496Z"
   },
   {
    "duration": 306,
    "start_time": "2023-06-18T22:09:27.793Z"
   },
   {
    "duration": 330,
    "start_time": "2023-06-18T22:09:28.101Z"
   },
   {
    "duration": 26,
    "start_time": "2023-06-18T22:09:28.434Z"
   },
   {
    "duration": 21,
    "start_time": "2023-06-18T22:09:28.461Z"
   },
   {
    "duration": 126,
    "start_time": "2023-06-18T22:09:28.484Z"
   },
   {
    "duration": 19,
    "start_time": "2023-06-18T22:09:28.612Z"
   },
   {
    "duration": 35,
    "start_time": "2023-06-18T22:09:28.633Z"
   },
   {
    "duration": 22,
    "start_time": "2023-06-18T22:09:28.669Z"
   },
   {
    "duration": 16,
    "start_time": "2023-06-18T22:09:28.693Z"
   },
   {
    "duration": 72,
    "start_time": "2023-06-18T22:09:28.710Z"
   },
   {
    "duration": 5998,
    "start_time": "2023-06-18T22:09:28.783Z"
   },
   {
    "duration": 159,
    "start_time": "2023-06-18T22:09:34.783Z"
   },
   {
    "duration": 108640,
    "start_time": "2023-06-18T22:09:34.944Z"
   },
   {
    "duration": 163,
    "start_time": "2023-06-18T22:11:23.586Z"
   },
   {
    "duration": 511,
    "start_time": "2023-06-18T22:11:23.751Z"
   },
   {
    "duration": 118,
    "start_time": "2023-06-18T22:14:52.602Z"
   },
   {
    "duration": 143,
    "start_time": "2023-06-19T12:33:36.141Z"
   },
   {
    "duration": 1574,
    "start_time": "2023-06-19T12:33:49.191Z"
   },
   {
    "duration": 121,
    "start_time": "2023-06-19T12:33:50.767Z"
   },
   {
    "duration": 22,
    "start_time": "2023-06-19T12:33:50.890Z"
   },
   {
    "duration": 132,
    "start_time": "2023-06-19T12:33:50.913Z"
   },
   {
    "duration": 21,
    "start_time": "2023-06-19T12:33:51.047Z"
   },
   {
    "duration": 66,
    "start_time": "2023-06-19T12:33:51.069Z"
   },
   {
    "duration": 51,
    "start_time": "2023-06-19T12:33:51.137Z"
   },
   {
    "duration": 67,
    "start_time": "2023-06-19T12:33:51.189Z"
   },
   {
    "duration": 22,
    "start_time": "2023-06-19T12:33:51.257Z"
   },
   {
    "duration": 384,
    "start_time": "2023-06-19T12:33:51.280Z"
   },
   {
    "duration": 348,
    "start_time": "2023-06-19T12:33:51.666Z"
   },
   {
    "duration": 273,
    "start_time": "2023-06-19T12:33:52.015Z"
   },
   {
    "duration": 309,
    "start_time": "2023-06-19T12:33:52.290Z"
   },
   {
    "duration": 18,
    "start_time": "2023-06-19T12:33:52.602Z"
   },
   {
    "duration": 52,
    "start_time": "2023-06-19T12:33:52.622Z"
   },
   {
    "duration": 137,
    "start_time": "2023-06-19T12:33:52.675Z"
   },
   {
    "duration": 20,
    "start_time": "2023-06-19T12:33:52.814Z"
   },
   {
    "duration": 61,
    "start_time": "2023-06-19T12:33:52.836Z"
   },
   {
    "duration": 31,
    "start_time": "2023-06-19T12:33:52.899Z"
   },
   {
    "duration": 28,
    "start_time": "2023-06-19T12:33:52.931Z"
   },
   {
    "duration": 49,
    "start_time": "2023-06-19T12:33:52.960Z"
   },
   {
    "duration": 215,
    "start_time": "2023-06-19T12:33:53.011Z"
   },
   {
    "duration": 10,
    "start_time": "2023-06-19T12:33:53.228Z"
   },
   {
    "duration": 0,
    "start_time": "2023-06-19T12:33:53.239Z"
   },
   {
    "duration": 0,
    "start_time": "2023-06-19T12:33:53.241Z"
   },
   {
    "duration": 0,
    "start_time": "2023-06-19T12:33:53.242Z"
   },
   {
    "duration": 146,
    "start_time": "2023-06-19T12:35:50.860Z"
   },
   {
    "duration": 3793,
    "start_time": "2023-06-19T12:38:46.822Z"
   },
   {
    "duration": 126,
    "start_time": "2023-06-19T12:47:06.199Z"
   },
   {
    "duration": 89759,
    "start_time": "2023-06-19T12:48:07.090Z"
   },
   {
    "duration": 162,
    "start_time": "2023-06-19T12:52:48.063Z"
   },
   {
    "duration": 372,
    "start_time": "2023-06-19T13:05:47.668Z"
   },
   {
    "duration": 10,
    "start_time": "2023-06-19T13:06:43.822Z"
   },
   {
    "duration": 332,
    "start_time": "2023-06-19T13:11:36.930Z"
   },
   {
    "duration": 241,
    "start_time": "2023-06-19T13:11:51.348Z"
   },
   {
    "duration": 3,
    "start_time": "2023-06-19T19:42:09.270Z"
   },
   {
    "duration": 94,
    "start_time": "2023-06-19T19:42:09.275Z"
   },
   {
    "duration": 17,
    "start_time": "2023-06-19T19:42:09.370Z"
   },
   {
    "duration": 88,
    "start_time": "2023-06-19T19:42:09.389Z"
   },
   {
    "duration": 38,
    "start_time": "2023-06-19T19:42:09.479Z"
   },
   {
    "duration": 15,
    "start_time": "2023-06-19T19:42:09.518Z"
   },
   {
    "duration": 14,
    "start_time": "2023-06-19T19:42:09.535Z"
   },
   {
    "duration": 56,
    "start_time": "2023-06-19T19:42:09.551Z"
   },
   {
    "duration": 15,
    "start_time": "2023-06-19T19:42:09.609Z"
   },
   {
    "duration": 284,
    "start_time": "2023-06-19T19:42:09.625Z"
   },
   {
    "duration": 280,
    "start_time": "2023-06-19T19:42:09.911Z"
   },
   {
    "duration": 273,
    "start_time": "2023-06-19T19:42:10.193Z"
   },
   {
    "duration": 304,
    "start_time": "2023-06-19T19:42:10.467Z"
   },
   {
    "duration": 12,
    "start_time": "2023-06-19T19:42:10.772Z"
   },
   {
    "duration": 25,
    "start_time": "2023-06-19T19:42:10.800Z"
   },
   {
    "duration": 161,
    "start_time": "2023-06-19T19:42:10.826Z"
   },
   {
    "duration": 26,
    "start_time": "2023-06-19T19:42:10.988Z"
   },
   {
    "duration": 22,
    "start_time": "2023-06-19T19:42:11.016Z"
   },
   {
    "duration": 20,
    "start_time": "2023-06-19T19:42:11.039Z"
   },
   {
    "duration": 14,
    "start_time": "2023-06-19T19:42:11.060Z"
   },
   {
    "duration": 45,
    "start_time": "2023-06-19T19:42:11.099Z"
   },
   {
    "duration": 3609,
    "start_time": "2023-06-19T19:42:11.146Z"
   },
   {
    "duration": 180,
    "start_time": "2023-06-19T19:42:14.756Z"
   },
   {
    "duration": 87275,
    "start_time": "2023-06-19T19:42:14.939Z"
   },
   {
    "duration": 169,
    "start_time": "2023-06-19T19:43:42.216Z"
   },
   {
    "duration": 416,
    "start_time": "2023-06-19T19:43:42.387Z"
   },
   {
    "duration": 305,
    "start_time": "2023-06-19T19:43:42.805Z"
   },
   {
    "duration": 4,
    "start_time": "2023-06-19T19:44:21.178Z"
   },
   {
    "duration": 3,
    "start_time": "2023-06-19T19:53:13.316Z"
   },
   {
    "duration": 8,
    "start_time": "2023-06-19T19:53:16.583Z"
   },
   {
    "duration": 13,
    "start_time": "2023-06-19T19:53:20.159Z"
   },
   {
    "duration": 14,
    "start_time": "2023-06-19T19:53:30.955Z"
   },
   {
    "duration": 15,
    "start_time": "2023-06-19T19:54:37.626Z"
   },
   {
    "duration": 3,
    "start_time": "2023-06-19T19:54:54.521Z"
   },
   {
    "duration": 11,
    "start_time": "2023-06-19T19:55:00.892Z"
   },
   {
    "duration": 11,
    "start_time": "2023-06-19T19:56:23.211Z"
   },
   {
    "duration": 10,
    "start_time": "2023-06-19T19:57:04.685Z"
   },
   {
    "duration": 12,
    "start_time": "2023-06-19T19:58:12.700Z"
   },
   {
    "duration": 7,
    "start_time": "2023-06-19T19:58:20.863Z"
   },
   {
    "duration": 7,
    "start_time": "2023-06-19T19:58:46.265Z"
   },
   {
    "duration": 12,
    "start_time": "2023-06-19T20:00:38.709Z"
   },
   {
    "duration": 13,
    "start_time": "2023-06-19T20:01:03.117Z"
   },
   {
    "duration": 11,
    "start_time": "2023-06-19T20:02:13.671Z"
   },
   {
    "duration": 7,
    "start_time": "2023-06-19T20:02:39.446Z"
   },
   {
    "duration": 13,
    "start_time": "2023-06-19T20:03:30.305Z"
   },
   {
    "duration": 13,
    "start_time": "2023-06-19T20:09:18.807Z"
   },
   {
    "duration": 12,
    "start_time": "2023-06-19T20:10:39.476Z"
   },
   {
    "duration": 15,
    "start_time": "2023-06-19T20:11:06.705Z"
   },
   {
    "duration": 19,
    "start_time": "2023-06-19T20:36:47.251Z"
   },
   {
    "duration": 17,
    "start_time": "2023-06-19T20:36:57.470Z"
   },
   {
    "duration": 11,
    "start_time": "2023-06-19T20:38:57.825Z"
   },
   {
    "duration": 3441,
    "start_time": "2023-06-19T20:40:10.296Z"
   },
   {
    "duration": 10,
    "start_time": "2023-06-19T20:40:39.037Z"
   },
   {
    "duration": 3482,
    "start_time": "2023-06-19T20:40:49.142Z"
   },
   {
    "duration": 12,
    "start_time": "2023-06-19T20:42:58.137Z"
   },
   {
    "duration": 3695,
    "start_time": "2023-06-19T20:43:02.435Z"
   },
   {
    "duration": 133,
    "start_time": "2023-06-19T20:43:13.314Z"
   },
   {
    "duration": 3534,
    "start_time": "2023-06-19T20:43:55.331Z"
   },
   {
    "duration": 3572,
    "start_time": "2023-06-19T20:44:03.741Z"
   },
   {
    "duration": 2583,
    "start_time": "2023-06-19T20:49:05.880Z"
   },
   {
    "duration": 5085,
    "start_time": "2023-06-19T20:52:50.822Z"
   },
   {
    "duration": 14,
    "start_time": "2023-06-19T20:57:49.698Z"
   },
   {
    "duration": 3478,
    "start_time": "2023-06-19T20:58:05.588Z"
   },
   {
    "duration": 2557,
    "start_time": "2023-06-19T20:58:57.852Z"
   },
   {
    "duration": 4935,
    "start_time": "2023-06-19T20:59:13.815Z"
   },
   {
    "duration": 4820,
    "start_time": "2023-06-19T21:00:21.850Z"
   },
   {
    "duration": 5017,
    "start_time": "2023-06-19T21:00:54.189Z"
   },
   {
    "duration": 3568,
    "start_time": "2023-06-19T21:03:33.992Z"
   },
   {
    "duration": 109,
    "start_time": "2023-06-19T21:08:08.522Z"
   },
   {
    "duration": 16,
    "start_time": "2023-06-19T21:09:53.793Z"
   },
   {
    "duration": 115,
    "start_time": "2023-06-19T21:10:03.712Z"
   },
   {
    "duration": 118,
    "start_time": "2023-06-19T21:11:36.921Z"
   },
   {
    "duration": 3,
    "start_time": "2023-06-19T21:14:56.115Z"
   },
   {
    "duration": 17,
    "start_time": "2023-06-19T21:26:06.692Z"
   },
   {
    "duration": 17,
    "start_time": "2023-06-19T21:26:16.598Z"
   },
   {
    "duration": 82,
    "start_time": "2023-06-19T21:26:24.623Z"
   },
   {
    "duration": 161,
    "start_time": "2023-06-19T21:26:57.822Z"
   },
   {
    "duration": 21,
    "start_time": "2023-06-19T21:30:04.591Z"
   },
   {
    "duration": 86250,
    "start_time": "2023-06-19T21:30:15.400Z"
   },
   {
    "duration": 9,
    "start_time": "2023-06-19T21:32:58.255Z"
   },
   {
    "duration": 87559,
    "start_time": "2023-06-19T21:33:09.055Z"
   },
   {
    "duration": 1333,
    "start_time": "2023-06-19T21:35:07.293Z"
   },
   {
    "duration": 60,
    "start_time": "2023-06-19T21:35:08.628Z"
   },
   {
    "duration": 29,
    "start_time": "2023-06-19T21:35:08.689Z"
   },
   {
    "duration": 122,
    "start_time": "2023-06-19T21:35:08.719Z"
   },
   {
    "duration": 21,
    "start_time": "2023-06-19T21:35:08.843Z"
   },
   {
    "duration": 30,
    "start_time": "2023-06-19T21:35:08.865Z"
   },
   {
    "duration": 22,
    "start_time": "2023-06-19T21:35:08.899Z"
   },
   {
    "duration": 30,
    "start_time": "2023-06-19T21:35:08.923Z"
   },
   {
    "duration": 13,
    "start_time": "2023-06-19T21:35:08.955Z"
   },
   {
    "duration": 286,
    "start_time": "2023-06-19T21:35:08.970Z"
   },
   {
    "duration": 268,
    "start_time": "2023-06-19T21:35:09.258Z"
   },
   {
    "duration": 353,
    "start_time": "2023-06-19T21:35:09.527Z"
   },
   {
    "duration": 293,
    "start_time": "2023-06-19T21:35:09.882Z"
   },
   {
    "duration": 28,
    "start_time": "2023-06-19T21:35:10.177Z"
   },
   {
    "duration": 20,
    "start_time": "2023-06-19T21:35:10.206Z"
   },
   {
    "duration": 108,
    "start_time": "2023-06-19T21:35:10.228Z"
   },
   {
    "duration": 17,
    "start_time": "2023-06-19T21:35:10.337Z"
   },
   {
    "duration": 33,
    "start_time": "2023-06-19T21:35:10.355Z"
   },
   {
    "duration": 36,
    "start_time": "2023-06-19T21:35:10.389Z"
   },
   {
    "duration": 14,
    "start_time": "2023-06-19T21:35:10.427Z"
   },
   {
    "duration": 83,
    "start_time": "2023-06-19T21:35:10.442Z"
   },
   {
    "duration": 9,
    "start_time": "2023-06-19T21:35:10.526Z"
   },
   {
    "duration": 3475,
    "start_time": "2023-06-19T21:35:10.536Z"
   },
   {
    "duration": 153,
    "start_time": "2023-06-19T21:35:14.012Z"
   },
   {
    "duration": 9,
    "start_time": "2023-06-19T21:35:14.166Z"
   },
   {
    "duration": 85565,
    "start_time": "2023-06-19T21:35:14.177Z"
   },
   {
    "duration": 12,
    "start_time": "2023-06-19T21:36:39.744Z"
   },
   {
    "duration": 0,
    "start_time": "2023-06-19T21:36:39.758Z"
   },
   {
    "duration": 0,
    "start_time": "2023-06-19T21:36:39.760Z"
   },
   {
    "duration": 0,
    "start_time": "2023-06-19T21:36:39.761Z"
   },
   {
    "duration": 0,
    "start_time": "2023-06-19T21:36:39.763Z"
   },
   {
    "duration": 0,
    "start_time": "2023-06-19T21:36:39.764Z"
   },
   {
    "duration": 0,
    "start_time": "2023-06-19T21:36:39.765Z"
   },
   {
    "duration": 0,
    "start_time": "2023-06-19T21:36:39.767Z"
   },
   {
    "duration": 0,
    "start_time": "2023-06-19T21:36:39.768Z"
   },
   {
    "duration": 0,
    "start_time": "2023-06-19T21:36:39.769Z"
   },
   {
    "duration": 0,
    "start_time": "2023-06-19T21:36:39.771Z"
   },
   {
    "duration": 87928,
    "start_time": "2023-06-19T21:37:28.015Z"
   },
   {
    "duration": 199,
    "start_time": "2023-06-19T21:40:15.388Z"
   },
   {
    "duration": 3,
    "start_time": "2023-06-19T21:40:46.747Z"
   },
   {
    "duration": 7,
    "start_time": "2023-06-19T21:49:18.918Z"
   },
   {
    "duration": 345,
    "start_time": "2023-06-19T21:49:24.911Z"
   },
   {
    "duration": 313,
    "start_time": "2023-06-19T21:49:37.955Z"
   },
   {
    "duration": 270,
    "start_time": "2023-06-19T21:49:44.745Z"
   },
   {
    "duration": 86,
    "start_time": "2023-06-19T22:01:10.303Z"
   },
   {
    "duration": 137,
    "start_time": "2023-06-19T22:02:48.512Z"
   },
   {
    "duration": 1270,
    "start_time": "2023-06-19T22:03:19.922Z"
   },
   {
    "duration": 68,
    "start_time": "2023-06-19T22:03:21.194Z"
   },
   {
    "duration": 22,
    "start_time": "2023-06-19T22:03:21.264Z"
   },
   {
    "duration": 93,
    "start_time": "2023-06-19T22:03:21.288Z"
   },
   {
    "duration": 49,
    "start_time": "2023-06-19T22:03:21.383Z"
   },
   {
    "duration": 42,
    "start_time": "2023-06-19T22:03:21.433Z"
   },
   {
    "duration": 12,
    "start_time": "2023-06-19T22:03:21.477Z"
   },
   {
    "duration": 45,
    "start_time": "2023-06-19T22:03:21.490Z"
   },
   {
    "duration": 11,
    "start_time": "2023-06-19T22:03:21.537Z"
   },
   {
    "duration": 278,
    "start_time": "2023-06-19T22:03:21.552Z"
   },
   {
    "duration": 281,
    "start_time": "2023-06-19T22:03:21.831Z"
   },
   {
    "duration": 332,
    "start_time": "2023-06-19T22:03:22.115Z"
   },
   {
    "duration": 304,
    "start_time": "2023-06-19T22:03:22.449Z"
   },
   {
    "duration": 19,
    "start_time": "2023-06-19T22:03:22.755Z"
   },
   {
    "duration": 48,
    "start_time": "2023-06-19T22:03:22.776Z"
   },
   {
    "duration": 101,
    "start_time": "2023-06-19T22:03:22.826Z"
   },
   {
    "duration": 17,
    "start_time": "2023-06-19T22:03:22.928Z"
   },
   {
    "duration": 23,
    "start_time": "2023-06-19T22:03:22.946Z"
   },
   {
    "duration": 41,
    "start_time": "2023-06-19T22:03:22.971Z"
   },
   {
    "duration": 14,
    "start_time": "2023-06-19T22:03:23.017Z"
   },
   {
    "duration": 73,
    "start_time": "2023-06-19T22:03:23.032Z"
   },
   {
    "duration": 11,
    "start_time": "2023-06-19T22:03:23.107Z"
   },
   {
    "duration": 3552,
    "start_time": "2023-06-19T22:03:23.120Z"
   },
   {
    "duration": 152,
    "start_time": "2023-06-19T22:03:26.673Z"
   },
   {
    "duration": 9,
    "start_time": "2023-06-19T22:03:26.827Z"
   },
   {
    "duration": 86336,
    "start_time": "2023-06-19T22:03:26.838Z"
   },
   {
    "duration": 166,
    "start_time": "2023-06-19T22:04:53.176Z"
   },
   {
    "duration": 2,
    "start_time": "2023-06-19T22:04:53.347Z"
   },
   {
    "duration": 26,
    "start_time": "2023-06-19T22:04:53.351Z"
   },
   {
    "duration": 375,
    "start_time": "2023-06-19T22:04:53.379Z"
   },
   {
    "duration": 263,
    "start_time": "2023-06-19T22:04:53.755Z"
   },
   {
    "duration": 15,
    "start_time": "2023-06-19T22:04:54.019Z"
   },
   {
    "duration": 31,
    "start_time": "2023-06-19T22:04:54.035Z"
   },
   {
    "duration": 2878,
    "start_time": "2023-06-19T22:04:54.068Z"
   },
   {
    "duration": 154,
    "start_time": "2023-06-19T22:04:56.948Z"
   },
   {
    "duration": 4863,
    "start_time": "2023-06-19T22:04:57.113Z"
   },
   {
    "duration": 142,
    "start_time": "2023-06-19T22:05:01.978Z"
   },
   {
    "duration": 3816,
    "start_time": "2023-06-19T22:05:02.122Z"
   },
   {
    "duration": 158,
    "start_time": "2023-06-19T22:05:05.939Z"
   },
   {
    "duration": 56110,
    "start_time": "2023-06-19T22:05:06.099Z"
   },
   {
    "duration": 126106,
    "start_time": "2023-06-19T22:06:02.210Z"
   },
   {
    "duration": 89713,
    "start_time": "2023-06-19T22:08:08.318Z"
   },
   {
    "duration": 334,
    "start_time": "2023-06-19T22:24:13.479Z"
   },
   {
    "duration": 417,
    "start_time": "2023-06-19T22:24:16.692Z"
   },
   {
    "duration": 368,
    "start_time": "2023-06-19T22:24:19.877Z"
   },
   {
    "duration": 1307,
    "start_time": "2023-06-19T22:36:28.886Z"
   },
   {
    "duration": 66,
    "start_time": "2023-06-19T22:36:30.196Z"
   },
   {
    "duration": 25,
    "start_time": "2023-06-19T22:36:30.263Z"
   },
   {
    "duration": 186,
    "start_time": "2023-06-19T22:36:30.289Z"
   },
   {
    "duration": 36,
    "start_time": "2023-06-19T22:36:30.477Z"
   },
   {
    "duration": 77,
    "start_time": "2023-06-19T22:36:30.515Z"
   },
   {
    "duration": 142,
    "start_time": "2023-06-19T22:36:30.593Z"
   },
   {
    "duration": 106,
    "start_time": "2023-06-19T22:36:30.737Z"
   },
   {
    "duration": 103,
    "start_time": "2023-06-19T22:36:30.844Z"
   },
   {
    "duration": 340,
    "start_time": "2023-06-19T22:36:30.948Z"
   },
   {
    "duration": 273,
    "start_time": "2023-06-19T22:36:31.290Z"
   },
   {
    "duration": 346,
    "start_time": "2023-06-19T22:36:31.564Z"
   },
   {
    "duration": 306,
    "start_time": "2023-06-19T22:36:31.911Z"
   },
   {
    "duration": 19,
    "start_time": "2023-06-19T22:36:32.221Z"
   },
   {
    "duration": 31,
    "start_time": "2023-06-19T22:36:32.242Z"
   },
   {
    "duration": 99,
    "start_time": "2023-06-19T22:36:32.274Z"
   },
   {
    "duration": 42,
    "start_time": "2023-06-19T22:36:32.374Z"
   },
   {
    "duration": 20,
    "start_time": "2023-06-19T22:36:32.418Z"
   },
   {
    "duration": 18,
    "start_time": "2023-06-19T22:36:32.440Z"
   },
   {
    "duration": 25,
    "start_time": "2023-06-19T22:36:32.459Z"
   },
   {
    "duration": 62,
    "start_time": "2023-06-19T22:36:32.485Z"
   },
   {
    "duration": 8,
    "start_time": "2023-06-19T22:36:32.548Z"
   },
   {
    "duration": 3576,
    "start_time": "2023-06-19T22:36:32.558Z"
   },
   {
    "duration": 147,
    "start_time": "2023-06-19T22:36:36.135Z"
   },
   {
    "duration": 22,
    "start_time": "2023-06-19T22:36:36.283Z"
   },
   {
    "duration": 89251,
    "start_time": "2023-06-19T22:36:36.312Z"
   },
   {
    "duration": 171,
    "start_time": "2023-06-19T22:38:05.564Z"
   },
   {
    "duration": 6,
    "start_time": "2023-06-19T22:38:05.737Z"
   },
   {
    "duration": 385,
    "start_time": "2023-06-19T22:38:05.745Z"
   },
   {
    "duration": 285,
    "start_time": "2023-06-19T22:38:06.131Z"
   },
   {
    "duration": 14,
    "start_time": "2023-06-19T22:38:06.417Z"
   },
   {
    "duration": 11,
    "start_time": "2023-06-19T22:38:06.432Z"
   },
   {
    "duration": 2678,
    "start_time": "2023-06-19T22:38:06.445Z"
   },
   {
    "duration": 139,
    "start_time": "2023-06-19T22:38:09.125Z"
   },
   {
    "duration": 4914,
    "start_time": "2023-06-19T22:38:09.266Z"
   },
   {
    "duration": 127,
    "start_time": "2023-06-19T22:38:14.209Z"
   },
   {
    "duration": 3633,
    "start_time": "2023-06-19T22:38:14.338Z"
   },
   {
    "duration": 152,
    "start_time": "2023-06-19T22:38:17.973Z"
   },
   {
    "duration": 57817,
    "start_time": "2023-06-19T22:38:18.127Z"
   },
   {
    "duration": 125604,
    "start_time": "2023-06-19T22:39:15.945Z"
   },
   {
    "duration": 87919,
    "start_time": "2023-06-19T22:41:21.553Z"
   },
   {
    "duration": 343,
    "start_time": "2023-06-19T22:42:49.474Z"
   },
   {
    "duration": 500,
    "start_time": "2023-06-19T22:42:49.818Z"
   },
   {
    "duration": 332,
    "start_time": "2023-06-19T22:42:50.320Z"
   },
   {
    "duration": 1442,
    "start_time": "2023-06-20T19:47:55.546Z"
   },
   {
    "duration": 142,
    "start_time": "2023-06-20T19:47:56.992Z"
   },
   {
    "duration": 22,
    "start_time": "2023-06-20T19:47:57.135Z"
   },
   {
    "duration": 103,
    "start_time": "2023-06-20T19:47:57.159Z"
   },
   {
    "duration": 49,
    "start_time": "2023-06-20T19:47:57.264Z"
   },
   {
    "duration": 44,
    "start_time": "2023-06-20T19:47:57.314Z"
   },
   {
    "duration": 15,
    "start_time": "2023-06-20T19:47:57.360Z"
   },
   {
    "duration": 61,
    "start_time": "2023-06-20T19:47:57.376Z"
   },
   {
    "duration": 20,
    "start_time": "2023-06-20T19:47:57.440Z"
   },
   {
    "duration": 300,
    "start_time": "2023-06-20T19:47:57.462Z"
   },
   {
    "duration": 306,
    "start_time": "2023-06-20T19:47:57.764Z"
   },
   {
    "duration": 389,
    "start_time": "2023-06-20T19:47:58.072Z"
   },
   {
    "duration": 320,
    "start_time": "2023-06-20T19:47:58.464Z"
   },
   {
    "duration": 35,
    "start_time": "2023-06-20T19:47:58.786Z"
   },
   {
    "duration": 30,
    "start_time": "2023-06-20T19:47:58.823Z"
   },
   {
    "duration": 104,
    "start_time": "2023-06-20T19:47:58.855Z"
   },
   {
    "duration": 18,
    "start_time": "2023-06-20T19:47:58.961Z"
   },
   {
    "duration": 68,
    "start_time": "2023-06-20T19:47:58.981Z"
   },
   {
    "duration": 22,
    "start_time": "2023-06-20T19:47:59.051Z"
   },
   {
    "duration": 16,
    "start_time": "2023-06-20T19:47:59.075Z"
   },
   {
    "duration": 75,
    "start_time": "2023-06-20T19:47:59.093Z"
   },
   {
    "duration": 9,
    "start_time": "2023-06-20T19:47:59.170Z"
   },
   {
    "duration": 3971,
    "start_time": "2023-06-20T19:47:59.181Z"
   },
   {
    "duration": 213,
    "start_time": "2023-06-20T19:48:03.154Z"
   },
   {
    "duration": 9,
    "start_time": "2023-06-20T19:48:03.370Z"
   },
   {
    "duration": 95849,
    "start_time": "2023-06-20T19:48:03.380Z"
   },
   {
    "duration": 147,
    "start_time": "2023-06-20T19:49:39.230Z"
   },
   {
    "duration": 8,
    "start_time": "2023-06-20T19:49:39.378Z"
   },
   {
    "duration": 393,
    "start_time": "2023-06-20T19:49:39.387Z"
   },
   {
    "duration": 278,
    "start_time": "2023-06-20T19:49:39.782Z"
   },
   {
    "duration": 18,
    "start_time": "2023-06-20T19:49:40.062Z"
   },
   {
    "duration": 57,
    "start_time": "2023-06-20T19:49:40.082Z"
   },
   {
    "duration": 3100,
    "start_time": "2023-06-20T19:49:40.149Z"
   },
   {
    "duration": 123,
    "start_time": "2023-06-20T19:49:43.250Z"
   },
   {
    "duration": 5873,
    "start_time": "2023-06-20T19:49:43.375Z"
   },
   {
    "duration": 129,
    "start_time": "2023-06-20T19:49:49.250Z"
   },
   {
    "duration": 4224,
    "start_time": "2023-06-20T19:49:49.381Z"
   },
   {
    "duration": 168,
    "start_time": "2023-06-20T19:49:53.606Z"
   },
   {
    "duration": 62770,
    "start_time": "2023-06-20T19:49:53.775Z"
   },
   {
    "duration": 134780,
    "start_time": "2023-06-20T19:50:56.549Z"
   },
   {
    "duration": 99029,
    "start_time": "2023-06-20T19:53:11.340Z"
   },
   {
    "duration": 386,
    "start_time": "2023-06-20T19:54:50.370Z"
   },
   {
    "duration": 462,
    "start_time": "2023-06-20T19:54:50.758Z"
   },
   {
    "duration": 397,
    "start_time": "2023-06-20T19:54:51.221Z"
   },
   {
    "duration": 130,
    "start_time": "2023-06-20T20:22:07.999Z"
   },
   {
    "duration": 3,
    "start_time": "2023-06-20T20:22:14.572Z"
   },
   {
    "duration": 214,
    "start_time": "2023-06-20T20:22:27.929Z"
   },
   {
    "duration": 19,
    "start_time": "2023-06-20T20:23:59.326Z"
   },
   {
    "duration": 29,
    "start_time": "2023-06-20T20:26:25.538Z"
   },
   {
    "duration": 52,
    "start_time": "2023-06-20T20:26:47.929Z"
   },
   {
    "duration": 228,
    "start_time": "2023-06-20T20:27:59.717Z"
   },
   {
    "duration": 58,
    "start_time": "2023-06-20T20:28:21.951Z"
   },
   {
    "duration": 212,
    "start_time": "2023-06-20T20:28:33.825Z"
   },
   {
    "duration": 51,
    "start_time": "2023-06-20T20:28:49.270Z"
   },
   {
    "duration": 104,
    "start_time": "2023-06-20T20:29:02.140Z"
   },
   {
    "duration": 261,
    "start_time": "2023-06-20T20:29:12.226Z"
   },
   {
    "duration": 409,
    "start_time": "2023-06-20T20:29:23.826Z"
   },
   {
    "duration": 63,
    "start_time": "2023-06-20T20:31:33.774Z"
   },
   {
    "duration": 1625,
    "start_time": "2023-06-20T20:38:27.461Z"
   },
   {
    "duration": 95,
    "start_time": "2023-06-20T20:38:29.089Z"
   },
   {
    "duration": 43,
    "start_time": "2023-06-20T20:38:29.185Z"
   },
   {
    "duration": 158,
    "start_time": "2023-06-20T20:38:29.230Z"
   },
   {
    "duration": 67,
    "start_time": "2023-06-20T20:38:29.390Z"
   },
   {
    "duration": 15,
    "start_time": "2023-06-20T20:38:29.459Z"
   },
   {
    "duration": 14,
    "start_time": "2023-06-20T20:38:29.475Z"
   },
   {
    "duration": 51,
    "start_time": "2023-06-20T20:38:29.491Z"
   },
   {
    "duration": 37,
    "start_time": "2023-06-20T20:38:29.543Z"
   },
   {
    "duration": 360,
    "start_time": "2023-06-20T20:38:29.583Z"
   },
   {
    "duration": 339,
    "start_time": "2023-06-20T20:38:29.947Z"
   },
   {
    "duration": 457,
    "start_time": "2023-06-20T20:38:30.287Z"
   },
   {
    "duration": 380,
    "start_time": "2023-06-20T20:38:30.746Z"
   },
   {
    "duration": 35,
    "start_time": "2023-06-20T20:38:31.127Z"
   },
   {
    "duration": 45,
    "start_time": "2023-06-20T20:38:31.164Z"
   },
   {
    "duration": 167,
    "start_time": "2023-06-20T20:38:31.211Z"
   },
   {
    "duration": 17,
    "start_time": "2023-06-20T20:38:31.380Z"
   },
   {
    "duration": 83,
    "start_time": "2023-06-20T20:38:31.398Z"
   },
   {
    "duration": 102,
    "start_time": "2023-06-20T20:38:31.482Z"
   },
   {
    "duration": 77,
    "start_time": "2023-06-20T20:38:31.585Z"
   },
   {
    "duration": 110,
    "start_time": "2023-06-20T20:38:31.664Z"
   },
   {
    "duration": 15,
    "start_time": "2023-06-20T20:38:31.776Z"
   },
   {
    "duration": 4344,
    "start_time": "2023-06-20T20:38:31.792Z"
   },
   {
    "duration": 188,
    "start_time": "2023-06-20T20:38:36.141Z"
   },
   {
    "duration": 14,
    "start_time": "2023-06-20T20:38:36.342Z"
   },
   {
    "duration": 96295,
    "start_time": "2023-06-20T20:38:36.358Z"
   },
   {
    "duration": 173,
    "start_time": "2023-06-20T20:40:12.655Z"
   },
   {
    "duration": 11,
    "start_time": "2023-06-20T20:40:12.831Z"
   },
   {
    "duration": 705,
    "start_time": "2023-06-20T20:40:12.845Z"
   },
   {
    "duration": 10,
    "start_time": "2023-06-20T20:40:13.552Z"
   },
   {
    "duration": 0,
    "start_time": "2023-06-20T20:40:13.564Z"
   },
   {
    "duration": 0,
    "start_time": "2023-06-20T20:40:13.566Z"
   },
   {
    "duration": 0,
    "start_time": "2023-06-20T20:40:13.567Z"
   },
   {
    "duration": 0,
    "start_time": "2023-06-20T20:40:13.568Z"
   },
   {
    "duration": 0,
    "start_time": "2023-06-20T20:40:13.570Z"
   },
   {
    "duration": 0,
    "start_time": "2023-06-20T20:40:13.571Z"
   },
   {
    "duration": 0,
    "start_time": "2023-06-20T20:40:13.572Z"
   },
   {
    "duration": 0,
    "start_time": "2023-06-20T20:40:13.574Z"
   },
   {
    "duration": 0,
    "start_time": "2023-06-20T20:40:13.575Z"
   },
   {
    "duration": 0,
    "start_time": "2023-06-20T20:40:13.576Z"
   },
   {
    "duration": 0,
    "start_time": "2023-06-20T20:40:13.577Z"
   },
   {
    "duration": 0,
    "start_time": "2023-06-20T20:40:13.578Z"
   },
   {
    "duration": 0,
    "start_time": "2023-06-20T20:40:13.579Z"
   },
   {
    "duration": 0,
    "start_time": "2023-06-20T20:40:13.581Z"
   },
   {
    "duration": 0,
    "start_time": "2023-06-20T20:40:13.582Z"
   },
   {
    "duration": 0,
    "start_time": "2023-06-20T20:40:13.583Z"
   },
   {
    "duration": 1551,
    "start_time": "2023-06-20T20:43:18.879Z"
   },
   {
    "duration": 85,
    "start_time": "2023-06-20T20:43:20.432Z"
   },
   {
    "duration": 26,
    "start_time": "2023-06-20T20:43:20.524Z"
   },
   {
    "duration": 127,
    "start_time": "2023-06-20T20:43:20.553Z"
   },
   {
    "duration": 49,
    "start_time": "2023-06-20T20:43:20.681Z"
   },
   {
    "duration": 49,
    "start_time": "2023-06-20T20:43:20.733Z"
   },
   {
    "duration": 17,
    "start_time": "2023-06-20T20:43:20.784Z"
   },
   {
    "duration": 122,
    "start_time": "2023-06-20T20:43:20.802Z"
   },
   {
    "duration": 17,
    "start_time": "2023-06-20T20:43:20.926Z"
   },
   {
    "duration": 343,
    "start_time": "2023-06-20T20:43:20.948Z"
   },
   {
    "duration": 384,
    "start_time": "2023-06-20T20:43:21.293Z"
   },
   {
    "duration": 450,
    "start_time": "2023-06-20T20:43:21.680Z"
   },
   {
    "duration": 380,
    "start_time": "2023-06-20T20:43:22.131Z"
   },
   {
    "duration": 16,
    "start_time": "2023-06-20T20:43:22.513Z"
   },
   {
    "duration": 46,
    "start_time": "2023-06-20T20:43:22.531Z"
   },
   {
    "duration": 117,
    "start_time": "2023-06-20T20:43:22.579Z"
   },
   {
    "duration": 28,
    "start_time": "2023-06-20T20:43:22.698Z"
   },
   {
    "duration": 43,
    "start_time": "2023-06-20T20:43:22.728Z"
   },
   {
    "duration": 20,
    "start_time": "2023-06-20T20:43:22.773Z"
   },
   {
    "duration": 25,
    "start_time": "2023-06-20T20:43:22.794Z"
   },
   {
    "duration": 94,
    "start_time": "2023-06-20T20:43:22.821Z"
   },
   {
    "duration": 35,
    "start_time": "2023-06-20T20:43:22.916Z"
   },
   {
    "duration": 4334,
    "start_time": "2023-06-20T20:43:22.953Z"
   },
   {
    "duration": 160,
    "start_time": "2023-06-20T20:43:27.310Z"
   },
   {
    "duration": 10,
    "start_time": "2023-06-20T20:43:27.472Z"
   },
   {
    "duration": 96318,
    "start_time": "2023-06-20T20:43:27.483Z"
   },
   {
    "duration": 159,
    "start_time": "2023-06-20T20:45:03.802Z"
   },
   {
    "duration": 8,
    "start_time": "2023-06-20T20:45:03.965Z"
   },
   {
    "duration": 670,
    "start_time": "2023-06-20T20:45:03.974Z"
   },
   {
    "duration": 307,
    "start_time": "2023-06-20T20:45:04.646Z"
   },
   {
    "duration": 13,
    "start_time": "2023-06-20T20:45:04.954Z"
   },
   {
    "duration": 36,
    "start_time": "2023-06-20T20:45:04.968Z"
   },
   {
    "duration": 3379,
    "start_time": "2023-06-20T20:45:05.006Z"
   },
   {
    "duration": 126,
    "start_time": "2023-06-20T20:45:08.386Z"
   },
   {
    "duration": 6059,
    "start_time": "2023-06-20T20:45:08.513Z"
   },
   {
    "duration": 179,
    "start_time": "2023-06-20T20:45:14.574Z"
   },
   {
    "duration": 4260,
    "start_time": "2023-06-20T20:45:14.755Z"
   },
   {
    "duration": 155,
    "start_time": "2023-06-20T20:45:19.017Z"
   },
   {
    "duration": 63803,
    "start_time": "2023-06-20T20:45:19.174Z"
   },
   {
    "duration": 135208,
    "start_time": "2023-06-20T20:46:22.999Z"
   },
   {
    "duration": 98525,
    "start_time": "2023-06-20T20:48:38.208Z"
   },
   {
    "duration": 410,
    "start_time": "2023-06-20T20:50:16.735Z"
   },
   {
    "duration": 450,
    "start_time": "2023-06-20T20:50:17.146Z"
   },
   {
    "duration": 389,
    "start_time": "2023-06-20T20:50:17.602Z"
   },
   {
    "duration": 15,
    "start_time": "2023-06-20T20:50:17.993Z"
   },
   {
    "duration": 276,
    "start_time": "2023-06-20T20:50:18.009Z"
   },
   {
    "duration": 1399,
    "start_time": "2023-06-20T21:11:04.936Z"
   },
   {
    "duration": 59,
    "start_time": "2023-06-20T21:11:06.336Z"
   },
   {
    "duration": 22,
    "start_time": "2023-06-20T21:11:06.396Z"
   },
   {
    "duration": 110,
    "start_time": "2023-06-20T21:11:06.420Z"
   },
   {
    "duration": 23,
    "start_time": "2023-06-20T21:11:06.531Z"
   },
   {
    "duration": 23,
    "start_time": "2023-06-20T21:11:06.555Z"
   },
   {
    "duration": 42,
    "start_time": "2023-06-20T21:11:06.580Z"
   },
   {
    "duration": 24,
    "start_time": "2023-06-20T21:11:06.623Z"
   },
   {
    "duration": 11,
    "start_time": "2023-06-20T21:11:06.648Z"
   },
   {
    "duration": 296,
    "start_time": "2023-06-20T21:11:06.661Z"
   },
   {
    "duration": 279,
    "start_time": "2023-06-20T21:11:06.958Z"
   },
   {
    "duration": 342,
    "start_time": "2023-06-20T21:11:07.239Z"
   },
   {
    "duration": 296,
    "start_time": "2023-06-20T21:11:07.582Z"
   },
   {
    "duration": 13,
    "start_time": "2023-06-20T21:11:07.879Z"
   },
   {
    "duration": 136,
    "start_time": "2023-06-20T21:11:07.899Z"
   },
   {
    "duration": 88,
    "start_time": "2023-06-20T21:11:08.036Z"
   },
   {
    "duration": 17,
    "start_time": "2023-06-20T21:11:08.126Z"
   },
   {
    "duration": 29,
    "start_time": "2023-06-20T21:11:08.145Z"
   },
   {
    "duration": 44,
    "start_time": "2023-06-20T21:11:08.176Z"
   },
   {
    "duration": 15,
    "start_time": "2023-06-20T21:11:08.222Z"
   },
   {
    "duration": 78,
    "start_time": "2023-06-20T21:11:08.239Z"
   },
   {
    "duration": 8,
    "start_time": "2023-06-20T21:11:08.319Z"
   },
   {
    "duration": 3443,
    "start_time": "2023-06-20T21:11:08.329Z"
   },
   {
    "duration": 163,
    "start_time": "2023-06-20T21:11:11.774Z"
   },
   {
    "duration": 11,
    "start_time": "2023-06-20T21:11:11.939Z"
   },
   {
    "duration": 87326,
    "start_time": "2023-06-20T21:11:11.952Z"
   },
   {
    "duration": 152,
    "start_time": "2023-06-20T21:12:39.299Z"
   },
   {
    "duration": 6,
    "start_time": "2023-06-20T21:12:39.454Z"
   },
   {
    "duration": 611,
    "start_time": "2023-06-20T21:12:39.462Z"
   },
   {
    "duration": 230,
    "start_time": "2023-06-20T21:12:40.075Z"
   },
   {
    "duration": 18,
    "start_time": "2023-06-20T21:12:40.306Z"
   },
   {
    "duration": 13,
    "start_time": "2023-06-20T21:12:40.326Z"
   },
   {
    "duration": 2713,
    "start_time": "2023-06-20T21:12:40.340Z"
   },
   {
    "duration": 164,
    "start_time": "2023-06-20T21:12:43.055Z"
   },
   {
    "duration": 5239,
    "start_time": "2023-06-20T21:12:43.222Z"
   },
   {
    "duration": 162,
    "start_time": "2023-06-20T21:12:48.462Z"
   },
   {
    "duration": 3703,
    "start_time": "2023-06-20T21:12:48.626Z"
   },
   {
    "duration": 134,
    "start_time": "2023-06-20T21:12:52.330Z"
   },
   {
    "duration": 59151,
    "start_time": "2023-06-20T21:12:52.466Z"
   },
   {
    "duration": 128127,
    "start_time": "2023-06-20T21:13:51.619Z"
   },
   {
    "duration": 95319,
    "start_time": "2023-06-20T21:15:59.749Z"
   },
   {
    "duration": 553,
    "start_time": "2023-06-20T21:17:35.070Z"
   },
   {
    "duration": 420,
    "start_time": "2023-06-20T21:17:35.625Z"
   },
   {
    "duration": 408,
    "start_time": "2023-06-20T21:17:36.047Z"
   },
   {
    "duration": 3,
    "start_time": "2023-06-20T21:17:36.457Z"
   },
   {
    "duration": 467,
    "start_time": "2023-06-20T21:17:36.462Z"
   },
   {
    "duration": 4,
    "start_time": "2023-06-20T21:33:04.083Z"
   },
   {
    "duration": 1302,
    "start_time": "2023-06-20T21:39:54.484Z"
   },
   {
    "duration": 62,
    "start_time": "2023-06-20T21:39:55.788Z"
   },
   {
    "duration": 18,
    "start_time": "2023-06-20T21:39:55.854Z"
   },
   {
    "duration": 131,
    "start_time": "2023-06-20T21:39:55.874Z"
   },
   {
    "duration": 27,
    "start_time": "2023-06-20T21:39:56.007Z"
   },
   {
    "duration": 75,
    "start_time": "2023-06-20T21:39:56.036Z"
   },
   {
    "duration": 82,
    "start_time": "2023-06-20T21:39:56.113Z"
   },
   {
    "duration": 128,
    "start_time": "2023-06-20T21:39:56.196Z"
   },
   {
    "duration": 38,
    "start_time": "2023-06-20T21:39:56.326Z"
   },
   {
    "duration": 287,
    "start_time": "2023-06-20T21:39:56.366Z"
   },
   {
    "duration": 263,
    "start_time": "2023-06-20T21:39:56.655Z"
   },
   {
    "duration": 303,
    "start_time": "2023-06-20T21:39:56.919Z"
   },
   {
    "duration": 281,
    "start_time": "2023-06-20T21:39:57.224Z"
   },
   {
    "duration": 14,
    "start_time": "2023-06-20T21:39:57.507Z"
   },
   {
    "duration": 16,
    "start_time": "2023-06-20T21:39:57.522Z"
   },
   {
    "duration": 106,
    "start_time": "2023-06-20T21:39:57.540Z"
   },
   {
    "duration": 17,
    "start_time": "2023-06-20T21:39:57.648Z"
   },
   {
    "duration": 39,
    "start_time": "2023-06-20T21:39:57.666Z"
   },
   {
    "duration": 17,
    "start_time": "2023-06-20T21:39:57.706Z"
   },
   {
    "duration": 14,
    "start_time": "2023-06-20T21:39:57.724Z"
   },
   {
    "duration": 71,
    "start_time": "2023-06-20T21:39:57.739Z"
   },
   {
    "duration": 8,
    "start_time": "2023-06-20T21:39:57.812Z"
   },
   {
    "duration": 3319,
    "start_time": "2023-06-20T21:39:57.821Z"
   },
   {
    "duration": 136,
    "start_time": "2023-06-20T21:40:01.141Z"
   },
   {
    "duration": 22,
    "start_time": "2023-06-20T21:40:01.278Z"
   },
   {
    "duration": 84372,
    "start_time": "2023-06-20T21:40:01.301Z"
   },
   {
    "duration": 149,
    "start_time": "2023-06-20T21:41:25.676Z"
   },
   {
    "duration": 6,
    "start_time": "2023-06-20T21:41:25.827Z"
   },
   {
    "duration": 565,
    "start_time": "2023-06-20T21:41:25.835Z"
   },
   {
    "duration": 298,
    "start_time": "2023-06-20T21:41:26.401Z"
   },
   {
    "duration": 12,
    "start_time": "2023-06-20T21:41:26.701Z"
   },
   {
    "duration": 10,
    "start_time": "2023-06-20T21:41:26.714Z"
   },
   {
    "duration": 2684,
    "start_time": "2023-06-20T21:41:26.726Z"
   },
   {
    "duration": 132,
    "start_time": "2023-06-20T21:41:29.412Z"
   },
   {
    "duration": 4884,
    "start_time": "2023-06-20T21:41:29.545Z"
   },
   {
    "duration": 136,
    "start_time": "2023-06-20T21:41:34.431Z"
   },
   {
    "duration": 3506,
    "start_time": "2023-06-20T21:41:34.568Z"
   },
   {
    "duration": 138,
    "start_time": "2023-06-20T21:41:38.075Z"
   },
   {
    "duration": 54324,
    "start_time": "2023-06-20T21:41:38.214Z"
   },
   {
    "duration": 117971,
    "start_time": "2023-06-20T21:42:32.540Z"
   },
   {
    "duration": 84620,
    "start_time": "2023-06-20T21:44:30.512Z"
   },
   {
    "duration": 511,
    "start_time": "2023-06-20T21:45:55.134Z"
   },
   {
    "duration": 436,
    "start_time": "2023-06-20T21:45:55.646Z"
   },
   {
    "duration": 358,
    "start_time": "2023-06-20T21:45:56.085Z"
   },
   {
    "duration": 3,
    "start_time": "2023-06-20T21:45:56.445Z"
   },
   {
    "duration": 356,
    "start_time": "2023-06-20T21:45:56.449Z"
   },
   {
    "duration": 0,
    "start_time": "2023-06-20T21:45:56.807Z"
   },
   {
    "duration": 385,
    "start_time": "2023-06-20T21:47:37.611Z"
   },
   {
    "duration": 286,
    "start_time": "2023-06-20T21:47:47.042Z"
   },
   {
    "duration": 349,
    "start_time": "2023-06-20T21:47:59.856Z"
   },
   {
    "duration": 317,
    "start_time": "2023-06-20T21:51:40.429Z"
   },
   {
    "duration": 385,
    "start_time": "2023-06-20T21:52:07.615Z"
   },
   {
    "duration": 280,
    "start_time": "2023-06-20T21:54:53.228Z"
   },
   {
    "duration": 423,
    "start_time": "2023-06-20T21:59:51.411Z"
   },
   {
    "duration": 353,
    "start_time": "2023-06-20T22:00:40.848Z"
   },
   {
    "duration": 309,
    "start_time": "2023-06-20T22:01:53.851Z"
   },
   {
    "duration": 306,
    "start_time": "2023-06-20T22:01:58.902Z"
   },
   {
    "duration": 429,
    "start_time": "2023-06-20T22:02:38.571Z"
   },
   {
    "duration": 351,
    "start_time": "2023-06-20T22:03:29.861Z"
   },
   {
    "duration": 311,
    "start_time": "2023-06-20T22:04:38.796Z"
   },
   {
    "duration": 7,
    "start_time": "2023-06-20T22:17:49.750Z"
   },
   {
    "duration": 7,
    "start_time": "2023-06-20T22:18:27.312Z"
   },
   {
    "duration": 17,
    "start_time": "2023-06-20T22:26:25.316Z"
   },
   {
    "duration": 12,
    "start_time": "2023-06-20T22:27:22.694Z"
   },
   {
    "duration": 289,
    "start_time": "2023-06-20T22:29:52.813Z"
   },
   {
    "duration": 1232,
    "start_time": "2023-06-21T20:40:39.529Z"
   },
   {
    "duration": 58,
    "start_time": "2023-06-21T20:40:40.763Z"
   },
   {
    "duration": 17,
    "start_time": "2023-06-21T20:40:40.822Z"
   },
   {
    "duration": 105,
    "start_time": "2023-06-21T20:40:40.841Z"
   },
   {
    "duration": 21,
    "start_time": "2023-06-21T20:40:40.947Z"
   },
   {
    "duration": 39,
    "start_time": "2023-06-21T20:40:40.970Z"
   },
   {
    "duration": 13,
    "start_time": "2023-06-21T20:40:41.011Z"
   },
   {
    "duration": 23,
    "start_time": "2023-06-21T20:40:41.025Z"
   },
   {
    "duration": 12,
    "start_time": "2023-06-21T20:40:41.049Z"
   },
   {
    "duration": 293,
    "start_time": "2023-06-21T20:40:41.063Z"
   },
   {
    "duration": 297,
    "start_time": "2023-06-21T20:40:41.358Z"
   },
   {
    "duration": 319,
    "start_time": "2023-06-21T20:40:41.656Z"
   },
   {
    "duration": 281,
    "start_time": "2023-06-21T20:40:41.977Z"
   },
   {
    "duration": 13,
    "start_time": "2023-06-21T20:40:42.259Z"
   },
   {
    "duration": 33,
    "start_time": "2023-06-21T20:40:42.274Z"
   },
   {
    "duration": 97,
    "start_time": "2023-06-21T20:40:42.309Z"
   },
   {
    "duration": 19,
    "start_time": "2023-06-21T20:40:42.408Z"
   },
   {
    "duration": 19,
    "start_time": "2023-06-21T20:40:42.429Z"
   },
   {
    "duration": 18,
    "start_time": "2023-06-21T20:40:42.450Z"
   },
   {
    "duration": 13,
    "start_time": "2023-06-21T20:40:42.499Z"
   },
   {
    "duration": 44,
    "start_time": "2023-06-21T20:40:42.513Z"
   },
   {
    "duration": 40,
    "start_time": "2023-06-21T20:40:42.559Z"
   },
   {
    "duration": 3475,
    "start_time": "2023-06-21T20:40:42.601Z"
   },
   {
    "duration": 149,
    "start_time": "2023-06-21T20:40:46.077Z"
   },
   {
    "duration": 9,
    "start_time": "2023-06-21T20:40:46.228Z"
   },
   {
    "duration": 85070,
    "start_time": "2023-06-21T20:40:46.239Z"
   },
   {
    "duration": 146,
    "start_time": "2023-06-21T20:42:11.311Z"
   },
   {
    "duration": 6,
    "start_time": "2023-06-21T20:42:11.460Z"
   },
   {
    "duration": 376,
    "start_time": "2023-06-21T20:42:11.467Z"
   },
   {
    "duration": 257,
    "start_time": "2023-06-21T20:42:11.845Z"
   },
   {
    "duration": 6,
    "start_time": "2023-06-21T20:42:12.103Z"
   },
   {
    "duration": 20,
    "start_time": "2023-06-21T20:42:12.110Z"
   },
   {
    "duration": 18,
    "start_time": "2023-06-21T20:42:12.131Z"
   },
   {
    "duration": 2600,
    "start_time": "2023-06-21T20:42:12.150Z"
   },
   {
    "duration": 136,
    "start_time": "2023-06-21T20:42:14.752Z"
   },
   {
    "duration": 4740,
    "start_time": "2023-06-21T20:42:14.890Z"
   },
   {
    "duration": 129,
    "start_time": "2023-06-21T20:42:19.631Z"
   },
   {
    "duration": 3564,
    "start_time": "2023-06-21T20:42:19.761Z"
   },
   {
    "duration": 139,
    "start_time": "2023-06-21T20:42:23.326Z"
   },
   {
    "duration": 54775,
    "start_time": "2023-06-21T20:42:23.466Z"
   },
   {
    "duration": 120271,
    "start_time": "2023-06-21T20:43:18.242Z"
   },
   {
    "duration": 89291,
    "start_time": "2023-06-21T20:45:18.515Z"
   },
   {
    "duration": 331,
    "start_time": "2023-06-21T20:46:47.808Z"
   },
   {
    "duration": 503,
    "start_time": "2023-06-21T20:46:48.141Z"
   },
   {
    "duration": 396,
    "start_time": "2023-06-21T20:46:48.645Z"
   },
   {
    "duration": 14,
    "start_time": "2023-06-21T20:46:49.042Z"
   },
   {
    "duration": 3,
    "start_time": "2023-06-21T20:46:49.058Z"
   },
   {
    "duration": 312,
    "start_time": "2023-06-21T20:46:49.099Z"
   },
   {
    "duration": 37,
    "start_time": "2023-06-21T20:54:56.685Z"
   },
   {
    "duration": 36,
    "start_time": "2023-06-21T20:55:09.729Z"
   },
   {
    "duration": 4,
    "start_time": "2023-06-21T20:55:35.986Z"
   },
   {
    "duration": 58,
    "start_time": "2023-06-21T20:55:38.649Z"
   },
   {
    "duration": 23,
    "start_time": "2023-06-21T20:55:43.548Z"
   },
   {
    "duration": 89,
    "start_time": "2023-06-21T20:55:47.298Z"
   },
   {
    "duration": 35,
    "start_time": "2023-06-21T20:55:52.238Z"
   },
   {
    "duration": 28,
    "start_time": "2023-06-21T20:56:18.921Z"
   },
   {
    "duration": 79,
    "start_time": "2023-06-21T21:00:08.345Z"
   },
   {
    "duration": 51,
    "start_time": "2023-06-21T21:01:08.152Z"
   },
   {
    "duration": 48,
    "start_time": "2023-06-21T21:01:24.441Z"
   },
   {
    "duration": 80,
    "start_time": "2023-06-21T21:01:32.414Z"
   },
   {
    "duration": 56,
    "start_time": "2023-06-21T21:01:56.999Z"
   },
   {
    "duration": 31,
    "start_time": "2023-06-21T21:05:41.125Z"
   },
   {
    "duration": 5,
    "start_time": "2023-06-21T21:12:12.752Z"
   },
   {
    "duration": 27,
    "start_time": "2023-06-21T21:12:26.648Z"
   },
   {
    "duration": 128,
    "start_time": "2023-06-21T21:12:58.393Z"
   },
   {
    "duration": 35,
    "start_time": "2023-06-21T21:13:06.851Z"
   },
   {
    "duration": 567,
    "start_time": "2023-06-21T21:45:04.122Z"
   },
   {
    "duration": 108,
    "start_time": "2023-06-21T21:49:54.625Z"
   },
   {
    "duration": 96,
    "start_time": "2023-06-21T21:52:41.826Z"
   },
   {
    "duration": 97,
    "start_time": "2023-06-21T21:53:59.557Z"
   },
   {
    "duration": 80,
    "start_time": "2023-06-21T21:54:30.896Z"
   },
   {
    "duration": 82,
    "start_time": "2023-06-21T21:59:26.552Z"
   },
   {
    "duration": 154,
    "start_time": "2023-06-21T22:22:34.879Z"
   },
   {
    "duration": 339,
    "start_time": "2023-06-21T22:24:04.811Z"
   },
   {
    "duration": 104,
    "start_time": "2023-06-21T22:26:27.432Z"
   },
   {
    "duration": 7,
    "start_time": "2023-06-22T13:29:01.723Z"
   },
   {
    "duration": 6,
    "start_time": "2023-06-22T13:30:57.289Z"
   },
   {
    "duration": 140,
    "start_time": "2023-06-22T13:56:30.478Z"
   },
   {
    "duration": 71,
    "start_time": "2023-06-22T13:58:10.252Z"
   },
   {
    "duration": 1444,
    "start_time": "2023-06-22T14:56:55.821Z"
   },
   {
    "duration": 102,
    "start_time": "2023-06-22T14:56:57.267Z"
   },
   {
    "duration": 19,
    "start_time": "2023-06-22T14:56:57.370Z"
   },
   {
    "duration": 151,
    "start_time": "2023-06-22T14:56:57.391Z"
   },
   {
    "duration": 71,
    "start_time": "2023-06-22T14:56:57.546Z"
   },
   {
    "duration": 31,
    "start_time": "2023-06-22T14:56:57.619Z"
   },
   {
    "duration": 25,
    "start_time": "2023-06-22T14:56:57.652Z"
   },
   {
    "duration": 66,
    "start_time": "2023-06-22T14:56:57.680Z"
   },
   {
    "duration": 15,
    "start_time": "2023-06-22T14:56:57.749Z"
   },
   {
    "duration": 387,
    "start_time": "2023-06-22T14:56:57.767Z"
   },
   {
    "duration": 331,
    "start_time": "2023-06-22T14:56:58.156Z"
   },
   {
    "duration": 402,
    "start_time": "2023-06-22T14:56:58.489Z"
   },
   {
    "duration": 381,
    "start_time": "2023-06-22T14:56:58.892Z"
   },
   {
    "duration": 45,
    "start_time": "2023-06-22T14:56:59.276Z"
   },
   {
    "duration": 20,
    "start_time": "2023-06-22T14:56:59.334Z"
   },
   {
    "duration": 112,
    "start_time": "2023-06-22T14:56:59.355Z"
   },
   {
    "duration": 19,
    "start_time": "2023-06-22T14:56:59.469Z"
   },
   {
    "duration": 49,
    "start_time": "2023-06-22T14:56:59.490Z"
   },
   {
    "duration": 31,
    "start_time": "2023-06-22T14:56:59.541Z"
   },
   {
    "duration": 35,
    "start_time": "2023-06-22T14:56:59.574Z"
   },
   {
    "duration": 48,
    "start_time": "2023-06-22T14:56:59.618Z"
   },
   {
    "duration": 13,
    "start_time": "2023-06-22T14:56:59.668Z"
   },
   {
    "duration": 3877,
    "start_time": "2023-06-22T14:56:59.705Z"
   },
   {
    "duration": 180,
    "start_time": "2023-06-22T14:57:03.583Z"
   },
   {
    "duration": 11,
    "start_time": "2023-06-22T14:57:03.764Z"
   },
   {
    "duration": 94268,
    "start_time": "2023-06-22T14:57:03.777Z"
   },
   {
    "duration": 199,
    "start_time": "2023-06-22T14:58:38.047Z"
   },
   {
    "duration": 9,
    "start_time": "2023-06-22T14:58:38.251Z"
   },
   {
    "duration": 344,
    "start_time": "2023-06-22T14:58:38.262Z"
   },
   {
    "duration": 308,
    "start_time": "2023-06-22T14:58:38.608Z"
   },
   {
    "duration": 11,
    "start_time": "2023-06-22T14:58:38.917Z"
   },
   {
    "duration": 25,
    "start_time": "2023-06-22T14:58:38.930Z"
   },
   {
    "duration": 15,
    "start_time": "2023-06-22T14:58:38.957Z"
   },
   {
    "duration": 2991,
    "start_time": "2023-06-22T14:58:38.974Z"
   },
   {
    "duration": 186,
    "start_time": "2023-06-22T14:58:41.967Z"
   },
   {
    "duration": 5684,
    "start_time": "2023-06-22T14:58:42.154Z"
   },
   {
    "duration": 174,
    "start_time": "2023-06-22T14:58:47.842Z"
   },
   {
    "duration": 4123,
    "start_time": "2023-06-22T14:58:48.028Z"
   },
   {
    "duration": 142,
    "start_time": "2023-06-22T14:58:52.152Z"
   },
   {
    "duration": 62477,
    "start_time": "2023-06-22T14:58:52.295Z"
   },
   {
    "duration": 141380,
    "start_time": "2023-06-22T14:59:54.804Z"
   },
   {
    "duration": 115,
    "start_time": "2023-06-22T15:02:16.186Z"
   },
   {
    "duration": 0,
    "start_time": "2023-06-22T15:02:16.305Z"
   },
   {
    "duration": 0,
    "start_time": "2023-06-22T15:02:16.310Z"
   },
   {
    "duration": 0,
    "start_time": "2023-06-22T15:02:16.311Z"
   },
   {
    "duration": 0,
    "start_time": "2023-06-22T15:02:16.318Z"
   },
   {
    "duration": 0,
    "start_time": "2023-06-22T15:02:16.320Z"
   },
   {
    "duration": 0,
    "start_time": "2023-06-22T15:02:16.321Z"
   },
   {
    "duration": 0,
    "start_time": "2023-06-22T15:02:16.322Z"
   },
   {
    "duration": 0,
    "start_time": "2023-06-22T15:02:16.324Z"
   },
   {
    "duration": 102292,
    "start_time": "2023-06-22T15:03:30.044Z"
   },
   {
    "duration": 347,
    "start_time": "2023-06-22T15:05:37.586Z"
   },
   {
    "duration": 501,
    "start_time": "2023-06-22T15:05:40.681Z"
   },
   {
    "duration": 418,
    "start_time": "2023-06-22T15:05:50.427Z"
   },
   {
    "duration": 25,
    "start_time": "2023-06-22T15:05:55.836Z"
   },
   {
    "duration": 7,
    "start_time": "2023-06-22T15:06:00.334Z"
   },
   {
    "duration": 371,
    "start_time": "2023-06-22T15:06:03.839Z"
   },
   {
    "duration": 2065,
    "start_time": "2023-06-23T09:39:38.673Z"
   },
   {
    "duration": 223,
    "start_time": "2023-06-23T09:39:40.741Z"
   },
   {
    "duration": 34,
    "start_time": "2023-06-23T09:39:40.966Z"
   },
   {
    "duration": 144,
    "start_time": "2023-06-23T09:39:41.008Z"
   },
   {
    "duration": 69,
    "start_time": "2023-06-23T09:39:41.155Z"
   },
   {
    "duration": 24,
    "start_time": "2023-06-23T09:39:41.226Z"
   },
   {
    "duration": 23,
    "start_time": "2023-06-23T09:39:41.252Z"
   },
   {
    "duration": 55,
    "start_time": "2023-06-23T09:39:41.302Z"
   },
   {
    "duration": 21,
    "start_time": "2023-06-23T09:39:41.359Z"
   },
   {
    "duration": 458,
    "start_time": "2023-06-23T09:39:41.383Z"
   },
   {
    "duration": 417,
    "start_time": "2023-06-23T09:39:41.843Z"
   },
   {
    "duration": 505,
    "start_time": "2023-06-23T09:39:42.262Z"
   },
   {
    "duration": 470,
    "start_time": "2023-06-23T09:39:42.770Z"
   },
   {
    "duration": 18,
    "start_time": "2023-06-23T09:39:43.242Z"
   },
   {
    "duration": 50,
    "start_time": "2023-06-23T09:39:43.261Z"
   },
   {
    "duration": 149,
    "start_time": "2023-06-23T09:39:43.316Z"
   },
   {
    "duration": 47,
    "start_time": "2023-06-23T09:39:43.467Z"
   },
   {
    "duration": 30,
    "start_time": "2023-06-23T09:39:43.517Z"
   },
   {
    "duration": 28,
    "start_time": "2023-06-23T09:39:43.550Z"
   },
   {
    "duration": 56,
    "start_time": "2023-06-23T09:39:43.581Z"
   },
   {
    "duration": 94,
    "start_time": "2023-06-23T09:39:43.639Z"
   },
   {
    "duration": 20,
    "start_time": "2023-06-23T09:39:43.738Z"
   },
   {
    "duration": 4977,
    "start_time": "2023-06-23T09:39:43.761Z"
   },
   {
    "duration": 220,
    "start_time": "2023-06-23T09:39:48.741Z"
   },
   {
    "duration": 18,
    "start_time": "2023-06-23T09:39:48.963Z"
   },
   {
    "duration": 110787,
    "start_time": "2023-06-23T09:39:48.984Z"
   },
   {
    "duration": 206,
    "start_time": "2023-06-23T09:41:39.773Z"
   },
   {
    "duration": 7,
    "start_time": "2023-06-23T09:41:39.983Z"
   },
   {
    "duration": 531,
    "start_time": "2023-06-23T09:41:40.002Z"
   },
   {
    "duration": 358,
    "start_time": "2023-06-23T09:41:40.535Z"
   },
   {
    "duration": 24,
    "start_time": "2023-06-23T09:41:40.895Z"
   },
   {
    "duration": 23,
    "start_time": "2023-06-23T09:41:40.921Z"
   },
   {
    "duration": 17,
    "start_time": "2023-06-23T09:41:40.946Z"
   },
   {
    "duration": 3660,
    "start_time": "2023-06-23T09:41:40.965Z"
   },
   {
    "duration": 204,
    "start_time": "2023-06-23T09:41:44.628Z"
   },
   {
    "duration": 6398,
    "start_time": "2023-06-23T09:41:44.834Z"
   },
   {
    "duration": 196,
    "start_time": "2023-06-23T09:41:51.234Z"
   },
   {
    "duration": 5132,
    "start_time": "2023-06-23T09:41:51.432Z"
   },
   {
    "duration": 192,
    "start_time": "2023-06-23T09:41:56.566Z"
   },
   {
    "duration": 72095,
    "start_time": "2023-06-23T09:41:56.760Z"
   },
   {
    "duration": 146573,
    "start_time": "2023-06-23T09:43:08.856Z"
   },
   {
    "duration": 112480,
    "start_time": "2023-06-23T09:45:35.431Z"
   },
   {
    "duration": 353,
    "start_time": "2023-06-23T09:47:27.914Z"
   },
   {
    "duration": 490,
    "start_time": "2023-06-23T09:47:28.269Z"
   },
   {
    "duration": 459,
    "start_time": "2023-06-23T09:47:28.760Z"
   },
   {
    "duration": 19,
    "start_time": "2023-06-23T09:47:29.234Z"
   },
   {
    "duration": 10,
    "start_time": "2023-06-23T09:47:29.255Z"
   },
   {
    "duration": 545,
    "start_time": "2023-06-23T09:47:29.267Z"
   },
   {
    "duration": 4,
    "start_time": "2023-06-23T10:29:11.546Z"
   },
   {
    "duration": 1533,
    "start_time": "2023-06-25T10:17:08.886Z"
   },
   {
    "duration": 152,
    "start_time": "2023-06-25T10:17:10.421Z"
   },
   {
    "duration": 21,
    "start_time": "2023-06-25T10:17:10.574Z"
   },
   {
    "duration": 144,
    "start_time": "2023-06-25T10:17:10.598Z"
   },
   {
    "duration": 31,
    "start_time": "2023-06-25T10:17:10.747Z"
   },
   {
    "duration": 15,
    "start_time": "2023-06-25T10:17:10.779Z"
   },
   {
    "duration": 44,
    "start_time": "2023-06-25T10:17:10.796Z"
   },
   {
    "duration": 61,
    "start_time": "2023-06-25T10:17:10.843Z"
   },
   {
    "duration": 14,
    "start_time": "2023-06-25T10:17:10.906Z"
   },
   {
    "duration": 317,
    "start_time": "2023-06-25T10:17:10.922Z"
   },
   {
    "duration": 311,
    "start_time": "2023-06-25T10:17:11.244Z"
   },
   {
    "duration": 386,
    "start_time": "2023-06-25T10:17:11.557Z"
   },
   {
    "duration": 312,
    "start_time": "2023-06-25T10:17:11.948Z"
   },
   {
    "duration": 15,
    "start_time": "2023-06-25T10:17:12.262Z"
   },
   {
    "duration": 19,
    "start_time": "2023-06-25T10:17:12.279Z"
   },
   {
    "duration": 98,
    "start_time": "2023-06-25T10:17:12.333Z"
   },
   {
    "duration": 20,
    "start_time": "2023-06-25T10:17:12.435Z"
   },
   {
    "duration": 21,
    "start_time": "2023-06-25T10:17:12.456Z"
   },
   {
    "duration": 22,
    "start_time": "2023-06-25T10:17:12.479Z"
   },
   {
    "duration": 25,
    "start_time": "2023-06-25T10:17:12.533Z"
   },
   {
    "duration": 146,
    "start_time": "2023-06-25T10:17:12.560Z"
   },
   {
    "duration": 0,
    "start_time": "2023-06-25T10:17:12.708Z"
   },
   {
    "duration": 0,
    "start_time": "2023-06-25T10:17:12.709Z"
   },
   {
    "duration": 0,
    "start_time": "2023-06-25T10:17:12.710Z"
   },
   {
    "duration": 0,
    "start_time": "2023-06-25T10:17:12.711Z"
   },
   {
    "duration": 0,
    "start_time": "2023-06-25T10:17:12.711Z"
   },
   {
    "duration": 0,
    "start_time": "2023-06-25T10:17:12.712Z"
   },
   {
    "duration": 0,
    "start_time": "2023-06-25T10:17:12.714Z"
   },
   {
    "duration": 0,
    "start_time": "2023-06-25T10:17:12.715Z"
   },
   {
    "duration": 0,
    "start_time": "2023-06-25T10:17:12.715Z"
   },
   {
    "duration": 0,
    "start_time": "2023-06-25T10:17:12.716Z"
   },
   {
    "duration": 0,
    "start_time": "2023-06-25T10:17:12.743Z"
   },
   {
    "duration": 0,
    "start_time": "2023-06-25T10:17:12.744Z"
   },
   {
    "duration": 0,
    "start_time": "2023-06-25T10:17:12.744Z"
   },
   {
    "duration": 0,
    "start_time": "2023-06-25T10:17:12.745Z"
   },
   {
    "duration": 0,
    "start_time": "2023-06-25T10:17:12.746Z"
   },
   {
    "duration": 0,
    "start_time": "2023-06-25T10:17:12.746Z"
   },
   {
    "duration": 0,
    "start_time": "2023-06-25T10:17:12.747Z"
   },
   {
    "duration": 0,
    "start_time": "2023-06-25T10:17:12.748Z"
   },
   {
    "duration": 0,
    "start_time": "2023-06-25T10:17:12.751Z"
   },
   {
    "duration": 0,
    "start_time": "2023-06-25T10:17:12.752Z"
   },
   {
    "duration": 0,
    "start_time": "2023-06-25T10:17:12.753Z"
   },
   {
    "duration": 0,
    "start_time": "2023-06-25T10:17:12.754Z"
   },
   {
    "duration": 0,
    "start_time": "2023-06-25T10:17:12.755Z"
   },
   {
    "duration": 0,
    "start_time": "2023-06-25T10:17:12.756Z"
   },
   {
    "duration": 0,
    "start_time": "2023-06-25T10:17:12.758Z"
   },
   {
    "duration": 0,
    "start_time": "2023-06-25T10:17:12.758Z"
   },
   {
    "duration": 0,
    "start_time": "2023-06-25T10:17:12.760Z"
   },
   {
    "duration": 5,
    "start_time": "2023-06-25T10:17:38.550Z"
   },
   {
    "duration": 112,
    "start_time": "2023-06-25T10:17:38.557Z"
   },
   {
    "duration": 19,
    "start_time": "2023-06-25T10:17:38.671Z"
   },
   {
    "duration": 130,
    "start_time": "2023-06-25T10:17:38.692Z"
   },
   {
    "duration": 41,
    "start_time": "2023-06-25T10:17:38.834Z"
   },
   {
    "duration": 15,
    "start_time": "2023-06-25T10:17:38.877Z"
   },
   {
    "duration": 53,
    "start_time": "2023-06-25T10:17:38.894Z"
   },
   {
    "duration": 27,
    "start_time": "2023-06-25T10:17:38.950Z"
   },
   {
    "duration": 23,
    "start_time": "2023-06-25T10:17:38.979Z"
   },
   {
    "duration": 350,
    "start_time": "2023-06-25T10:17:39.005Z"
   },
   {
    "duration": 348,
    "start_time": "2023-06-25T10:17:39.357Z"
   },
   {
    "duration": 487,
    "start_time": "2023-06-25T10:17:39.707Z"
   },
   {
    "duration": 387,
    "start_time": "2023-06-25T10:17:40.197Z"
   },
   {
    "duration": 15,
    "start_time": "2023-06-25T10:17:40.586Z"
   },
   {
    "duration": 54,
    "start_time": "2023-06-25T10:17:40.603Z"
   },
   {
    "duration": 118,
    "start_time": "2023-06-25T10:17:40.659Z"
   },
   {
    "duration": 19,
    "start_time": "2023-06-25T10:17:40.779Z"
   },
   {
    "duration": 56,
    "start_time": "2023-06-25T10:17:40.800Z"
   },
   {
    "duration": 21,
    "start_time": "2023-06-25T10:17:40.858Z"
   },
   {
    "duration": 18,
    "start_time": "2023-06-25T10:17:40.881Z"
   },
   {
    "duration": 37,
    "start_time": "2023-06-25T10:17:40.936Z"
   },
   {
    "duration": 0,
    "start_time": "2023-06-25T10:17:40.976Z"
   },
   {
    "duration": 0,
    "start_time": "2023-06-25T10:17:40.977Z"
   },
   {
    "duration": 0,
    "start_time": "2023-06-25T10:17:40.979Z"
   },
   {
    "duration": 0,
    "start_time": "2023-06-25T10:17:40.981Z"
   },
   {
    "duration": 0,
    "start_time": "2023-06-25T10:17:40.982Z"
   },
   {
    "duration": 0,
    "start_time": "2023-06-25T10:17:40.984Z"
   },
   {
    "duration": 0,
    "start_time": "2023-06-25T10:17:40.985Z"
   },
   {
    "duration": 0,
    "start_time": "2023-06-25T10:17:40.987Z"
   },
   {
    "duration": 0,
    "start_time": "2023-06-25T10:17:40.989Z"
   },
   {
    "duration": 0,
    "start_time": "2023-06-25T10:17:40.990Z"
   },
   {
    "duration": 0,
    "start_time": "2023-06-25T10:17:40.992Z"
   },
   {
    "duration": 0,
    "start_time": "2023-06-25T10:17:40.993Z"
   },
   {
    "duration": 0,
    "start_time": "2023-06-25T10:17:41.033Z"
   },
   {
    "duration": 0,
    "start_time": "2023-06-25T10:17:41.034Z"
   },
   {
    "duration": 0,
    "start_time": "2023-06-25T10:17:41.035Z"
   },
   {
    "duration": 0,
    "start_time": "2023-06-25T10:17:41.037Z"
   },
   {
    "duration": 0,
    "start_time": "2023-06-25T10:17:41.040Z"
   },
   {
    "duration": 0,
    "start_time": "2023-06-25T10:17:41.042Z"
   },
   {
    "duration": 0,
    "start_time": "2023-06-25T10:17:41.043Z"
   },
   {
    "duration": 0,
    "start_time": "2023-06-25T10:17:41.044Z"
   },
   {
    "duration": 0,
    "start_time": "2023-06-25T10:17:41.045Z"
   },
   {
    "duration": 0,
    "start_time": "2023-06-25T10:17:41.046Z"
   },
   {
    "duration": 0,
    "start_time": "2023-06-25T10:17:41.047Z"
   },
   {
    "duration": 0,
    "start_time": "2023-06-25T10:17:41.048Z"
   },
   {
    "duration": 0,
    "start_time": "2023-06-25T10:17:41.049Z"
   },
   {
    "duration": 0,
    "start_time": "2023-06-25T10:17:41.050Z"
   },
   {
    "duration": 0,
    "start_time": "2023-06-25T10:17:41.051Z"
   },
   {
    "duration": 28,
    "start_time": "2023-06-25T10:18:50.706Z"
   },
   {
    "duration": 36,
    "start_time": "2023-06-25T10:20:04.311Z"
   },
   {
    "duration": 24,
    "start_time": "2023-06-25T10:20:19.386Z"
   },
   {
    "duration": 29,
    "start_time": "2023-06-25T10:20:25.871Z"
   },
   {
    "duration": 17,
    "start_time": "2023-06-25T10:22:01.573Z"
   },
   {
    "duration": 32,
    "start_time": "2023-06-25T10:25:45.015Z"
   },
   {
    "duration": 121,
    "start_time": "2023-06-25T10:26:06.190Z"
   },
   {
    "duration": 14,
    "start_time": "2023-06-25T10:26:12.782Z"
   },
   {
    "duration": 5,
    "start_time": "2023-06-25T10:26:18.085Z"
   },
   {
    "duration": 173,
    "start_time": "2023-06-25T10:26:18.092Z"
   },
   {
    "duration": 40,
    "start_time": "2023-06-25T10:26:18.268Z"
   },
   {
    "duration": 176,
    "start_time": "2023-06-25T10:26:18.311Z"
   },
   {
    "duration": 76,
    "start_time": "2023-06-25T10:26:18.489Z"
   },
   {
    "duration": 33,
    "start_time": "2023-06-25T10:26:18.568Z"
   },
   {
    "duration": 19,
    "start_time": "2023-06-25T10:26:18.603Z"
   },
   {
    "duration": 62,
    "start_time": "2023-06-25T10:26:18.624Z"
   },
   {
    "duration": 15,
    "start_time": "2023-06-25T10:26:18.688Z"
   },
   {
    "duration": 383,
    "start_time": "2023-06-25T10:26:18.705Z"
   },
   {
    "duration": 351,
    "start_time": "2023-06-25T10:26:19.091Z"
   },
   {
    "duration": 369,
    "start_time": "2023-06-25T10:26:19.448Z"
   },
   {
    "duration": 645,
    "start_time": "2023-06-25T10:26:19.819Z"
   },
   {
    "duration": 20,
    "start_time": "2023-06-25T10:26:20.468Z"
   },
   {
    "duration": 34,
    "start_time": "2023-06-25T10:26:20.493Z"
   },
   {
    "duration": 136,
    "start_time": "2023-06-25T10:26:20.537Z"
   },
   {
    "duration": 23,
    "start_time": "2023-06-25T10:26:27.299Z"
   },
   {
    "duration": 4,
    "start_time": "2023-06-25T10:27:36.830Z"
   },
   {
    "duration": 27,
    "start_time": "2023-06-25T10:41:18.045Z"
   },
   {
    "duration": 36,
    "start_time": "2023-06-25T10:41:32.427Z"
   },
   {
    "duration": 37,
    "start_time": "2023-06-25T10:41:36.002Z"
   },
   {
    "duration": 18,
    "start_time": "2023-06-25T10:43:37.794Z"
   },
   {
    "duration": 23,
    "start_time": "2023-06-25T10:45:29.251Z"
   },
   {
    "duration": 26,
    "start_time": "2023-06-25T10:49:49.928Z"
   },
   {
    "duration": 8,
    "start_time": "2023-06-25T10:56:55.186Z"
   },
   {
    "duration": 1914,
    "start_time": "2023-06-25T10:56:59.827Z"
   },
   {
    "duration": 149,
    "start_time": "2023-06-25T10:57:08.832Z"
   },
   {
    "duration": 29,
    "start_time": "2023-06-25T11:04:50.133Z"
   },
   {
    "duration": 68252,
    "start_time": "2023-06-25T11:04:52.226Z"
   },
   {
    "duration": 169,
    "start_time": "2023-06-25T11:06:07.529Z"
   },
   {
    "duration": 6,
    "start_time": "2023-06-25T11:09:54.984Z"
   },
   {
    "duration": 282,
    "start_time": "2023-06-25T11:09:58.019Z"
   },
   {
    "duration": 281,
    "start_time": "2023-06-25T11:10:01.190Z"
   },
   {
    "duration": 9,
    "start_time": "2023-06-25T11:10:05.156Z"
   },
   {
    "duration": 118,
    "start_time": "2023-06-25T11:11:18.059Z"
   },
   {
    "duration": 14,
    "start_time": "2023-06-25T11:12:42.793Z"
   },
   {
    "duration": 19,
    "start_time": "2023-06-25T11:12:45.868Z"
   },
   {
    "duration": 1864,
    "start_time": "2023-06-25T11:12:48.777Z"
   },
   {
    "duration": 190,
    "start_time": "2023-06-25T11:12:54.823Z"
   },
   {
    "duration": 2095,
    "start_time": "2023-06-25T11:13:38.661Z"
   },
   {
    "duration": 136,
    "start_time": "2023-06-25T11:13:45.456Z"
   },
   {
    "duration": 1982,
    "start_time": "2023-06-25T11:14:29.460Z"
   },
   {
    "duration": 207,
    "start_time": "2023-06-25T11:14:35.050Z"
   },
   {
    "duration": 46953,
    "start_time": "2023-06-25T11:15:42.353Z"
   },
   {
    "duration": 88022,
    "start_time": "2023-06-25T11:17:34.874Z"
   },
   {
    "duration": 68808,
    "start_time": "2023-06-25T11:20:15.275Z"
   },
   {
    "duration": 291,
    "start_time": "2023-06-25T11:22:12.863Z"
   },
   {
    "duration": 270,
    "start_time": "2023-06-25T11:22:50.741Z"
   },
   {
    "duration": 254,
    "start_time": "2023-06-25T11:23:29.352Z"
   },
   {
    "duration": 15,
    "start_time": "2023-06-25T11:23:34.498Z"
   },
   {
    "duration": 3,
    "start_time": "2023-06-25T11:23:51.787Z"
   },
   {
    "duration": 447,
    "start_time": "2023-06-25T11:24:04.387Z"
   },
   {
    "duration": 9,
    "start_time": "2023-06-25T11:30:54.463Z"
   },
   {
    "duration": 184,
    "start_time": "2023-06-25T11:32:14.979Z"
   },
   {
    "duration": 13,
    "start_time": "2023-06-25T11:32:55.964Z"
   },
   {
    "duration": 14,
    "start_time": "2023-06-25T11:46:01.161Z"
   },
   {
    "duration": 46,
    "start_time": "2023-06-25T11:46:25.271Z"
   },
   {
    "duration": 258,
    "start_time": "2023-06-25T11:46:37.874Z"
   },
   {
    "duration": 10,
    "start_time": "2023-06-25T12:03:17.261Z"
   },
   {
    "duration": 161,
    "start_time": "2023-06-25T12:03:20.074Z"
   },
   {
    "duration": 4,
    "start_time": "2023-06-25T12:07:03.603Z"
   },
   {
    "duration": 115,
    "start_time": "2023-06-25T12:07:03.616Z"
   },
   {
    "duration": 23,
    "start_time": "2023-06-25T12:07:03.739Z"
   },
   {
    "duration": 105,
    "start_time": "2023-06-25T12:07:03.764Z"
   },
   {
    "duration": 28,
    "start_time": "2023-06-25T12:07:03.871Z"
   },
   {
    "duration": 49,
    "start_time": "2023-06-25T12:07:03.901Z"
   },
   {
    "duration": 29,
    "start_time": "2023-06-25T12:07:03.951Z"
   },
   {
    "duration": 25,
    "start_time": "2023-06-25T12:07:03.982Z"
   },
   {
    "duration": 23,
    "start_time": "2023-06-25T12:07:04.009Z"
   },
   {
    "duration": 335,
    "start_time": "2023-06-25T12:07:04.040Z"
   },
   {
    "duration": 347,
    "start_time": "2023-06-25T12:07:04.377Z"
   },
   {
    "duration": 321,
    "start_time": "2023-06-25T12:07:04.726Z"
   },
   {
    "duration": 401,
    "start_time": "2023-06-25T12:07:05.049Z"
   },
   {
    "duration": 15,
    "start_time": "2023-06-25T12:07:05.452Z"
   },
   {
    "duration": 53,
    "start_time": "2023-06-25T12:07:05.469Z"
   },
   {
    "duration": 100,
    "start_time": "2023-06-25T12:07:05.523Z"
   },
   {
    "duration": 29,
    "start_time": "2023-06-25T12:07:05.624Z"
   },
   {
    "duration": 31,
    "start_time": "2023-06-25T12:07:05.656Z"
   },
   {
    "duration": 6,
    "start_time": "2023-06-25T12:07:05.689Z"
   },
   {
    "duration": 23,
    "start_time": "2023-06-25T12:07:05.696Z"
   },
   {
    "duration": 40,
    "start_time": "2023-06-25T12:07:05.721Z"
   },
   {
    "duration": 31,
    "start_time": "2023-06-25T12:07:05.763Z"
   },
   {
    "duration": 54,
    "start_time": "2023-06-25T12:07:05.796Z"
   },
   {
    "duration": 8,
    "start_time": "2023-06-25T12:07:05.852Z"
   },
   {
    "duration": 1697,
    "start_time": "2023-06-25T12:07:05.861Z"
   },
   {
    "duration": 180,
    "start_time": "2023-06-25T12:07:07.560Z"
   },
   {
    "duration": 12,
    "start_time": "2023-06-25T12:07:07.748Z"
   },
   {
    "duration": 63595,
    "start_time": "2023-06-25T12:07:07.762Z"
   },
   {
    "duration": 166,
    "start_time": "2023-06-25T12:08:11.359Z"
   },
   {
    "duration": 21,
    "start_time": "2023-06-25T12:08:11.526Z"
   },
   {
    "duration": 18,
    "start_time": "2023-06-25T12:08:11.549Z"
   },
   {
    "duration": 83,
    "start_time": "2023-06-25T12:08:11.569Z"
   },
   {
    "duration": 357,
    "start_time": "2023-06-25T12:08:11.736Z"
   },
   {
    "duration": 355,
    "start_time": "2023-06-25T12:08:12.095Z"
   },
   {
    "duration": 7,
    "start_time": "2023-06-25T12:08:12.453Z"
   },
   {
    "duration": 19,
    "start_time": "2023-06-25T12:08:12.463Z"
   },
   {
    "duration": 18,
    "start_time": "2023-06-25T12:08:12.484Z"
   },
   {
    "duration": 1591,
    "start_time": "2023-06-25T12:08:12.504Z"
   },
   {
    "duration": 157,
    "start_time": "2023-06-25T12:08:14.096Z"
   },
   {
    "duration": 1884,
    "start_time": "2023-06-25T12:08:14.254Z"
   },
   {
    "duration": 141,
    "start_time": "2023-06-25T12:08:16.139Z"
   },
   {
    "duration": 1767,
    "start_time": "2023-06-25T12:08:16.283Z"
   },
   {
    "duration": 130,
    "start_time": "2023-06-25T12:08:18.051Z"
   },
   {
    "duration": 43967,
    "start_time": "2023-06-25T12:08:18.183Z"
   },
   {
    "duration": 82911,
    "start_time": "2023-06-25T12:09:02.152Z"
   },
   {
    "duration": 67066,
    "start_time": "2023-06-25T12:10:25.068Z"
   },
   {
    "duration": 285,
    "start_time": "2023-06-25T12:11:32.136Z"
   },
   {
    "duration": 309,
    "start_time": "2023-06-25T12:11:32.432Z"
   },
   {
    "duration": 300,
    "start_time": "2023-06-25T12:11:32.748Z"
   },
   {
    "duration": 22,
    "start_time": "2023-06-25T12:11:33.052Z"
   },
   {
    "duration": 23,
    "start_time": "2023-06-25T12:11:33.076Z"
   },
   {
    "duration": 1704,
    "start_time": "2023-06-26T11:25:39.618Z"
   },
   {
    "duration": 107,
    "start_time": "2023-06-26T11:25:41.324Z"
   },
   {
    "duration": 25,
    "start_time": "2023-06-26T11:25:41.432Z"
   },
   {
    "duration": 131,
    "start_time": "2023-06-26T11:25:41.458Z"
   },
   {
    "duration": 64,
    "start_time": "2023-06-26T11:25:41.591Z"
   },
   {
    "duration": 18,
    "start_time": "2023-06-26T11:25:41.656Z"
   },
   {
    "duration": 31,
    "start_time": "2023-06-26T11:25:41.676Z"
   },
   {
    "duration": 51,
    "start_time": "2023-06-26T11:25:41.709Z"
   },
   {
    "duration": 19,
    "start_time": "2023-06-26T11:25:41.763Z"
   },
   {
    "duration": 392,
    "start_time": "2023-06-26T11:25:41.786Z"
   },
   {
    "duration": 443,
    "start_time": "2023-06-26T11:25:42.180Z"
   },
   {
    "duration": 330,
    "start_time": "2023-06-26T11:25:42.625Z"
   },
   {
    "duration": 370,
    "start_time": "2023-06-26T11:25:42.957Z"
   },
   {
    "duration": 26,
    "start_time": "2023-06-26T11:25:43.331Z"
   },
   {
    "duration": 29,
    "start_time": "2023-06-26T11:25:43.359Z"
   },
   {
    "duration": 134,
    "start_time": "2023-06-26T11:25:43.390Z"
   },
   {
    "duration": 36,
    "start_time": "2023-06-26T11:25:43.526Z"
   },
   {
    "duration": 18,
    "start_time": "2023-06-26T11:25:43.564Z"
   },
   {
    "duration": 3,
    "start_time": "2023-06-26T11:25:43.584Z"
   },
   {
    "duration": 6,
    "start_time": "2023-06-26T11:25:43.588Z"
   },
   {
    "duration": 44,
    "start_time": "2023-06-26T11:25:43.595Z"
   },
   {
    "duration": 129,
    "start_time": "2023-06-26T11:25:43.641Z"
   },
   {
    "duration": 0,
    "start_time": "2023-06-26T11:25:43.772Z"
   },
   {
    "duration": 0,
    "start_time": "2023-06-26T11:25:43.774Z"
   },
   {
    "duration": 0,
    "start_time": "2023-06-26T11:25:43.776Z"
   },
   {
    "duration": 0,
    "start_time": "2023-06-26T11:25:43.777Z"
   },
   {
    "duration": 0,
    "start_time": "2023-06-26T11:25:43.778Z"
   },
   {
    "duration": 0,
    "start_time": "2023-06-26T11:25:43.779Z"
   },
   {
    "duration": 0,
    "start_time": "2023-06-26T11:25:43.781Z"
   },
   {
    "duration": 0,
    "start_time": "2023-06-26T11:25:43.782Z"
   },
   {
    "duration": 0,
    "start_time": "2023-06-26T11:25:43.783Z"
   },
   {
    "duration": 0,
    "start_time": "2023-06-26T11:25:43.784Z"
   },
   {
    "duration": 0,
    "start_time": "2023-06-26T11:25:43.785Z"
   },
   {
    "duration": 0,
    "start_time": "2023-06-26T11:25:43.786Z"
   },
   {
    "duration": 0,
    "start_time": "2023-06-26T11:25:43.787Z"
   },
   {
    "duration": 0,
    "start_time": "2023-06-26T11:25:43.788Z"
   },
   {
    "duration": 0,
    "start_time": "2023-06-26T11:25:43.789Z"
   },
   {
    "duration": 0,
    "start_time": "2023-06-26T11:25:43.791Z"
   },
   {
    "duration": 0,
    "start_time": "2023-06-26T11:25:43.791Z"
   },
   {
    "duration": 0,
    "start_time": "2023-06-26T11:25:43.793Z"
   },
   {
    "duration": 0,
    "start_time": "2023-06-26T11:25:43.836Z"
   },
   {
    "duration": 0,
    "start_time": "2023-06-26T11:25:43.838Z"
   },
   {
    "duration": 0,
    "start_time": "2023-06-26T11:25:43.839Z"
   },
   {
    "duration": 0,
    "start_time": "2023-06-26T11:25:43.840Z"
   },
   {
    "duration": 0,
    "start_time": "2023-06-26T11:25:43.840Z"
   },
   {
    "duration": 0,
    "start_time": "2023-06-26T11:25:43.841Z"
   },
   {
    "duration": 0,
    "start_time": "2023-06-26T11:25:43.842Z"
   },
   {
    "duration": 0,
    "start_time": "2023-06-26T11:25:43.844Z"
   },
   {
    "duration": 0,
    "start_time": "2023-06-26T11:25:43.844Z"
   },
   {
    "duration": 0,
    "start_time": "2023-06-26T11:25:43.845Z"
   },
   {
    "duration": 0,
    "start_time": "2023-06-26T11:25:43.846Z"
   },
   {
    "duration": 0,
    "start_time": "2023-06-26T11:25:43.848Z"
   },
   {
    "duration": 28,
    "start_time": "2023-06-26T11:27:12.929Z"
   },
   {
    "duration": 1987,
    "start_time": "2023-06-26T11:27:30.097Z"
   },
   {
    "duration": 94,
    "start_time": "2023-06-26T11:27:32.086Z"
   },
   {
    "duration": 18,
    "start_time": "2023-06-26T11:27:32.182Z"
   },
   {
    "duration": 154,
    "start_time": "2023-06-26T11:27:32.201Z"
   },
   {
    "duration": 34,
    "start_time": "2023-06-26T11:27:32.357Z"
   },
   {
    "duration": 49,
    "start_time": "2023-06-26T11:27:32.393Z"
   },
   {
    "duration": 141,
    "start_time": "2023-06-26T11:27:32.450Z"
   },
   {
    "duration": 235,
    "start_time": "2023-06-26T11:27:32.593Z"
   },
   {
    "duration": 52,
    "start_time": "2023-06-26T11:27:32.829Z"
   },
   {
    "duration": 513,
    "start_time": "2023-06-26T11:27:32.882Z"
   },
   {
    "duration": 409,
    "start_time": "2023-06-26T11:27:33.397Z"
   },
   {
    "duration": 334,
    "start_time": "2023-06-26T11:27:33.807Z"
   },
   {
    "duration": 333,
    "start_time": "2023-06-26T11:27:34.150Z"
   },
   {
    "duration": 15,
    "start_time": "2023-06-26T11:27:34.487Z"
   },
   {
    "duration": 42,
    "start_time": "2023-06-26T11:27:34.504Z"
   },
   {
    "duration": 111,
    "start_time": "2023-06-26T11:27:34.548Z"
   },
   {
    "duration": 20,
    "start_time": "2023-06-26T11:27:34.660Z"
   },
   {
    "duration": 34,
    "start_time": "2023-06-26T11:27:34.682Z"
   },
   {
    "duration": 6,
    "start_time": "2023-06-26T11:27:34.717Z"
   },
   {
    "duration": 38,
    "start_time": "2023-06-26T11:27:34.725Z"
   },
   {
    "duration": 42,
    "start_time": "2023-06-26T11:27:34.765Z"
   },
   {
    "duration": 20,
    "start_time": "2023-06-26T11:27:34.808Z"
   },
   {
    "duration": 48,
    "start_time": "2023-06-26T11:27:34.830Z"
   },
   {
    "duration": 9,
    "start_time": "2023-06-26T11:27:34.880Z"
   },
   {
    "duration": 1698,
    "start_time": "2023-06-26T11:27:34.890Z"
   },
   {
    "duration": 147,
    "start_time": "2023-06-26T11:27:36.590Z"
   },
   {
    "duration": 13,
    "start_time": "2023-06-26T11:27:36.740Z"
   },
   {
    "duration": 63220,
    "start_time": "2023-06-26T11:27:36.755Z"
   },
   {
    "duration": 187,
    "start_time": "2023-06-26T11:28:39.977Z"
   },
   {
    "duration": 6,
    "start_time": "2023-06-26T11:28:40.166Z"
   },
   {
    "duration": 27,
    "start_time": "2023-06-26T11:28:40.174Z"
   },
   {
    "duration": 136,
    "start_time": "2023-06-26T11:28:40.203Z"
   },
   {
    "duration": 348,
    "start_time": "2023-06-26T11:28:40.341Z"
   },
   {
    "duration": 251,
    "start_time": "2023-06-26T11:28:40.691Z"
   },
   {
    "duration": 11,
    "start_time": "2023-06-26T11:28:40.943Z"
   },
   {
    "duration": 37,
    "start_time": "2023-06-26T11:28:40.955Z"
   },
   {
    "duration": 13,
    "start_time": "2023-06-26T11:28:40.994Z"
   },
   {
    "duration": 1803,
    "start_time": "2023-06-26T11:28:41.008Z"
   },
   {
    "duration": 137,
    "start_time": "2023-06-26T11:28:42.832Z"
   },
   {
    "duration": 2100,
    "start_time": "2023-06-26T11:28:42.971Z"
   },
   {
    "duration": 142,
    "start_time": "2023-06-26T11:28:45.074Z"
   },
   {
    "duration": 1750,
    "start_time": "2023-06-26T11:28:45.218Z"
   },
   {
    "duration": 150,
    "start_time": "2023-06-26T11:28:46.970Z"
   },
   {
    "duration": 42825,
    "start_time": "2023-06-26T11:28:47.121Z"
   },
   {
    "duration": 80711,
    "start_time": "2023-06-26T11:29:29.949Z"
   },
   {
    "duration": 63229,
    "start_time": "2023-06-26T11:30:50.661Z"
   },
   {
    "duration": 205,
    "start_time": "2023-06-26T11:31:53.892Z"
   },
   {
    "duration": 281,
    "start_time": "2023-06-26T11:31:54.099Z"
   },
   {
    "duration": 202,
    "start_time": "2023-06-26T11:31:54.382Z"
   },
   {
    "duration": 49,
    "start_time": "2023-06-26T11:31:54.586Z"
   },
   {
    "duration": 8,
    "start_time": "2023-06-26T11:31:54.637Z"
   },
   {
    "duration": 306,
    "start_time": "2023-06-26T11:31:54.648Z"
   },
   {
    "duration": 18,
    "start_time": "2023-06-26T12:03:57.400Z"
   },
   {
    "duration": 9,
    "start_time": "2023-06-26T12:04:34.421Z"
   },
   {
    "duration": 50,
    "start_time": "2023-06-26T12:32:19.548Z"
   },
   {
    "duration": 143,
    "start_time": "2023-06-26T12:43:16.204Z"
   },
   {
    "duration": 153,
    "start_time": "2023-06-26T12:43:34.133Z"
   },
   {
    "duration": 157,
    "start_time": "2023-06-26T12:52:10.445Z"
   },
   {
    "duration": 38,
    "start_time": "2023-06-26T12:52:15.821Z"
   },
   {
    "duration": 39,
    "start_time": "2023-06-26T12:53:02.215Z"
   },
   {
    "duration": 38,
    "start_time": "2023-06-26T13:50:33.097Z"
   },
   {
    "duration": 42,
    "start_time": "2023-06-26T13:50:40.591Z"
   },
   {
    "duration": 79,
    "start_time": "2023-06-26T13:57:26.145Z"
   },
   {
    "duration": 284,
    "start_time": "2023-06-26T14:05:40.181Z"
   },
   {
    "duration": 1063,
    "start_time": "2023-06-26T14:06:32.851Z"
   },
   {
    "duration": 150,
    "start_time": "2023-06-26T14:07:15.114Z"
   },
   {
    "duration": 1074,
    "start_time": "2023-06-26T14:07:51.986Z"
   },
   {
    "duration": 726,
    "start_time": "2023-06-26T14:08:07.401Z"
   },
   {
    "duration": 688,
    "start_time": "2023-06-26T14:08:28.839Z"
   },
   {
    "duration": 735,
    "start_time": "2023-06-26T14:08:34.873Z"
   },
   {
    "duration": 707,
    "start_time": "2023-06-26T14:09:56.359Z"
   },
   {
    "duration": 1121,
    "start_time": "2023-06-26T14:10:09.859Z"
   },
   {
    "duration": 1030,
    "start_time": "2023-06-26T14:10:18.847Z"
   },
   {
    "duration": 1062,
    "start_time": "2023-06-26T14:10:26.223Z"
   },
   {
    "duration": 1078,
    "start_time": "2023-06-26T14:10:31.972Z"
   },
   {
    "duration": 1103,
    "start_time": "2023-06-26T14:10:58.846Z"
   },
   {
    "duration": 1042,
    "start_time": "2023-06-26T14:12:11.014Z"
   },
   {
    "duration": 233,
    "start_time": "2023-06-26T14:12:23.061Z"
   },
   {
    "duration": 126,
    "start_time": "2023-06-26T15:47:52.705Z"
   },
   {
    "duration": 1613,
    "start_time": "2023-06-26T15:48:13.790Z"
   },
   {
    "duration": 91,
    "start_time": "2023-06-26T15:48:15.405Z"
   },
   {
    "duration": 35,
    "start_time": "2023-06-26T15:48:15.498Z"
   },
   {
    "duration": 117,
    "start_time": "2023-06-26T15:48:15.535Z"
   },
   {
    "duration": 39,
    "start_time": "2023-06-26T15:48:15.654Z"
   },
   {
    "duration": 46,
    "start_time": "2023-06-26T15:48:15.695Z"
   },
   {
    "duration": 14,
    "start_time": "2023-06-26T15:48:15.742Z"
   },
   {
    "duration": 48,
    "start_time": "2023-06-26T15:48:15.757Z"
   },
   {
    "duration": 17,
    "start_time": "2023-06-26T15:48:15.807Z"
   },
   {
    "duration": 333,
    "start_time": "2023-06-26T15:48:15.831Z"
   },
   {
    "duration": 383,
    "start_time": "2023-06-26T15:48:16.166Z"
   },
   {
    "duration": 302,
    "start_time": "2023-06-26T15:48:16.552Z"
   },
   {
    "duration": 322,
    "start_time": "2023-06-26T15:48:16.856Z"
   },
   {
    "duration": 16,
    "start_time": "2023-06-26T15:48:17.180Z"
   },
   {
    "duration": 36,
    "start_time": "2023-06-26T15:48:17.197Z"
   },
   {
    "duration": 99,
    "start_time": "2023-06-26T15:48:17.234Z"
   },
   {
    "duration": 20,
    "start_time": "2023-06-26T15:48:17.335Z"
   },
   {
    "duration": 15,
    "start_time": "2023-06-26T15:48:17.356Z"
   },
   {
    "duration": 16,
    "start_time": "2023-06-26T15:48:17.372Z"
   },
   {
    "duration": 12,
    "start_time": "2023-06-26T15:48:17.389Z"
   },
   {
    "duration": 28,
    "start_time": "2023-06-26T15:48:17.402Z"
   },
   {
    "duration": 16,
    "start_time": "2023-06-26T15:48:17.432Z"
   },
   {
    "duration": 37,
    "start_time": "2023-06-26T15:48:17.450Z"
   },
   {
    "duration": 8,
    "start_time": "2023-06-26T15:48:17.489Z"
   },
   {
    "duration": 1665,
    "start_time": "2023-06-26T15:48:17.499Z"
   },
   {
    "duration": 144,
    "start_time": "2023-06-26T15:48:19.165Z"
   },
   {
    "duration": 9,
    "start_time": "2023-06-26T15:48:19.311Z"
   },
   {
    "duration": 60401,
    "start_time": "2023-06-26T15:48:19.334Z"
   },
   {
    "duration": 156,
    "start_time": "2023-06-26T15:49:19.737Z"
   },
   {
    "duration": 6,
    "start_time": "2023-06-26T15:49:19.895Z"
   },
   {
    "duration": 16,
    "start_time": "2023-06-26T15:49:19.902Z"
   },
   {
    "duration": 214,
    "start_time": "2023-06-26T15:49:19.919Z"
   },
   {
    "duration": 353,
    "start_time": "2023-06-26T15:49:20.138Z"
   },
   {
    "duration": 290,
    "start_time": "2023-06-26T15:49:20.493Z"
   },
   {
    "duration": 9,
    "start_time": "2023-06-26T15:49:20.785Z"
   },
   {
    "duration": 48,
    "start_time": "2023-06-26T15:49:20.795Z"
   },
   {
    "duration": 18,
    "start_time": "2023-06-26T15:49:20.845Z"
   },
   {
    "duration": 1569,
    "start_time": "2023-06-26T15:49:20.864Z"
   },
   {
    "duration": 129,
    "start_time": "2023-06-26T15:49:22.435Z"
   },
   {
    "duration": 1742,
    "start_time": "2023-06-26T15:49:22.565Z"
   },
   {
    "duration": 140,
    "start_time": "2023-06-26T15:49:24.309Z"
   },
   {
    "duration": 1699,
    "start_time": "2023-06-26T15:49:24.450Z"
   },
   {
    "duration": 138,
    "start_time": "2023-06-26T15:49:26.150Z"
   },
   {
    "duration": 42103,
    "start_time": "2023-06-26T15:49:26.290Z"
   },
   {
    "duration": 78155,
    "start_time": "2023-06-26T15:50:08.394Z"
   },
   {
    "duration": 61693,
    "start_time": "2023-06-26T15:51:26.551Z"
   },
   {
    "duration": 239,
    "start_time": "2023-06-26T15:52:28.247Z"
   },
   {
    "duration": 296,
    "start_time": "2023-06-26T15:52:28.488Z"
   },
   {
    "duration": 221,
    "start_time": "2023-06-26T15:52:28.786Z"
   },
   {
    "duration": 32,
    "start_time": "2023-06-26T15:52:29.009Z"
   },
   {
    "duration": 3,
    "start_time": "2023-06-26T15:52:29.043Z"
   },
   {
    "duration": 43,
    "start_time": "2023-06-26T15:52:29.048Z"
   },
   {
    "duration": 170,
    "start_time": "2023-06-26T15:52:29.093Z"
   },
   {
    "duration": 1577,
    "start_time": "2023-06-27T07:08:59.861Z"
   },
   {
    "duration": 134,
    "start_time": "2023-06-27T07:09:01.440Z"
   },
   {
    "duration": 18,
    "start_time": "2023-06-27T07:09:01.575Z"
   },
   {
    "duration": 122,
    "start_time": "2023-06-27T07:09:01.595Z"
   },
   {
    "duration": 38,
    "start_time": "2023-06-27T07:09:01.719Z"
   },
   {
    "duration": 24,
    "start_time": "2023-06-27T07:09:01.759Z"
   },
   {
    "duration": 36,
    "start_time": "2023-06-27T07:09:01.784Z"
   },
   {
    "duration": 48,
    "start_time": "2023-06-27T07:09:01.821Z"
   },
   {
    "duration": 46,
    "start_time": "2023-06-27T07:09:01.871Z"
   },
   {
    "duration": 342,
    "start_time": "2023-06-27T07:09:01.919Z"
   },
   {
    "duration": 397,
    "start_time": "2023-06-27T07:09:02.263Z"
   },
   {
    "duration": 300,
    "start_time": "2023-06-27T07:09:02.662Z"
   },
   {
    "duration": 317,
    "start_time": "2023-06-27T07:09:02.963Z"
   },
   {
    "duration": 14,
    "start_time": "2023-06-27T07:09:03.283Z"
   },
   {
    "duration": 39,
    "start_time": "2023-06-27T07:09:03.298Z"
   },
   {
    "duration": 136,
    "start_time": "2023-06-27T07:09:03.338Z"
   },
   {
    "duration": 19,
    "start_time": "2023-06-27T07:09:03.475Z"
   },
   {
    "duration": 24,
    "start_time": "2023-06-27T07:09:03.495Z"
   },
   {
    "duration": 13,
    "start_time": "2023-06-27T07:09:03.521Z"
   },
   {
    "duration": 9,
    "start_time": "2023-06-27T07:09:03.535Z"
   },
   {
    "duration": 22,
    "start_time": "2023-06-27T07:09:03.545Z"
   },
   {
    "duration": 17,
    "start_time": "2023-06-27T07:09:03.569Z"
   },
   {
    "duration": 58,
    "start_time": "2023-06-27T07:09:03.588Z"
   },
   {
    "duration": 8,
    "start_time": "2023-06-27T07:09:03.648Z"
   },
   {
    "duration": 1682,
    "start_time": "2023-06-27T07:09:03.657Z"
   },
   {
    "duration": 146,
    "start_time": "2023-06-27T07:09:05.341Z"
   },
   {
    "duration": 10,
    "start_time": "2023-06-27T07:09:05.488Z"
   },
   {
    "duration": 59933,
    "start_time": "2023-06-27T07:09:05.499Z"
   },
   {
    "duration": 149,
    "start_time": "2023-06-27T07:10:05.434Z"
   },
   {
    "duration": 5,
    "start_time": "2023-06-27T07:10:05.585Z"
   },
   {
    "duration": 62,
    "start_time": "2023-06-27T07:10:05.592Z"
   },
   {
    "duration": 85,
    "start_time": "2023-06-27T07:10:05.656Z"
   },
   {
    "duration": 343,
    "start_time": "2023-06-27T07:10:05.836Z"
   },
   {
    "duration": 275,
    "start_time": "2023-06-27T07:10:06.181Z"
   },
   {
    "duration": 8,
    "start_time": "2023-06-27T07:10:06.458Z"
   },
   {
    "duration": 33,
    "start_time": "2023-06-27T07:10:06.468Z"
   },
   {
    "duration": 50,
    "start_time": "2023-06-27T07:10:06.502Z"
   },
   {
    "duration": 1543,
    "start_time": "2023-06-27T07:10:06.554Z"
   },
   {
    "duration": 136,
    "start_time": "2023-06-27T07:10:08.098Z"
   },
   {
    "duration": 1728,
    "start_time": "2023-06-27T07:10:08.236Z"
   },
   {
    "duration": 142,
    "start_time": "2023-06-27T07:10:09.967Z"
   },
   {
    "duration": 1650,
    "start_time": "2023-06-27T07:10:10.111Z"
   },
   {
    "duration": 148,
    "start_time": "2023-06-27T07:10:11.763Z"
   },
   {
    "duration": 41650,
    "start_time": "2023-06-27T07:10:11.913Z"
   },
   {
    "duration": 76007,
    "start_time": "2023-06-27T07:10:53.564Z"
   },
   {
    "duration": 60272,
    "start_time": "2023-06-27T07:12:09.573Z"
   },
   {
    "duration": 245,
    "start_time": "2023-06-27T07:13:09.847Z"
   },
   {
    "duration": 294,
    "start_time": "2023-06-27T07:13:10.094Z"
   },
   {
    "duration": 301,
    "start_time": "2023-06-27T07:13:10.390Z"
   },
   {
    "duration": 42,
    "start_time": "2023-06-27T07:13:10.693Z"
   },
   {
    "duration": 8,
    "start_time": "2023-06-27T07:13:10.737Z"
   },
   {
    "duration": 41,
    "start_time": "2023-06-27T07:13:10.746Z"
   },
   {
    "duration": 152,
    "start_time": "2023-06-27T07:13:10.788Z"
   }
  ],
  "kernelspec": {
   "display_name": "Python 3 (ipykernel)",
   "language": "python",
   "name": "python3"
  },
  "language_info": {
   "codemirror_mode": {
    "name": "ipython",
    "version": 3
   },
   "file_extension": ".py",
   "mimetype": "text/x-python",
   "name": "python",
   "nbconvert_exporter": "python",
   "pygments_lexer": "ipython3",
   "version": "3.9.5"
  },
  "toc": {
   "base_numbering": 1,
   "nav_menu": {},
   "number_sections": true,
   "sideBar": true,
   "skip_h1_title": true,
   "title_cell": "Содержание",
   "title_sidebar": "Contents",
   "toc_cell": true,
   "toc_position": {
    "height": "calc(100% - 180px)",
    "left": "10px",
    "top": "150px",
    "width": "242.194px"
   },
   "toc_section_display": true,
   "toc_window_display": true
  }
 },
 "nbformat": 4,
 "nbformat_minor": 2
}
